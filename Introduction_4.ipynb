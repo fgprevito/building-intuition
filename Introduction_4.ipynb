{
  "nbformat": 4,
  "nbformat_minor": 0,
  "metadata": {
    "colab": {
      "provenance": [],
      "authorship_tag": "ABX9TyO3o9LJvrn+QEopx6DiAnlc",
      "include_colab_link": true
    },
    "kernelspec": {
      "name": "python3",
      "display_name": "Python 3"
    },
    "language_info": {
      "name": "python"
    }
  },
  "cells": [
    {
      "cell_type": "markdown",
      "metadata": {
        "id": "view-in-github",
        "colab_type": "text"
      },
      "source": [
        "<a href=\"https://colab.research.google.com/github/fgprevito/building-intuition/blob/main/Introduction_4.ipynb\" target=\"_parent\"><img src=\"https://colab.research.google.com/assets/colab-badge.svg\" alt=\"Open In Colab\"/></a>"
      ]
    },
    {
      "cell_type": "markdown",
      "source": [
        "Further refining storytelling and data analysis\n",
        "\n",
        "---\n",
        "\n",
        "OBJECTIVE: Learn to think in a high quality way\n",
        "\n",
        "To think in a high quality way = to be capable of reducing my understanding to a mathematical reasoning\n",
        "\n",
        "\n",
        "---\n",
        "\n",
        "\n",
        "In order to develop/demonstrate the ability to mathematically reason my understanding of the world, I'll analyze economic data scraped from the web.\n",
        "\n",
        "What does that mean? I want to be able to derive meaning from the data points. Before I try digging into stories behind the data and making claims about what the data says, I must first question the fundamental assumptions I am making about this data.\n",
        "\n",
        "Do I really understand this data? Can I reduce my understanding of the data to mathematical reasoning? In other words, can I programmatically generate the data in a way that simulates reality reasonably well, and I can easily test to make sure my assumptions holds up in various scenarios?\n",
        "\n",
        "Well lets see\n",
        "\n",
        "\n",
        "---\n",
        "\n",
        "Economics data can be complicated and chaotic with many factors affecting the final numbers we see on an income statement. Instead of trying to comprehend all of it in its entirety, what I can try to do is to understand it as something linear, the simplest mathematic expression I can find to express my understanding of the world, so that I have some level of understanding on how different features relate to each other, and build up my mathematical model from there. In other words I can deduce the model parameters that explain to me how different features relate to each other. But what are the implications of a linear relationship? What does that even mean? That's what I'll attempt to explore here\n",
        "\n",
        "\n",
        "---\n",
        "\n",
        "Ultimately I want to predict some kind of financial output (stock price, net income, etc) using some categorical inputs, starting with these 3:\n",
        "\n",
        "1: Company\n",
        "\n",
        "2: Year\n",
        "\n",
        "3: Sector\n",
        "\n",
        "\n",
        "\n",
        "---"
      ],
      "metadata": {
        "id": "c5sisntJnQfl"
      }
    },
    {
      "cell_type": "code",
      "execution_count": null,
      "metadata": {
        "id": "xsfxK4DfmMQR"
      },
      "outputs": [],
      "source": [
        "import numpy\n",
        "from matplotlib import pyplot"
      ]
    },
    {
      "cell_type": "code",
      "source": [
        "NOISE = 1\n",
        "START_YEAR = 2017\n",
        "NUM_YEARS = 5"
      ],
      "metadata": {
        "id": "4zvraEyeoYWP"
      },
      "execution_count": null,
      "outputs": []
    },
    {
      "cell_type": "code",
      "source": [
        "company = ['Apple', 'Microsoft', 'Exxon', 'Shell']\n",
        "co_map = {x:ii for (ii,x) in enumerate(company)}\n",
        "co_map"
      ],
      "metadata": {
        "colab": {
          "base_uri": "https://localhost:8080/"
        },
        "id": "kJyIlvXhobxu",
        "outputId": "be4aceae-9f52-45ff-e13c-e053d727b158"
      },
      "execution_count": null,
      "outputs": [
        {
          "output_type": "execute_result",
          "data": {
            "text/plain": [
              "{'Apple': 0, 'Microsoft': 1, 'Exxon': 2, 'Shell': 3}"
            ]
          },
          "metadata": {},
          "execution_count": 3
        }
      ]
    },
    {
      "cell_type": "markdown",
      "source": [
        "\n",
        "\n",
        "---\n",
        "\n",
        "I have my input variable now. Now I want to understand the linear relationship it has with my output. How does it affect my output, for it to be linearly correlated with my input?\n",
        "\n",
        "In order to answer this question I'm going to meticulously control the creation of this experiment and test it at various points by changing its parts to see how that affects my experiment, and how different features relate to each other.\n",
        "\n",
        "To start this process off, I'm going to build a design matrix, which can explain the output in terms of the inputs. The design matrix will describe the 'design' of this experiment.\n",
        "\n",
        "---\n",
        "\n"
      ],
      "metadata": {
        "id": "TMxLH98FttrC"
      }
    },
    {
      "cell_type": "code",
      "source": [
        "acc = []\n",
        "\n",
        "for yy in range(START_YEAR, START_YEAR + NUM_YEARS):\n",
        "  for c in company:\n",
        "    new_row = numpy.zeros(len(company), )\n",
        "    new_row[co_map[c]] = 1\n",
        "    acc.append(new_row)\n",
        "\n",
        "design_matrix = numpy.vstack(acc)\n",
        "design_matrix"
      ],
      "metadata": {
        "colab": {
          "base_uri": "https://localhost:8080/"
        },
        "id": "GcKPsLinomF-",
        "outputId": "4053838a-4d6c-4b3e-93ed-e8fe2f2bd2ef"
      },
      "execution_count": null,
      "outputs": [
        {
          "output_type": "execute_result",
          "data": {
            "text/plain": [
              "array([[1., 0., 0., 0.],\n",
              "       [0., 1., 0., 0.],\n",
              "       [0., 0., 1., 0.],\n",
              "       [0., 0., 0., 1.],\n",
              "       [1., 0., 0., 0.],\n",
              "       [0., 1., 0., 0.],\n",
              "       [0., 0., 1., 0.],\n",
              "       [0., 0., 0., 1.],\n",
              "       [1., 0., 0., 0.],\n",
              "       [0., 1., 0., 0.],\n",
              "       [0., 0., 1., 0.],\n",
              "       [0., 0., 0., 1.],\n",
              "       [1., 0., 0., 0.],\n",
              "       [0., 1., 0., 0.],\n",
              "       [0., 0., 1., 0.],\n",
              "       [0., 0., 0., 1.],\n",
              "       [1., 0., 0., 0.],\n",
              "       [0., 1., 0., 0.],\n",
              "       [0., 0., 1., 0.],\n",
              "       [0., 0., 0., 1.]])"
            ]
          },
          "metadata": {},
          "execution_count": 4
        }
      ]
    },
    {
      "cell_type": "code",
      "source": [
        "design_matrix.shape"
      ],
      "metadata": {
        "colab": {
          "base_uri": "https://localhost:8080/"
        },
        "id": "NontPVvNovM5",
        "outputId": "93cb64b9-adfa-46cd-a45d-6805d8124cce"
      },
      "execution_count": null,
      "outputs": [
        {
          "output_type": "execute_result",
          "data": {
            "text/plain": [
              "(20, 4)"
            ]
          },
          "metadata": {},
          "execution_count": 5
        }
      ]
    },
    {
      "cell_type": "markdown",
      "source": [
        "\n",
        "\n",
        "---\n",
        "\n",
        "This next piece, 'actual weights' is going to simulate the true relationship company has with its stock price. AKA, how much each caompny affects the stock price\n",
        "\n",
        "This is the relationship I am trying to find in my data using a linear regression\n",
        "\n",
        "In reality, its probably impossible for me to actually know what this number is for a fact. This is here so I can test things like: how changing my formulas and variables affect how I view reality. How do events that tank my stock price change how my linear model's effectiveness? How close can I get to this number with the tools available in a linear regression? What stops me from being able to uncover this reality?\n",
        "\n",
        "---\n",
        "\n"
      ],
      "metadata": {
        "id": "WuIq5PxMuOXI"
      }
    },
    {
      "cell_type": "code",
      "source": [
        "actual_weights = numpy.random.rand(design_matrix.shape[1])\n",
        "actual_weights"
      ],
      "metadata": {
        "colab": {
          "base_uri": "https://localhost:8080/"
        },
        "id": "hZQrMVCSpMUP",
        "outputId": "27badb44-a136-4096-e013-72452fcc8426"
      },
      "execution_count": null,
      "outputs": [
        {
          "output_type": "execute_result",
          "data": {
            "text/plain": [
              "array([0.03906008, 0.69087053, 0.64625382, 0.7560039 ])"
            ]
          },
          "metadata": {},
          "execution_count": 6
        }
      ]
    },
    {
      "cell_type": "markdown",
      "source": [
        "\n",
        "\n",
        "---\n",
        "\n",
        "These next 2 code blocks will generate what represents the response variable, in this cas: 'stock price'. These are the observation I will use to help train my linear model so that I can recover the true relationship company has with stock price.\n",
        "\n",
        "These would be like the historical stock price data I use to train my model\n",
        "\n",
        "---\n",
        "\n"
      ],
      "metadata": {
        "id": "wla62Ch-uTO3"
      }
    },
    {
      "cell_type": "code",
      "source": [
        "outcomes = numpy.dot(design_matrix, actual_weights)\n",
        "outcomes"
      ],
      "metadata": {
        "colab": {
          "base_uri": "https://localhost:8080/"
        },
        "id": "ErrLg_VHpVcU",
        "outputId": "2b07690f-d1f9-4307-cb0b-89ee56e17917"
      },
      "execution_count": null,
      "outputs": [
        {
          "output_type": "execute_result",
          "data": {
            "text/plain": [
              "array([0.03906008, 0.69087053, 0.64625382, 0.7560039 , 0.03906008,\n",
              "       0.69087053, 0.64625382, 0.7560039 , 0.03906008, 0.69087053,\n",
              "       0.64625382, 0.7560039 , 0.03906008, 0.69087053, 0.64625382,\n",
              "       0.7560039 , 0.03906008, 0.69087053, 0.64625382, 0.7560039 ])"
            ]
          },
          "metadata": {},
          "execution_count": 7
        }
      ]
    },
    {
      "cell_type": "code",
      "source": [
        "outcomes += (numpy.random.rand(outcomes.shape[0]) - .5) * NOISE\n",
        "outcomes"
      ],
      "metadata": {
        "colab": {
          "base_uri": "https://localhost:8080/"
        },
        "id": "kHFnfKqcpfOm",
        "outputId": "f335097b-331c-4e56-f8c7-31e6ff7fb3ae"
      },
      "execution_count": null,
      "outputs": [
        {
          "output_type": "execute_result",
          "data": {
            "text/plain": [
              "array([ 0.53620936,  0.71342152,  0.76445047,  0.95397355,  0.3629059 ,\n",
              "        0.74340826,  0.49254478,  0.44116059,  0.0160644 ,  0.48269814,\n",
              "        0.20764323,  0.30573503, -0.24154828,  0.47845367,  1.07787716,\n",
              "        0.71906423,  0.10479741,  0.4813004 ,  0.33630749,  0.4233091 ])"
            ]
          },
          "metadata": {},
          "execution_count": 8
        }
      ]
    },
    {
      "cell_type": "markdown",
      "source": [
        "\n",
        "\n",
        "---\n",
        "\n",
        "Ordinary Least Squares\n",
        "\n",
        "Now I am going to try and find the best possible value for my regression weights by finding the weights that create a line that most reduces the error between my regression equation and each outcome observation.\n",
        "\n",
        "This next section of code blocks simulates me using the data I know, which are the stock prices + the names of the companies those prices belong to, in order to predict what the relationship between the 2 could be with the least amount of error possible.\n",
        "\n",
        "Each of these code blocks help visualize the calculations that are being made to\n",
        " find this point\n",
        "\n",
        "---\n",
        "\n"
      ],
      "metadata": {
        "id": "yRckP5mBuYnZ"
      }
    },
    {
      "cell_type": "code",
      "source": [
        "# Covariance Matrix\n",
        "\n",
        "numpy.dot(design_matrix.T, design_matrix)"
      ],
      "metadata": {
        "colab": {
          "base_uri": "https://localhost:8080/"
        },
        "id": "Ys0b1oNZpqTb",
        "outputId": "e6bf6895-e702-4041-c925-b3ed08006973"
      },
      "execution_count": null,
      "outputs": [
        {
          "output_type": "execute_result",
          "data": {
            "text/plain": [
              "array([[5., 0., 0., 0.],\n",
              "       [0., 5., 0., 0.],\n",
              "       [0., 0., 5., 0.],\n",
              "       [0., 0., 0., 5.]])"
            ]
          },
          "metadata": {},
          "execution_count": 9
        }
      ]
    },
    {
      "cell_type": "markdown",
      "source": [
        "\n",
        "\n",
        "---\n",
        "\n",
        "\n",
        "Notice, for my covariance matrix the value of the diagonals tend to essentially be summing the number of observations for that column\n",
        "\n",
        "\n",
        "---\n",
        "\n"
      ],
      "metadata": {
        "id": "YyXvuDFJls0l"
      }
    },
    {
      "cell_type": "code",
      "source": [
        "# Precision Matrix\n",
        "\n",
        "numpy.linalg.pinv(numpy.dot(design_matrix.T, design_matrix))"
      ],
      "metadata": {
        "colab": {
          "base_uri": "https://localhost:8080/"
        },
        "id": "0oTYnLvPpynM",
        "outputId": "ead86c24-5907-4ad4-91ea-872d79c26937"
      },
      "execution_count": null,
      "outputs": [
        {
          "output_type": "execute_result",
          "data": {
            "text/plain": [
              "array([[0.2, 0. , 0. , 0. ],\n",
              "       [0. , 0.2, 0. , 0. ],\n",
              "       [0. , 0. , 0.2, 0. ],\n",
              "       [0. , 0. , 0. , 0.2]])"
            ]
          },
          "metadata": {},
          "execution_count": 10
        }
      ]
    },
    {
      "cell_type": "markdown",
      "source": [
        "\n",
        "\n",
        "---\n",
        "\n",
        "Values for the precision matrix's diagonals are just the inverse of covariance\n",
        "\n",
        "---\n",
        "\n"
      ],
      "metadata": {
        "id": "iJlpK0utmC37"
      }
    },
    {
      "cell_type": "code",
      "source": [
        "# Hat Matrix\n",
        "\n",
        "numpy.dot(numpy.linalg.pinv(numpy.dot(design_matrix.T, design_matrix)), design_matrix.T)"
      ],
      "metadata": {
        "colab": {
          "base_uri": "https://localhost:8080/"
        },
        "id": "ZfP5_7eZp4P6",
        "outputId": "feaae409-c803-4031-aa3d-6535bba731c3"
      },
      "execution_count": null,
      "outputs": [
        {
          "output_type": "execute_result",
          "data": {
            "text/plain": [
              "array([[0.2, 0. , 0. , 0. , 0.2, 0. , 0. , 0. , 0.2, 0. , 0. , 0. , 0.2,\n",
              "        0. , 0. , 0. , 0.2, 0. , 0. , 0. ],\n",
              "       [0. , 0.2, 0. , 0. , 0. , 0.2, 0. , 0. , 0. , 0.2, 0. , 0. , 0. ,\n",
              "        0.2, 0. , 0. , 0. , 0.2, 0. , 0. ],\n",
              "       [0. , 0. , 0.2, 0. , 0. , 0. , 0.2, 0. , 0. , 0. , 0.2, 0. , 0. ,\n",
              "        0. , 0.2, 0. , 0. , 0. , 0.2, 0. ],\n",
              "       [0. , 0. , 0. , 0.2, 0. , 0. , 0. , 0.2, 0. , 0. , 0. , 0.2, 0. ,\n",
              "        0. , 0. , 0.2, 0. , 0. , 0. , 0.2]])"
            ]
          },
          "metadata": {},
          "execution_count": 11
        }
      ]
    },
    {
      "cell_type": "markdown",
      "source": [
        "\n",
        "\n",
        "---\n",
        "\n",
        "Takes the inverse and multiplies it by the transpose of the original design matrix\n",
        "\n",
        "---\n",
        "\n"
      ],
      "metadata": {
        "id": "R5FHtditmRw0"
      }
    },
    {
      "cell_type": "code",
      "source": [
        "# OLS\n",
        "\n",
        "pred_weights = numpy.dot(numpy.dot(numpy.linalg.pinv(numpy.dot(design_matrix.T, design_matrix)), design_matrix.T), outcomes)\n",
        "pred_weights"
      ],
      "metadata": {
        "colab": {
          "base_uri": "https://localhost:8080/"
        },
        "id": "PJaMhKCvqEhV",
        "outputId": "7f758781-8302-4d01-edcc-9e18404ddfd4"
      },
      "execution_count": null,
      "outputs": [
        {
          "output_type": "execute_result",
          "data": {
            "text/plain": [
              "array([0.15568576, 0.5798564 , 0.57576462, 0.5686485 ])"
            ]
          },
          "metadata": {},
          "execution_count": 12
        }
      ]
    },
    {
      "cell_type": "markdown",
      "source": [
        "\n",
        "\n",
        "---\n",
        "\n",
        "With no noise, the predicted outcomes will match exactly with the weights for each input observation. This is because the equation right now is effectively y = m(1) + 0, with m being the regression weight\n",
        "\n",
        "---\n",
        "\n"
      ],
      "metadata": {
        "id": "s8Twj77EmmDx"
      }
    },
    {
      "cell_type": "code",
      "source": [
        "pred_outcomes = numpy.dot(design_matrix, pred_weights)\n",
        "pred_outcomes"
      ],
      "metadata": {
        "colab": {
          "base_uri": "https://localhost:8080/"
        },
        "id": "IOP2Z_Vkqpok",
        "outputId": "253412af-0a4f-4740-9087-03314a1670a7"
      },
      "execution_count": null,
      "outputs": [
        {
          "output_type": "execute_result",
          "data": {
            "text/plain": [
              "array([0.15568576, 0.5798564 , 0.57576462, 0.5686485 , 0.15568576,\n",
              "       0.5798564 , 0.57576462, 0.5686485 , 0.15568576, 0.5798564 ,\n",
              "       0.57576462, 0.5686485 , 0.15568576, 0.5798564 , 0.57576462,\n",
              "       0.5686485 , 0.15568576, 0.5798564 , 0.57576462, 0.5686485 ])"
            ]
          },
          "metadata": {},
          "execution_count": 13
        }
      ]
    },
    {
      "cell_type": "code",
      "source": [
        "pyplot.plot([0,1], [0,1], 'r-')\n",
        "pyplot.plot(actual_weights, pred_weights, 'k.')\n",
        "\n",
        "pyplot.xlabel('Actual Weights')\n",
        "pyplot.ylabel('Predicted Weights')"
      ],
      "metadata": {
        "colab": {
          "base_uri": "https://localhost:8080/",
          "height": 467
        },
        "id": "d3R9CmNHqSUu",
        "outputId": "00c35b69-84b7-42f6-87cd-e05c0eb19d8e"
      },
      "execution_count": null,
      "outputs": [
        {
          "output_type": "execute_result",
          "data": {
            "text/plain": [
              "Text(0, 0.5, 'Predicted Weights')"
            ]
          },
          "metadata": {},
          "execution_count": 16
        },
        {
          "output_type": "display_data",
          "data": {
            "text/plain": [
              "<Figure size 640x480 with 1 Axes>"
            ],
            "image/png": "[encoded data removed]"
          },
          "metadata": {}
        }
      ]
    },
    {
      "cell_type": "code",
      "source": [
        "pyplot.plot([0,1], [0,1], 'r-')\n",
        "pyplot.plot(outcomes, pred_outcomes, 'k.')\n",
        "\n",
        "pyplot.xlabel('Actual Outcomes')\n",
        "pyplot.ylabel('Pred Outcomes')"
      ],
      "metadata": {
        "colab": {
          "base_uri": "https://localhost:8080/",
          "height": 467
        },
        "id": "0cmJIqgJzD26",
        "outputId": "a62a2ebe-a959-4b6b-9dce-92b8493d58d3"
      },
      "execution_count": null,
      "outputs": [
        {
          "output_type": "execute_result",
          "data": {
            "text/plain": [
              "Text(0, 0.5, 'Pred Outcomes')"
            ]
          },
          "metadata": {},
          "execution_count": 17
        },
        {
          "output_type": "display_data",
          "data": {
            "text/plain": [
              "<Figure size 640x480 with 1 Axes>"
            ],
            "image/png": "[encoded data removed]"
          },
          "metadata": {}
        }
      ]
    },
    {
      "cell_type": "markdown",
      "source": [
        "\n",
        "\n",
        "---\n",
        "\n",
        "Reflect and Evaluate\n",
        "\n",
        "I've generated some data, attempted to calculate the parameters and predict future outputs, how do I evaluate my attempts? What are some measurements I can take in order to better understand what I can improve or change?\n",
        "\n",
        "That's the purpose of this last section\n",
        "\n",
        "---\n",
        "\n",
        "MSE tells me on average how much my predicted outcomes deviated from the actual outcomes, aka how good of a predictor my model is. In reality it's dangerous for my MSE to be too small bc it is likely I would be overfitting to my training data\n",
        "\n",
        "\n",
        "---\n",
        "\n"
      ],
      "metadata": {
        "id": "NHLWXGm7uvQH"
      }
    },
    {
      "cell_type": "code",
      "source": [
        "# MSE\n",
        "\n",
        "numpy.mean((pred_outcomes - outcomes)**2)"
      ],
      "metadata": {
        "colab": {
          "base_uri": "https://localhost:8080/"
        },
        "id": "2NFbck9gq0Qh",
        "outputId": "951b588b-f4a9-4b96-9536-a25e887ae1b7"
      },
      "execution_count": null,
      "outputs": [
        {
          "output_type": "execute_result",
          "data": {
            "text/plain": [
              "0.060336992879310415"
            ]
          },
          "metadata": {},
          "execution_count": 20
        }
      ]
    },
    {
      "cell_type": "markdown",
      "source": [
        "\n",
        "\n",
        "---\n",
        "\n",
        "How much is the average error on unit per unit basis? How well did my model recover the real relationship?\n",
        "\n",
        "AKA I'm testing how close I was to calculating the true regression weights (the true relationship the company has with the financial output).\n",
        "\n",
        "\n",
        "---\n",
        "\n",
        "\n"
      ],
      "metadata": {
        "id": "j8d6JyVgryn5"
      }
    },
    {
      "cell_type": "code",
      "source": [
        "# ME\n",
        "\n",
        "numpy.mean(actual_weights - pred_weights)"
      ],
      "metadata": {
        "colab": {
          "base_uri": "https://localhost:8080/"
        },
        "id": "izVKmy4ArCXm",
        "outputId": "42a90ef8-3c98-45b2-9034-dd3b44f102d6"
      },
      "execution_count": null,
      "outputs": [
        {
          "output_type": "execute_result",
          "data": {
            "text/plain": [
              "0.06305826227211399"
            ]
          },
          "metadata": {},
          "execution_count": 21
        }
      ]
    },
    {
      "cell_type": "code",
      "source": [
        "# Variance\n",
        "\n",
        "numpy.var(actual_weights - pred_weights)"
      ],
      "metadata": {
        "colab": {
          "base_uri": "https://localhost:8080/"
        },
        "id": "vP5mHsHdrL7k",
        "outputId": "dd916516-fb17-4e78-d1c3-b210cfae5361"
      },
      "execution_count": null,
      "outputs": [
        {
          "output_type": "execute_result",
          "data": {
            "text/plain": [
              "0.01252276970923821"
            ]
          },
          "metadata": {},
          "execution_count": 22
        }
      ]
    },
    {
      "cell_type": "code",
      "source": [
        "# Standard Deviation\n",
        "\n",
        "numpy.std(actual_weights - pred_weights)"
      ],
      "metadata": {
        "colab": {
          "base_uri": "https://localhost:8080/"
        },
        "id": "94MnirEVrP7h",
        "outputId": "3134732e-8f1d-477a-e46e-e116bb4187bb"
      },
      "execution_count": null,
      "outputs": [
        {
          "output_type": "execute_result",
          "data": {
            "text/plain": [
              "0.1119051817801044"
            ]
          },
          "metadata": {},
          "execution_count": 23
        }
      ]
    },
    {
      "cell_type": "markdown",
      "source": [
        "In a way, what I was able to do here was to decompose my understanding of the error in the relationship between company and stock price into 2 components:\n",
        "\n",
        "- Approximation Bias: Difference between the expected value and true value of a parameter\n",
        "\n",
        "- Variance: How sensitive the model is to new data points\n",
        "\n",
        "Bias isn't super important for linear regression since the model instrinsically has high bias and low variance. Once the relationships between inputs and outputs gets more complicated, and less linear, then the question of whether we want to focus on reducing bias or varianc ebecomes more important\n",
        "\n",
        "\n",
        "---\n",
        "\n",
        "Observations:\n",
        "\n",
        "- Increasing NOISE increases my model's intrinsic error rate, which by default increases my model bias and variance.\n",
        "- Increasing number of observations when noise is higher doesn't necessarily help reduce bias and variance"
      ],
      "metadata": {
        "id": "xSJChElCw_kO"
      }
    }
  ]
}