{
  "nbformat": 4,
  "nbformat_minor": 0,
  "metadata": {
    "colab": {
      "provenance": [],
      "authorship_tag": "ABX9TyMCE1Y19J79ebsKJ5Zcrd+t"
    },
    "kernelspec": {
      "name": "python3",
      "display_name": "Python 3"
    },
    "language_info": {
      "name": "python"
    }
  },
  "cells": [
    {
      "cell_type": "code",
      "execution_count": null,
      "metadata": {
        "id": "IqgOkqX_iUlw"
      },
      "outputs": [],
      "source": [
        "import pandas as pd\n",
        "import numpy as np"
      ]
    },
    {
      "cell_type": "markdown",
      "source": [
        "set some constant variables"
      ],
      "metadata": {
        "id": "5f3eLEKkvAOt"
      }
    },
    {
      "cell_type": "code",
      "source": [
        "STOCK_PRICE_MAX = 100\n",
        "NOISE_SCALE = 5"
      ],
      "metadata": {
        "id": "yg4_PmsinXd3"
      },
      "execution_count": null,
      "outputs": []
    },
    {
      "cell_type": "markdown",
      "source": [
        "created a list of companies and then created a data dictionary that designated an integer value for each of my companies\n",
        "- did this so that I can run them numbers through my design matrix\n"
      ],
      "metadata": {
        "id": "c-9R415avDge"
      }
    },
    {
      "cell_type": "code",
      "source": [
        "Company = ['Apple', 'Tesla', 'Microsoft', 'Amazon', 'Avronna', 'Novartis', 'Merck', 'Shell', 'Exxon', 'Chevron']\n",
        "co_map = {x:ii for (ii,x) in enumerate(Company)}\n",
        "print(co_map)"
      ],
      "metadata": {
        "colab": {
          "base_uri": "https://localhost:8080/"
        },
        "id": "GMuytwBjiW_0",
        "outputId": "f5cdc1f1-3744-4766-824f-727ace8e76fc"
      },
      "execution_count": null,
      "outputs": [
        {
          "output_type": "stream",
          "name": "stdout",
          "text": [
            "{'Apple': 0, 'Tesla': 1, 'Microsoft': 2, 'Amazon': 3, 'Avronna': 4, 'Novartis': 5, 'Merck': 6, 'Shell': 7, 'Exxon': 8, 'Chevron': 9}\n"
          ]
        }
      ]
    },
    {
      "cell_type": "markdown",
      "source": [
        "- created an empty list and called it acc\n",
        "- for a range of years, we will select one company per each year\n",
        "- selected co will be 1 non selected co for that year will remain 0"
      ],
      "metadata": {
        "id": "-oULoC3BvR8l"
      }
    },
    {
      "cell_type": "code",
      "source": [
        "acc = []\n",
        "\n",
        "for yy in range(2008, 2008+5):\n",
        "  for c in Company:\n",
        "    new_row = np.zeros((len(Company), ))\n",
        "    new_row[co_map[c]] = 1\n",
        "    acc.append(new_row)"
      ],
      "metadata": {
        "id": "YIE_aTakihgL"
      },
      "execution_count": null,
      "outputs": []
    },
    {
      "cell_type": "markdown",
      "source": [
        "np.vstack will stack our arrays we've just written vertically\n",
        "- basically, with our for loop, within the range of years we selected (number of times we want to reiterate through each company) we ran another for loop that iterates through each company in our comapny list\n",
        "- first our company we create a list of 0s the length of the number of companies in our list\n",
        "- then when we reach the company we currently are iterating through, we set it = to 1\n",
        "- we append that row to our empty list 'acc' and then go to the next company in the same year\n",
        "- once we iterate through all teh companies we move on to the next year and do the same"
      ],
      "metadata": {
        "id": "fcZbN024vmDC"
      }
    },
    {
      "cell_type": "code",
      "source": [
        "design = np.vstack(acc)"
      ],
      "metadata": {
        "id": "7a33YBXij8Iy"
      },
      "execution_count": null,
      "outputs": []
    },
    {
      "cell_type": "markdown",
      "source": [
        "We should expect, for 10 companies over 5 years, that we get an array that has 50 rows and 10 columns\n",
        "- our number of columns was set to a length equalling the number of companies, since after we iterate through 10 companies in 1 year we then move on to the next and go through the 10 companies again\n",
        "- since we iterate through 10 companies 5 times, we should end up with 50 rows, 5 years of data for each of our 10 companies"
      ],
      "metadata": {
        "id": "haWD0EnjxXaX"
      }
    },
    {
      "cell_type": "code",
      "source": [
        "design"
      ],
      "metadata": {
        "colab": {
          "base_uri": "https://localhost:8080/"
        },
        "id": "uq46MvNnkErI",
        "outputId": "081666e4-f531-404a-8122-fc3e7c9cab21"
      },
      "execution_count": null,
      "outputs": [
        {
          "output_type": "execute_result",
          "data": {
            "text/plain": [
              "array([[1., 0., 0., 0., 0., 0., 0., 0., 0., 0.],\n",
              "       [0., 1., 0., 0., 0., 0., 0., 0., 0., 0.],\n",
              "       [0., 0., 1., 0., 0., 0., 0., 0., 0., 0.],\n",
              "       [0., 0., 0., 1., 0., 0., 0., 0., 0., 0.],\n",
              "       [0., 0., 0., 0., 1., 0., 0., 0., 0., 0.],\n",
              "       [0., 0., 0., 0., 0., 1., 0., 0., 0., 0.],\n",
              "       [0., 0., 0., 0., 0., 0., 1., 0., 0., 0.],\n",
              "       [0., 0., 0., 0., 0., 0., 0., 1., 0., 0.],\n",
              "       [0., 0., 0., 0., 0., 0., 0., 0., 1., 0.],\n",
              "       [0., 0., 0., 0., 0., 0., 0., 0., 0., 1.],\n",
              "       [1., 0., 0., 0., 0., 0., 0., 0., 0., 0.],\n",
              "       [0., 1., 0., 0., 0., 0., 0., 0., 0., 0.],\n",
              "       [0., 0., 1., 0., 0., 0., 0., 0., 0., 0.],\n",
              "       [0., 0., 0., 1., 0., 0., 0., 0., 0., 0.],\n",
              "       [0., 0., 0., 0., 1., 0., 0., 0., 0., 0.],\n",
              "       [0., 0., 0., 0., 0., 1., 0., 0., 0., 0.],\n",
              "       [0., 0., 0., 0., 0., 0., 1., 0., 0., 0.],\n",
              "       [0., 0., 0., 0., 0., 0., 0., 1., 0., 0.],\n",
              "       [0., 0., 0., 0., 0., 0., 0., 0., 1., 0.],\n",
              "       [0., 0., 0., 0., 0., 0., 0., 0., 0., 1.],\n",
              "       [1., 0., 0., 0., 0., 0., 0., 0., 0., 0.],\n",
              "       [0., 1., 0., 0., 0., 0., 0., 0., 0., 0.],\n",
              "       [0., 0., 1., 0., 0., 0., 0., 0., 0., 0.],\n",
              "       [0., 0., 0., 1., 0., 0., 0., 0., 0., 0.],\n",
              "       [0., 0., 0., 0., 1., 0., 0., 0., 0., 0.],\n",
              "       [0., 0., 0., 0., 0., 1., 0., 0., 0., 0.],\n",
              "       [0., 0., 0., 0., 0., 0., 1., 0., 0., 0.],\n",
              "       [0., 0., 0., 0., 0., 0., 0., 1., 0., 0.],\n",
              "       [0., 0., 0., 0., 0., 0., 0., 0., 1., 0.],\n",
              "       [0., 0., 0., 0., 0., 0., 0., 0., 0., 1.],\n",
              "       [1., 0., 0., 0., 0., 0., 0., 0., 0., 0.],\n",
              "       [0., 1., 0., 0., 0., 0., 0., 0., 0., 0.],\n",
              "       [0., 0., 1., 0., 0., 0., 0., 0., 0., 0.],\n",
              "       [0., 0., 0., 1., 0., 0., 0., 0., 0., 0.],\n",
              "       [0., 0., 0., 0., 1., 0., 0., 0., 0., 0.],\n",
              "       [0., 0., 0., 0., 0., 1., 0., 0., 0., 0.],\n",
              "       [0., 0., 0., 0., 0., 0., 1., 0., 0., 0.],\n",
              "       [0., 0., 0., 0., 0., 0., 0., 1., 0., 0.],\n",
              "       [0., 0., 0., 0., 0., 0., 0., 0., 1., 0.],\n",
              "       [0., 0., 0., 0., 0., 0., 0., 0., 0., 1.],\n",
              "       [1., 0., 0., 0., 0., 0., 0., 0., 0., 0.],\n",
              "       [0., 1., 0., 0., 0., 0., 0., 0., 0., 0.],\n",
              "       [0., 0., 1., 0., 0., 0., 0., 0., 0., 0.],\n",
              "       [0., 0., 0., 1., 0., 0., 0., 0., 0., 0.],\n",
              "       [0., 0., 0., 0., 1., 0., 0., 0., 0., 0.],\n",
              "       [0., 0., 0., 0., 0., 1., 0., 0., 0., 0.],\n",
              "       [0., 0., 0., 0., 0., 0., 1., 0., 0., 0.],\n",
              "       [0., 0., 0., 0., 0., 0., 0., 1., 0., 0.],\n",
              "       [0., 0., 0., 0., 0., 0., 0., 0., 1., 0.],\n",
              "       [0., 0., 0., 0., 0., 0., 0., 0., 0., 1.]])"
            ]
          },
          "metadata": {},
          "execution_count": 6
        }
      ]
    },
    {
      "cell_type": "code",
      "source": [
        "# check shape of design just to mkae sure\n",
        "\n",
        "design.shape"
      ],
      "metadata": {
        "colab": {
          "base_uri": "https://localhost:8080/"
        },
        "id": "fA4bns73kdec",
        "outputId": "ef4e2fa7-97b4-4ad0-faec-2c482c6038ed"
      },
      "execution_count": null,
      "outputs": [
        {
          "output_type": "execute_result",
          "data": {
            "text/plain": [
              "(50, 10)"
            ]
          },
          "metadata": {},
          "execution_count": 7
        }
      ]
    },
    {
      "cell_type": "code",
      "source": [
        "# Now we want to create our coefficients (weights)\n",
        "# This is how our predictor variables will relate to our result variables\n",
        "\n",
        "# multiplied it by stock price max so we could get some more realistic values between 0 and 100\n",
        "\n",
        "# fake_weights = np.random.rand(design.shape[1]) * STOCK_PRICE_MAX\n",
        "fake_weights = np.random.rand(design.shape[1])"
      ],
      "metadata": {
        "id": "1uNXOzZDkmDw"
      },
      "execution_count": null,
      "outputs": []
    },
    {
      "cell_type": "code",
      "source": [
        "# What are our fake weights? Why did we get these weights?\n",
        "# where did they come from? How were they generated?\n",
        "\n",
        "fake_weights"
      ],
      "metadata": {
        "colab": {
          "base_uri": "https://localhost:8080/"
        },
        "id": "nh8LC0AqkwFt",
        "outputId": "05676168-dfa5-4c89-b646-671ad498acc4"
      },
      "execution_count": null,
      "outputs": [
        {
          "output_type": "execute_result",
          "data": {
            "text/plain": [
              "array([0.871541  , 0.34441759, 0.15363514, 0.1731213 , 0.32763612,\n",
              "       0.73831332, 0.63808943, 0.28086607, 0.26851483, 0.60566187])"
            ]
          },
          "metadata": {},
          "execution_count": 9
        }
      ]
    },
    {
      "cell_type": "code",
      "source": [
        "# Now we take the dot product of our design matrix by our fake_weights\n",
        "# to give the predicted values of our response var for each observations\n",
        "\n",
        "fake_outcomes = np.dot(design, fake_weights)"
      ],
      "metadata": {
        "id": "VfuPaX9XkxPY"
      },
      "execution_count": null,
      "outputs": []
    },
    {
      "cell_type": "code",
      "source": [
        "# Generating random data for me to predict\n",
        "# Right now the data is generated from 0-1. In order to make the data\n",
        "  # more symmetrical we subtract .5 so it goes from -.5 to .5\n",
        "\n",
        "# The noise is our error term, increasing variance and unpredictability\n",
        "\n",
        "#fake_outcomes += (np.random.rand(fake_outcomes.shape[0]) - 0.5 ) * NOISE_SCALE\n",
        "fake_outcomes += np.random.rand(fake_outcomes.shape[0])"
      ],
      "metadata": {
        "id": "G-UyClA5mwJZ"
      },
      "execution_count": null,
      "outputs": []
    },
    {
      "cell_type": "code",
      "source": [
        "np.random.rand(fake_outcomes.shape[0])"
      ],
      "metadata": {
        "colab": {
          "base_uri": "https://localhost:8080/"
        },
        "id": "Wbg7TBtqpuf-",
        "outputId": "0a9bd19f-5c5d-454b-ca7a-de76356149a5"
      },
      "execution_count": null,
      "outputs": [
        {
          "output_type": "execute_result",
          "data": {
            "text/plain": [
              "array([0.19859266, 0.5150527 , 0.98332965, 0.7379807 , 0.63105576,\n",
              "       0.02657087, 0.68653711, 0.70411922, 0.89235242, 0.05526386,\n",
              "       0.58320097, 0.38576394, 0.08636625, 0.81917706, 0.09762182,\n",
              "       0.95914968, 0.45286714, 0.24547549, 0.37411185, 0.12480933,\n",
              "       0.76599087, 0.28228689, 0.67771257, 0.16779706, 0.9396888 ,\n",
              "       0.63117767, 0.73996543, 0.24786669, 0.9090902 , 0.16137201,\n",
              "       0.14982038, 0.82276746, 0.80300912, 0.9167623 , 0.5605077 ,\n",
              "       0.58763867, 0.71882174, 0.60330352, 0.41259153, 0.48246492,\n",
              "       0.82528299, 0.73218751, 0.6167658 , 0.35603778, 0.3105943 ,\n",
              "       0.04969164, 0.98485042, 0.67397698, 0.55215522, 0.94468027])"
            ]
          },
          "metadata": {},
          "execution_count": 12
        }
      ]
    },
    {
      "cell_type": "code",
      "source": [
        "fake_outcomes"
      ],
      "metadata": {
        "colab": {
          "base_uri": "https://localhost:8080/"
        },
        "id": "Pd0W7WSQoLSx",
        "outputId": "70f467b2-3d94-4dc1-e75f-7c3dba5ef007"
      },
      "execution_count": null,
      "outputs": [
        {
          "output_type": "execute_result",
          "data": {
            "text/plain": [
              "array([1.06794478, 0.77117301, 0.5115711 , 0.50966574, 0.88179329,\n",
              "       0.89499196, 1.07251027, 1.20712846, 0.37515877, 1.23727669,\n",
              "       1.41002586, 1.29794504, 0.9075199 , 0.71375696, 1.02744744,\n",
              "       0.80723865, 1.60205628, 0.98551508, 0.77260352, 0.62729513,\n",
              "       1.0461248 , 0.50271316, 0.97883457, 1.0189272 , 0.49102653,\n",
              "       1.37416177, 1.317333  , 1.23116202, 0.46226756, 1.4800565 ,\n",
              "       0.93851475, 0.91114169, 0.81240543, 0.89040398, 1.01660218,\n",
              "       1.72538414, 1.12269434, 0.81018231, 1.10388507, 1.15306342,\n",
              "       1.84797823, 0.88554723, 0.30599413, 0.91722807, 0.8757749 ,\n",
              "       1.11155942, 0.76162358, 1.08321576, 1.17971606, 0.79698184])"
            ]
          },
          "metadata": {},
          "execution_count": 13
        }
      ]
    },
    {
      "cell_type": "code",
      "source": [
        "# this gives us the fake outcome for every tenth value in our matrix (Apple||0)\n",
        "\n",
        "fake_outcomes[::len(Company)]"
      ],
      "metadata": {
        "colab": {
          "base_uri": "https://localhost:8080/"
        },
        "id": "DoQFJytnolO2",
        "outputId": "d129aec2-0251-4b3d-82e7-7fe36227e03c"
      },
      "execution_count": null,
      "outputs": [
        {
          "output_type": "execute_result",
          "data": {
            "text/plain": [
              "array([1.06794478, 1.41002586, 1.0461248 , 0.93851475, 1.84797823])"
            ]
          },
          "metadata": {},
          "execution_count": 14
        }
      ]
    },
    {
      "cell_type": "code",
      "source": [
        "# What is the average of the predicted values for y when company is Apple?\n",
        "\n",
        "np.mean(fake_outcomes[::len(Company)])"
      ],
      "metadata": {
        "colab": {
          "base_uri": "https://localhost:8080/"
        },
        "id": "12KeofXLotE4",
        "outputId": "9a0da823-a79d-429b-860c-84878db62ce9"
      },
      "execution_count": null,
      "outputs": [
        {
          "output_type": "execute_result",
          "data": {
            "text/plain": [
              "1.2621176844139292"
            ]
          },
          "metadata": {},
          "execution_count": 15
        }
      ]
    },
    {
      "cell_type": "markdown",
      "source": [
        "Using linear reg library for now but will do it manually later"
      ],
      "metadata": {
        "id": "APgpTAKrm74T"
      }
    },
    {
      "cell_type": "code",
      "source": [
        "from sklearn.linear_model import LinearRegression"
      ],
      "metadata": {
        "id": "E0SWumTmlOBN"
      },
      "execution_count": null,
      "outputs": []
    },
    {
      "cell_type": "code",
      "source": [
        "mylr = LinearRegression()"
      ],
      "metadata": {
        "id": "ehfQGDKOlwDK"
      },
      "execution_count": null,
      "outputs": []
    },
    {
      "cell_type": "code",
      "source": [
        "mylr.fit(design, fake_outcomes)"
      ],
      "metadata": {
        "colab": {
          "base_uri": "https://localhost:8080/",
          "height": 75
        },
        "id": "04Rha3t0l1D9",
        "outputId": "90e19c02-674f-4e0a-f0d2-62e1fb8335fe"
      },
      "execution_count": null,
      "outputs": [
        {
          "output_type": "execute_result",
          "data": {
            "text/plain": [
              "LinearRegression()"
            ],
            "text/html": [
              "<style>#sk-container-id-1 {color: black;background-color: white;}#sk-container-id-1 pre{padding: 0;}#sk-container-id-1 div.sk-toggleable {background-color: white;}#sk-container-id-1 label.sk-toggleable__label {cursor: pointer;display: block;width: 100%;margin-bottom: 0;padding: 0.3em;box-sizing: border-box;text-align: center;}#sk-container-id-1 label.sk-toggleable__label-arrow:before {content: \"▸\";float: left;margin-right: 0.25em;color: #696969;}#sk-container-id-1 label.sk-toggleable__label-arrow:hover:before {color: black;}#sk-container-id-1 div.sk-estimator:hover label.sk-toggleable__label-arrow:before {color: black;}#sk-container-id-1 div.sk-toggleable__content {max-height: 0;max-width: 0;overflow: hidden;text-align: left;background-color: #f0f8ff;}#sk-container-id-1 div.sk-toggleable__content pre {margin: 0.2em;color: black;border-radius: 0.25em;background-color: #f0f8ff;}#sk-container-id-1 input.sk-toggleable__control:checked~div.sk-toggleable__content {max-height: 200px;max-width: 100%;overflow: auto;}#sk-container-id-1 input.sk-toggleable__control:checked~label.sk-toggleable__label-arrow:before {content: \"▾\";}#sk-container-id-1 div.sk-estimator input.sk-toggleable__control:checked~label.sk-toggleable__label {background-color: #d4ebff;}#sk-container-id-1 div.sk-label input.sk-toggleable__control:checked~label.sk-toggleable__label {background-color: #d4ebff;}#sk-container-id-1 input.sk-hidden--visually {border: 0;clip: rect(1px 1px 1px 1px);clip: rect(1px, 1px, 1px, 1px);height: 1px;margin: -1px;overflow: hidden;padding: 0;position: absolute;width: 1px;}#sk-container-id-1 div.sk-estimator {font-family: monospace;background-color: #f0f8ff;border: 1px dotted black;border-radius: 0.25em;box-sizing: border-box;margin-bottom: 0.5em;}#sk-container-id-1 div.sk-estimator:hover {background-color: #d4ebff;}#sk-container-id-1 div.sk-parallel-item::after {content: \"\";width: 100%;border-bottom: 1px solid gray;flex-grow: 1;}#sk-container-id-1 div.sk-label:hover label.sk-toggleable__label {background-color: #d4ebff;}#sk-container-id-1 div.sk-serial::before {content: \"\";position: absolute;border-left: 1px solid gray;box-sizing: border-box;top: 0;bottom: 0;left: 50%;z-index: 0;}#sk-container-id-1 div.sk-serial {display: flex;flex-direction: column;align-items: center;background-color: white;padding-right: 0.2em;padding-left: 0.2em;position: relative;}#sk-container-id-1 div.sk-item {position: relative;z-index: 1;}#sk-container-id-1 div.sk-parallel {display: flex;align-items: stretch;justify-content: center;background-color: white;position: relative;}#sk-container-id-1 div.sk-item::before, #sk-container-id-1 div.sk-parallel-item::before {content: \"\";position: absolute;border-left: 1px solid gray;box-sizing: border-box;top: 0;bottom: 0;left: 50%;z-index: -1;}#sk-container-id-1 div.sk-parallel-item {display: flex;flex-direction: column;z-index: 1;position: relative;background-color: white;}#sk-container-id-1 div.sk-parallel-item:first-child::after {align-self: flex-end;width: 50%;}#sk-container-id-1 div.sk-parallel-item:last-child::after {align-self: flex-start;width: 50%;}#sk-container-id-1 div.sk-parallel-item:only-child::after {width: 0;}#sk-container-id-1 div.sk-dashed-wrapped {border: 1px dashed gray;margin: 0 0.4em 0.5em 0.4em;box-sizing: border-box;padding-bottom: 0.4em;background-color: white;}#sk-container-id-1 div.sk-label label {font-family: monospace;font-weight: bold;display: inline-block;line-height: 1.2em;}#sk-container-id-1 div.sk-label-container {text-align: center;}#sk-container-id-1 div.sk-container {/* jupyter's `normalize.less` sets `[hidden] { display: none; }` but bootstrap.min.css set `[hidden] { display: none !important; }` so we also need the `!important` here to be able to override the default hidden behavior on the sphinx rendered scikit-learn.org. See: https://github.com/scikit-learn/scikit-learn/issues/21755 */display: inline-block !important;position: relative;}#sk-container-id-1 div.sk-text-repr-fallback {display: none;}</style><div id=\"sk-container-id-1\" class=\"sk-top-container\"><div class=\"sk-text-repr-fallback\"><pre>LinearRegression()</pre><b>In a Jupyter environment, please rerun this cell to show the HTML representation or trust the notebook. <br />On GitHub, the HTML representation is unable to render, please try loading this page with nbviewer.org.</b></div><div class=\"sk-container\" hidden><div class=\"sk-item\"><div class=\"sk-estimator sk-toggleable\"><input class=\"sk-toggleable__control sk-hidden--visually\" id=\"sk-estimator-id-1\" type=\"checkbox\" checked><label for=\"sk-estimator-id-1\" class=\"sk-toggleable__label sk-toggleable__label-arrow\">LinearRegression</label><div class=\"sk-toggleable__content\"><pre>LinearRegression()</pre></div></div></div></div></div>"
            ]
          },
          "metadata": {},
          "execution_count": 18
        }
      ]
    },
    {
      "cell_type": "code",
      "source": [
        "fake_outcomes.shape"
      ],
      "metadata": {
        "colab": {
          "base_uri": "https://localhost:8080/"
        },
        "id": "7J4wZXxRtmI-",
        "outputId": "2104d864-29d4-4805-a895-254d0029c93b"
      },
      "execution_count": null,
      "outputs": [
        {
          "output_type": "execute_result",
          "data": {
            "text/plain": [
              "(50,)"
            ]
          },
          "metadata": {},
          "execution_count": 27
        }
      ]
    },
    {
      "cell_type": "code",
      "source": [
        " mylr.coef_"
      ],
      "metadata": {
        "colab": {
          "base_uri": "https://localhost:8080/"
        },
        "id": "Eo3PUtVRl4qm",
        "outputId": "a5265ebc-84f7-4cef-c2c4-25fdff50c28b"
      },
      "execution_count": null,
      "outputs": [
        {
          "output_type": "execute_result",
          "data": {
            "text/plain": [
              "array([ 0.28545525, -0.10295841, -0.2733974 , -0.16666604, -0.11813357,\n",
              "        0.20600476,  0.19858106,  0.0867783 , -0.19793623,  0.08227228])"
            ]
          },
          "metadata": {},
          "execution_count": 19
        }
      ]
    },
    {
      "cell_type": "code",
      "source": [
        "mylr.intercept_"
      ],
      "metadata": {
        "colab": {
          "base_uri": "https://localhost:8080/"
        },
        "id": "B2VcybOVl7R7",
        "outputId": "efe6a2e4-a764-4167-db3b-ee2813f9f3cb"
      },
      "execution_count": null,
      "outputs": [
        {
          "output_type": "execute_result",
          "data": {
            "text/plain": [
              "0.9766624317603677"
            ]
          },
          "metadata": {},
          "execution_count": 20
        }
      ]
    },
    {
      "cell_type": "code",
      "source": [
        "mylr.coef_ + mylr.intercept_"
      ],
      "metadata": {
        "colab": {
          "base_uri": "https://localhost:8080/"
        },
        "id": "2KscGMR6mAjF",
        "outputId": "294e46e9-d4a2-41c3-a4f0-83630feb4fee"
      },
      "execution_count": null,
      "outputs": [
        {
          "output_type": "execute_result",
          "data": {
            "text/plain": [
              "array([1.26211768, 0.87370403, 0.70326503, 0.80999639, 0.85852886,\n",
              "       1.18266719, 1.1752435 , 1.06344073, 0.7787262 , 1.05893471])"
            ]
          },
          "metadata": {},
          "execution_count": 21
        }
      ]
    },
    {
      "cell_type": "markdown",
      "source": [
        "What we just did:\n",
        "- we had repeated obs for each company a number of times\n",
        "- we perfectly modeled the world as something evident\n",
        "- there was only one factor called company, no random noise\n",
        "- what linear regression does is subtract average value of outcome and fits intercept to that\n",
        "- intercept is something that takes care of how much do i get for free?"
      ],
      "metadata": {
        "id": "DoCNZ1eamJ7p"
      }
    },
    {
      "cell_type": "code",
      "source": [
        "mylr = LinearRegression(fit_intercept=False)\n",
        "\n",
        "mylr.fit(design, fake_outcomes)\n",
        "\n",
        "mylr.coef_"
      ],
      "metadata": {
        "colab": {
          "base_uri": "https://localhost:8080/"
        },
        "id": "Bz_QLV_TmFen",
        "outputId": "3092f1a6-cc12-49a0-bc81-00022320250b"
      },
      "execution_count": null,
      "outputs": [
        {
          "output_type": "execute_result",
          "data": {
            "text/plain": [
              "array([1.26211768, 0.87370403, 0.70326503, 0.80999639, 0.85852886,\n",
              "       1.18266719, 1.1752435 , 1.06344073, 0.7787262 , 1.05893471])"
            ]
          },
          "metadata": {},
          "execution_count": 22
        }
      ]
    },
    {
      "cell_type": "markdown",
      "source": [
        "Interecept is 0 because we said dont fit it\n",
        "- dont fit int means dont pretend you get values for free\n"
      ],
      "metadata": {
        "id": "GHwerk8rmqCq"
      }
    },
    {
      "cell_type": "code",
      "source": [
        "mylr.coef_ - fake_weights"
      ],
      "metadata": {
        "colab": {
          "base_uri": "https://localhost:8080/"
        },
        "id": "sTBWiX42mmRc",
        "outputId": "8517c675-68bc-45e7-aeb7-5c78e77e6d7d"
      },
      "execution_count": null,
      "outputs": [
        {
          "output_type": "execute_result",
          "data": {
            "text/plain": [
              "array([0.39057668, 0.52928644, 0.54962989, 0.63687509, 0.53089274,\n",
              "       0.44435387, 0.53715407, 0.78257466, 0.51021137, 0.45327284])"
            ]
          },
          "metadata": {},
          "execution_count": 23
        }
      ]
    },
    {
      "cell_type": "code",
      "source": [
        "fake_outcomes.reshape(5, len(Company))"
      ],
      "metadata": {
        "colab": {
          "base_uri": "https://localhost:8080/"
        },
        "id": "0vHcd_Lio6xe",
        "outputId": "50c13c93-5968-400c-ba5d-81b763dc3b91"
      },
      "execution_count": null,
      "outputs": [
        {
          "output_type": "execute_result",
          "data": {
            "text/plain": [
              "array([[1.06794478, 0.77117301, 0.5115711 , 0.50966574, 0.88179329,\n",
              "        0.89499196, 1.07251027, 1.20712846, 0.37515877, 1.23727669],\n",
              "       [1.41002586, 1.29794504, 0.9075199 , 0.71375696, 1.02744744,\n",
              "        0.80723865, 1.60205628, 0.98551508, 0.77260352, 0.62729513],\n",
              "       [1.0461248 , 0.50271316, 0.97883457, 1.0189272 , 0.49102653,\n",
              "        1.37416177, 1.317333  , 1.23116202, 0.46226756, 1.4800565 ],\n",
              "       [0.93851475, 0.91114169, 0.81240543, 0.89040398, 1.01660218,\n",
              "        1.72538414, 1.12269434, 0.81018231, 1.10388507, 1.15306342],\n",
              "       [1.84797823, 0.88554723, 0.30599413, 0.91722807, 0.8757749 ,\n",
              "        1.11155942, 0.76162358, 1.08321576, 1.17971606, 0.79698184]])"
            ]
          },
          "metadata": {},
          "execution_count": 24
        }
      ]
    },
    {
      "cell_type": "code",
      "source": [
        "np.mean(fake_outcomes.reshape(5, len(Company)), axis = 0)"
      ],
      "metadata": {
        "colab": {
          "base_uri": "https://localhost:8080/"
        },
        "id": "RzLDcTWspI9j",
        "outputId": "bcb67f78-5f60-4b3b-e600-415e2d76beae"
      },
      "execution_count": null,
      "outputs": [
        {
          "output_type": "execute_result",
          "data": {
            "text/plain": [
              "array([1.26211768, 0.87370403, 0.70326503, 0.80999639, 0.85852886,\n",
              "       1.18266719, 1.1752435 , 1.06344073, 0.7787262 , 1.05893471])"
            ]
          },
          "metadata": {},
          "execution_count": 25
        }
      ]
    },
    {
      "cell_type": "markdown",
      "source": [
        "Why are these numbers the same as my linear regression coef?"
      ],
      "metadata": {
        "id": "fdGIvhdTpt46"
      }
    },
    {
      "cell_type": "markdown",
      "source": [
        "Next: we will make copy of this and add a year factor\n",
        "- years will be shared for everyone (2008 is same 2008 for everyone)"
      ],
      "metadata": {
        "id": "uQpN6WUKpx3M"
      }
    },
    {
      "cell_type": "code",
      "source": [],
      "metadata": {
        "id": "qJ2sePD5pcqR"
      },
      "execution_count": null,
      "outputs": []
    }
  ]
}