{
  "nbformat": 4,
  "nbformat_minor": 0,
  "metadata": {
    "colab": {
      "provenance": [],
      "authorship_tag": "ABX9TyMgrlmtxczuHrc9ZQ/ZIfpW",
      "include_colab_link": true
    },
    "kernelspec": {
      "name": "python3",
      "display_name": "Python 3"
    },
    "language_info": {
      "name": "python"
    }
  },
  "cells": [
    {
      "cell_type": "markdown",
      "metadata": {
        "id": "view-in-github",
        "colab_type": "text"
      },
      "source": [
        "<a href=\"https://colab.research.google.com/github/fgprevito/building-intuition/blob/main/Introduction_3.ipynb\" target=\"_parent\"><img src=\"https://colab.research.google.com/assets/colab-badge.svg\" alt=\"Open In Colab\"/></a>"
      ]
    },
    {
      "cell_type": "markdown",
      "source": [
        "There are few things which we know which aren't capable of being reduced to a mathematical reasoning. And when they cannot, it is a sign that our knowldge of them is very small and confused. Where a math reasoning can be had, it is a great folly to make use of any other type of reasoning, as that would be like groping for a thing in the dark when you have a candle standing by you."
      ],
      "metadata": {
        "id": "9k48u8ejCcbU"
      }
    },
    {
      "cell_type": "markdown",
      "source": [
        "GOAL: Think in a high quality way\n",
        "\n",
        "\n",
        "---\n",
        "\n",
        "\n",
        "To think in a high quality = be able to process reality mathematically\n",
        "\n",
        "The assignment I have been given to be able to train/demonstrate my ability to think in a high quality way is to analyze some economic data I have scraped from the web\n",
        "\n",
        "That said, I recognize that I have a bias heading into this. I haven't gone through the entire process before. I don't actually know what comes after I do this, I only have a vague understanding. This fact may affect my thinking process and how I interpret results and processes\n",
        "\n",
        "The first step to understanding this economic data is to see if I REALLY understand it. Can I reduce my understanding to mathematical reasoning? In other words, can I mathematically generate the data in a way that simulates reality reasonably well, in a way that I can easily manipulate in order to stress test for events that could affect my inputs/outputs?\n",
        "\n",
        "---"
      ],
      "metadata": {
        "id": "gD9gyXmivAfY"
      }
    },
    {
      "cell_type": "markdown",
      "source": [
        "So, I want to prove I understand the data by mathematically reconstructing it. How do I go about this? Well we are going to try and understand it as something linear for now, in other words, the simplest mathematical expression we can find to try and express our knowledge of the world. So how do I go about doing this?\n",
        "\n",
        "Let's look at what I intuitively know about my data right now...\n",
        "\n",
        "\n",
        "---\n",
        "\n",
        "\n",
        "Result: I want to be able to predict some kind of financial output (stock price, net income, etc). The important thing to keep in mind is the nature of the data and in any case, it's going to be some kind of continuous output\n",
        "\n",
        "Inputs: The data I want to be able to predict the financial output with, for now, are 3 categorical variables that consist of:\n",
        "\n",
        "  1: the company\n",
        "\n",
        "  2: the year\n",
        "\n",
        "  3: the sector\n",
        "\n",
        "\n",
        "Summary:\n",
        "I am trying to predict a continuous variable using 3 categorical variables and I am assuming for now the relationship is something linear."
      ],
      "metadata": {
        "id": "JK6LtCDAMi8W"
      }
    },
    {
      "cell_type": "markdown",
      "source": [
        "So I am dealing with (lets say) stock price data as it is affected by 3 factors: The company, the year, and the sector\n",
        "\n",
        "- I'll need to generate data for each of these factors\n",
        "  - The company, year, and sector data are all categorical variables\n",
        "  - Stock price data is a continuous variable\n",
        "\n",
        "With this in mind, I will create a list for the company variable, and test a simple linear regression with 1 input and 1 output, the reason being so that I can begein with the simplest expression through which I can understand the problem at hand, and expanding from there. So, afterwards I will add in more factors for a multiple linear regression."
      ],
      "metadata": {
        "id": "G5YR7S7B9To3"
      }
    },
    {
      "cell_type": "code",
      "execution_count": null,
      "metadata": {
        "id": "7TU-zGC1gu5c"
      },
      "outputs": [],
      "source": [
        "# importing the bare minimum required libraries in order to perform math operations and plot results\n",
        "\n",
        "import numpy\n",
        "from matplotlib import pyplot"
      ]
    },
    {
      "cell_type": "code",
      "source": [
        "# setting up some constants that I can change to easily test my models/data with\n",
        "\n",
        "NOISE = 0\n",
        "START_YEAR = 2017\n",
        "NUM_YEARS = 5"
      ],
      "metadata": {
        "id": "H6XtLFaCg4HE"
      },
      "execution_count": null,
      "outputs": []
    },
    {
      "cell_type": "code",
      "source": [
        "# Creating a list of companies and then putting the list into a data dictionary in key-value pairs\n",
        "\n",
        "company = ['Apple', 'Microsoft', 'Exxon', 'Shell', 'Novartis', 'Merck']\n",
        "co_map = {x:ii for (ii,x) in enumerate(company)}\n",
        "co_map"
      ],
      "metadata": {
        "colab": {
          "base_uri": "https://localhost:8080/"
        },
        "id": "zQgX69Q9g9nU",
        "outputId": "2404741f-228d-4204-b833-546173bbe7f0"
      },
      "execution_count": null,
      "outputs": [
        {
          "output_type": "execute_result",
          "data": {
            "text/plain": [
              "{'Apple': 0, 'Microsoft': 1, 'Exxon': 2, 'Shell': 3, 'Novartis': 4, 'Merck': 5}"
            ]
          },
          "metadata": {},
          "execution_count": 3
        }
      ]
    },
    {
      "cell_type": "markdown",
      "source": [
        "I have my input variable now\n",
        "\n",
        "Before analyzing my data I want to prove I understand my data by recreating it, while assuming the relationship is something linear. But what does it mean to have a linear relationship? How does that affect my output, for it to be linearly correlated with my input?\n",
        "\n",
        "In order to answer this question I'm going to meticulously control the creation of this experiment and test it at various points by changing its parts to see how that affects my experiment, and how different features relate to each other.\n",
        "\n",
        "To start this process off, I'm going to build a design matrix, then I will identify how the variables relate to each other and then using this analysis, I will try to calculate the relationship the variables have with each other and see if I can recover my data, as a way to test that I correctly understand the relationship\n",
        "\n",
        "The design matrix will describe the 'design' of this experiment. It explains the outputs in terms of the inputs, and it structures the data in such a way that I can understand how input relate to each other"
      ],
      "metadata": {
        "id": "CT_kzCskPM0F"
      }
    },
    {
      "cell_type": "code",
      "source": [
        "# Creating a list called acc, then filling the list with zeros and iterating\n",
        "# through each row, selecting one of the companies for each row\n",
        "\n",
        "acc = []\n",
        "\n",
        "for yy in range(START_YEAR, START_YEAR + NUM_YEARS):\n",
        "  for c in company:\n",
        "      new_row = numpy.zeros((len(company), ))\n",
        "      new_row[co_map[c]] = 1\n",
        "      acc.append(new_row)\n",
        "\n",
        "design_matrix = numpy.vstack(acc)\n",
        "design_matrix"
      ],
      "metadata": {
        "colab": {
          "base_uri": "https://localhost:8080/"
        },
        "id": "JwjgqFUXhUMg",
        "outputId": "313ba8dc-c1f8-48fc-9f1d-5c4df6707181"
      },
      "execution_count": null,
      "outputs": [
        {
          "output_type": "execute_result",
          "data": {
            "text/plain": [
              "array([[1., 0., 0., 0., 0., 0.],\n",
              "       [0., 1., 0., 0., 0., 0.],\n",
              "       [0., 0., 1., 0., 0., 0.],\n",
              "       [0., 0., 0., 1., 0., 0.],\n",
              "       [0., 0., 0., 0., 1., 0.],\n",
              "       [0., 0., 0., 0., 0., 1.],\n",
              "       [1., 0., 0., 0., 0., 0.],\n",
              "       [0., 1., 0., 0., 0., 0.],\n",
              "       [0., 0., 1., 0., 0., 0.],\n",
              "       [0., 0., 0., 1., 0., 0.],\n",
              "       [0., 0., 0., 0., 1., 0.],\n",
              "       [0., 0., 0., 0., 0., 1.],\n",
              "       [1., 0., 0., 0., 0., 0.],\n",
              "       [0., 1., 0., 0., 0., 0.],\n",
              "       [0., 0., 1., 0., 0., 0.],\n",
              "       [0., 0., 0., 1., 0., 0.],\n",
              "       [0., 0., 0., 0., 1., 0.],\n",
              "       [0., 0., 0., 0., 0., 1.],\n",
              "       [1., 0., 0., 0., 0., 0.],\n",
              "       [0., 1., 0., 0., 0., 0.],\n",
              "       [0., 0., 1., 0., 0., 0.],\n",
              "       [0., 0., 0., 1., 0., 0.],\n",
              "       [0., 0., 0., 0., 1., 0.],\n",
              "       [0., 0., 0., 0., 0., 1.],\n",
              "       [1., 0., 0., 0., 0., 0.],\n",
              "       [0., 1., 0., 0., 0., 0.],\n",
              "       [0., 0., 1., 0., 0., 0.],\n",
              "       [0., 0., 0., 1., 0., 0.],\n",
              "       [0., 0., 0., 0., 1., 0.],\n",
              "       [0., 0., 0., 0., 0., 1.]])"
            ]
          },
          "metadata": {},
          "execution_count": 4
        }
      ]
    },
    {
      "cell_type": "code",
      "source": [
        "# Looking at the shape of my matrix to understand my data better\n",
        "# This will be more useful when I have large datasets where I can't count the rows and columns that easily\n",
        "\n",
        "design_matrix.shape"
      ],
      "metadata": {
        "colab": {
          "base_uri": "https://localhost:8080/"
        },
        "id": "oPTcJM3eh1fn",
        "outputId": "3b2150ef-8dfe-4a1c-c220-23d59c99d8f0"
      },
      "execution_count": null,
      "outputs": [
        {
          "output_type": "execute_result",
          "data": {
            "text/plain": [
              "(30, 6)"
            ]
          },
          "metadata": {},
          "execution_count": 5
        }
      ]
    },
    {
      "cell_type": "markdown",
      "source": [
        "This next piece, 'actual weights' is going to simulate the true relationship company has with its stock price.\n",
        "\n",
        "This is the relationship I am trying to find in my data using a linear regression\n",
        "\n",
        "In reality, its probably impossible for me to actually know what this number is for a fact. This is here so I can test things like: how changing my formulas and variables affect how I view reality. How do events that tank my stock price change how my linear model's effectiveness? How close can I get to this number with the tools available in a linear regression? What stops me from being able to uncover this reality?"
      ],
      "metadata": {
        "id": "CHZEvZ_LHqX1"
      }
    },
    {
      "cell_type": "code",
      "source": [
        "# ESTIMATING THE COEFFICIENTS - this is the real relationship we are trying to understand\n",
        "\n",
        "actual_weights = numpy.random.rand(design_matrix.shape[1])\n",
        "actual_weights"
      ],
      "metadata": {
        "colab": {
          "base_uri": "https://localhost:8080/"
        },
        "id": "ElRS-KDqjIFR",
        "outputId": "800ab5a4-0c51-48aa-e89f-28f8fffc4198"
      },
      "execution_count": null,
      "outputs": [
        {
          "output_type": "execute_result",
          "data": {
            "text/plain": [
              "array([0.25593696, 0.1571193 , 0.74074853, 0.5224035 , 0.99585655,\n",
              "       0.18432385])"
            ]
          },
          "metadata": {},
          "execution_count": 6
        }
      ]
    },
    {
      "cell_type": "markdown",
      "source": [
        "These next 2 code blocks will generate what represents the response variable, in this cas: 'stock price'. These are the observation I will use to help train my linear model so that I can recover the true relationship company has with stock price.\n",
        "\n",
        "These would be like the historical stock price data I use to train my model"
      ],
      "metadata": {
        "id": "g4zkVeW8Jq9n"
      }
    },
    {
      "cell_type": "code",
      "source": [
        "outcomes = numpy.dot(design_matrix, actual_weights)\n",
        "outcomes"
      ],
      "metadata": {
        "colab": {
          "base_uri": "https://localhost:8080/"
        },
        "id": "P15cOztamT4B",
        "outputId": "5d28ddcd-598d-4d76-8ab4-70564ee27759"
      },
      "execution_count": null,
      "outputs": [
        {
          "output_type": "execute_result",
          "data": {
            "text/plain": [
              "array([0.25593696, 0.1571193 , 0.74074853, 0.5224035 , 0.99585655,\n",
              "       0.18432385, 0.25593696, 0.1571193 , 0.74074853, 0.5224035 ,\n",
              "       0.99585655, 0.18432385, 0.25593696, 0.1571193 , 0.74074853,\n",
              "       0.5224035 , 0.99585655, 0.18432385, 0.25593696, 0.1571193 ,\n",
              "       0.74074853, 0.5224035 , 0.99585655, 0.18432385, 0.25593696,\n",
              "       0.1571193 , 0.74074853, 0.5224035 , 0.99585655, 0.18432385])"
            ]
          },
          "metadata": {},
          "execution_count": 7
        }
      ]
    },
    {
      "cell_type": "code",
      "source": [
        "outcomes += (numpy.random.rand(outcomes.shape[0]) - .5) * NOISE\n",
        "outcomes"
      ],
      "metadata": {
        "colab": {
          "base_uri": "https://localhost:8080/"
        },
        "id": "QLD3mDZ7mb7c",
        "outputId": "80ee9c0a-6853-4daa-fc40-2d7804be9ff0"
      },
      "execution_count": null,
      "outputs": [
        {
          "output_type": "execute_result",
          "data": {
            "text/plain": [
              "array([0.25593696, 0.1571193 , 0.74074853, 0.5224035 , 0.99585655,\n",
              "       0.18432385, 0.25593696, 0.1571193 , 0.74074853, 0.5224035 ,\n",
              "       0.99585655, 0.18432385, 0.25593696, 0.1571193 , 0.74074853,\n",
              "       0.5224035 , 0.99585655, 0.18432385, 0.25593696, 0.1571193 ,\n",
              "       0.74074853, 0.5224035 , 0.99585655, 0.18432385, 0.25593696,\n",
              "       0.1571193 , 0.74074853, 0.5224035 , 0.99585655, 0.18432385])"
            ]
          },
          "metadata": {},
          "execution_count": 8
        }
      ]
    },
    {
      "cell_type": "markdown",
      "source": [
        "Ordinary Least Squares\n",
        "\n",
        "Now I am going to try and find the best possible value for my regression weights by finding the weights that create a line that most reduces the error between my regression equation and each outcome observation.\n",
        "\n",
        "This next section of code blocks simulates me using the data I know, which are the stock prices + the names of the companies those prices belong to, in order to predict what the relationship between the 2 could be with the least amount of error possible.\n",
        "\n",
        "Each of these code blocks help visualize the calculations that are being made to\n",
        " find this point"
      ],
      "metadata": {
        "id": "M5il1qo5K2TU"
      }
    },
    {
      "cell_type": "code",
      "source": [
        "# transpose of my design matrix\n",
        "\n",
        "design_matrix.T"
      ],
      "metadata": {
        "colab": {
          "base_uri": "https://localhost:8080/"
        },
        "id": "NM92_4R8mnMi",
        "outputId": "c1775ea2-85d9-4d88-8375-d9066ecdfb44"
      },
      "execution_count": null,
      "outputs": [
        {
          "output_type": "execute_result",
          "data": {
            "text/plain": [
              "array([[1., 0., 0., 0., 0., 0., 1., 0., 0., 0., 0., 0., 1., 0., 0., 0.,\n",
              "        0., 0., 1., 0., 0., 0., 0., 0., 1., 0., 0., 0., 0., 0.],\n",
              "       [0., 1., 0., 0., 0., 0., 0., 1., 0., 0., 0., 0., 0., 1., 0., 0.,\n",
              "        0., 0., 0., 1., 0., 0., 0., 0., 0., 1., 0., 0., 0., 0.],\n",
              "       [0., 0., 1., 0., 0., 0., 0., 0., 1., 0., 0., 0., 0., 0., 1., 0.,\n",
              "        0., 0., 0., 0., 1., 0., 0., 0., 0., 0., 1., 0., 0., 0.],\n",
              "       [0., 0., 0., 1., 0., 0., 0., 0., 0., 1., 0., 0., 0., 0., 0., 1.,\n",
              "        0., 0., 0., 0., 0., 1., 0., 0., 0., 0., 0., 1., 0., 0.],\n",
              "       [0., 0., 0., 0., 1., 0., 0., 0., 0., 0., 1., 0., 0., 0., 0., 0.,\n",
              "        1., 0., 0., 0., 0., 0., 1., 0., 0., 0., 0., 0., 1., 0.],\n",
              "       [0., 0., 0., 0., 0., 1., 0., 0., 0., 0., 0., 1., 0., 0., 0., 0.,\n",
              "        0., 1., 0., 0., 0., 0., 0., 1., 0., 0., 0., 0., 0., 1.]])"
            ]
          },
          "metadata": {},
          "execution_count": 9
        }
      ]
    },
    {
      "cell_type": "markdown",
      "source": [
        "The covariance matrix\n",
        "\n",
        "This summarizes the variance and covariance of my features\n",
        "\n",
        "The diagonal represents the variance of each variable (how spread out they are)\n",
        "\n",
        "Anything off the diagonal represents the covariances between each pair of variables. I'll get into this more later when I add in more variables. For now there's only 1 variable so there's nothing for it to be covariant with, but it can identify the variance of my single variable (company) which is 2\n",
        "\n",
        "\n",
        "---\n",
        "\n",
        "\n",
        "\n",
        "---\n",
        "\n",
        "\n",
        "* Look into how covariance matrix can rotate any vector into direction of greatest variance by mutliplying covariance matrix with a vector v\n",
        "* supposedly it is important to check the vector with greatest variance bc its a proxy/indicator for causation. For x to be a cause for y, change/variation in x leads to change in y. Variability also relates to effect size"
      ],
      "metadata": {
        "id": "DCUA3RAJPBjI"
      }
    },
    {
      "cell_type": "code",
      "source": [
        "# Covariance matrix\n",
        "\n",
        "# 1 means the value is correleated with the diagonal element\n",
        "\n",
        "covariance = numpy.dot(design_matrix.T, design_matrix)\n",
        "covariance"
      ],
      "metadata": {
        "colab": {
          "base_uri": "https://localhost:8080/"
        },
        "id": "Bjf4Dbbtmt3s",
        "outputId": "9897b033-191c-4b2c-f620-8f4d254c7252"
      },
      "execution_count": null,
      "outputs": [
        {
          "output_type": "execute_result",
          "data": {
            "text/plain": [
              "array([[5., 0., 0., 0., 0., 0.],\n",
              "       [0., 5., 0., 0., 0., 0.],\n",
              "       [0., 0., 5., 0., 0., 0.],\n",
              "       [0., 0., 0., 5., 0., 0.],\n",
              "       [0., 0., 0., 0., 5., 0.],\n",
              "       [0., 0., 0., 0., 0., 5.]])"
            ]
          },
          "metadata": {},
          "execution_count": 10
        }
      ]
    },
    {
      "cell_type": "markdown",
      "source": [
        "The precision matrix\n",
        "\n",
        "This is the inverse of the covariance matrix\n",
        "\n",
        "A straightforward observation we get from here is, if the diagonal represented the variance of each variable in the covariance matrix, the inverse of this measure would be the precision of each variable. In other words, if variance measure show spread out the variables are, this would measure how tightly clustered those variables are around the mean. So obviously if the variance was large, precision would decrease, and vice versa.\n",
        "\n",
        "For the off diagonals\n",
        "\n",
        "Precision matrix is a little more intuitive, but gives a lot of the same information\n",
        "\n",
        "\n",
        "\n"
      ],
      "metadata": {
        "id": "yzJy-aujP3ZC"
      }
    },
    {
      "cell_type": "code",
      "source": [
        "# Precision matrix\n",
        "\n",
        "# Negative values can imply the model is ill conditioned\n",
        "# These values represent total amount of variance that can be explained by given pricnipal component\n",
        "# Therefor if the value is positive tis implies some of the variance can be explained\n",
        "\n",
        "precision = numpy.linalg.pinv(numpy.dot(design_matrix.T, design_matrix))\n",
        "precision"
      ],
      "metadata": {
        "colab": {
          "base_uri": "https://localhost:8080/"
        },
        "id": "dsdm2rznmvb5",
        "outputId": "d28f2fd6-426c-429f-f6a6-38e7a2a13f2a"
      },
      "execution_count": null,
      "outputs": [
        {
          "output_type": "execute_result",
          "data": {
            "text/plain": [
              "array([[0.2, 0. , 0. , 0. , 0. , 0. ],\n",
              "       [0. , 0.2, 0. , 0. , 0. , 0. ],\n",
              "       [0. , 0. , 0.2, 0. , 0. , 0. ],\n",
              "       [0. , 0. , 0. , 0.2, 0. , 0. ],\n",
              "       [0. , 0. , 0. , 0. , 0.2, 0. ],\n",
              "       [0. , 0. , 0. , 0. , 0. , 0.2]])"
            ]
          },
          "metadata": {},
          "execution_count": 11
        }
      ]
    },
    {
      "cell_type": "markdown",
      "source": [
        "The hat matrix\n",
        "\n",
        "This helps us to identify outlying observations\n",
        "\n",
        "We use a moore-penrose pseudoinverse because it can handle situations where a matrix isn't full rank. If we just used the inverse, it'd be less versatile and we would need a matrix that is full rank. I'll talk more about inverse vs pseudoinverse and matrix rank later once we start dealing with multivariate matrices\n",
        "\n",
        "For now, THINK: WHAT CAN WE TELL FROM THESE VALUES? WHAT DO THEY MEAN?\n"
      ],
      "metadata": {
        "id": "SWjfDdhZLvvO"
      }
    },
    {
      "cell_type": "code",
      "source": [
        "# Hat Matrix/Projection matrix\n",
        "\n",
        "numpy.dot(numpy.linalg.pinv(numpy.dot(design_matrix.T, design_matrix)), design_matrix.T)"
      ],
      "metadata": {
        "colab": {
          "base_uri": "https://localhost:8080/"
        },
        "id": "-e7uFO44mw1j",
        "outputId": "70a28573-eb2a-4e15-8b55-da677960bd74"
      },
      "execution_count": null,
      "outputs": [
        {
          "output_type": "execute_result",
          "data": {
            "text/plain": [
              "array([[0.2, 0. , 0. , 0. , 0. , 0. , 0.2, 0. , 0. , 0. , 0. , 0. , 0.2,\n",
              "        0. , 0. , 0. , 0. , 0. , 0.2, 0. , 0. , 0. , 0. , 0. , 0.2, 0. ,\n",
              "        0. , 0. , 0. , 0. ],\n",
              "       [0. , 0.2, 0. , 0. , 0. , 0. , 0. , 0.2, 0. , 0. , 0. , 0. , 0. ,\n",
              "        0.2, 0. , 0. , 0. , 0. , 0. , 0.2, 0. , 0. , 0. , 0. , 0. , 0.2,\n",
              "        0. , 0. , 0. , 0. ],\n",
              "       [0. , 0. , 0.2, 0. , 0. , 0. , 0. , 0. , 0.2, 0. , 0. , 0. , 0. ,\n",
              "        0. , 0.2, 0. , 0. , 0. , 0. , 0. , 0.2, 0. , 0. , 0. , 0. , 0. ,\n",
              "        0.2, 0. , 0. , 0. ],\n",
              "       [0. , 0. , 0. , 0.2, 0. , 0. , 0. , 0. , 0. , 0.2, 0. , 0. , 0. ,\n",
              "        0. , 0. , 0.2, 0. , 0. , 0. , 0. , 0. , 0.2, 0. , 0. , 0. , 0. ,\n",
              "        0. , 0.2, 0. , 0. ],\n",
              "       [0. , 0. , 0. , 0. , 0.2, 0. , 0. , 0. , 0. , 0. , 0.2, 0. , 0. ,\n",
              "        0. , 0. , 0. , 0.2, 0. , 0. , 0. , 0. , 0. , 0.2, 0. , 0. , 0. ,\n",
              "        0. , 0. , 0.2, 0. ],\n",
              "       [0. , 0. , 0. , 0. , 0. , 0.2, 0. , 0. , 0. , 0. , 0. , 0.2, 0. ,\n",
              "        0. , 0. , 0. , 0. , 0.2, 0. , 0. , 0. , 0. , 0. , 0.2, 0. , 0. ,\n",
              "        0. , 0. , 0. , 0.2]])"
            ]
          },
          "metadata": {},
          "execution_count": 12
        }
      ]
    },
    {
      "cell_type": "markdown",
      "source": [
        "By taking the dot product of the hat matrix and the outcome observations, we come to our ordinary least squares estimate for the regression weights. In other words, my best guess at how the input variables relate to my output variables.\n",
        "\n",
        "In the scenario where I don't have to deal with any noise in my outcome variables (which is totally not realistic but just keeping it simple for now), I can see I have perfect capability to predict the true regression weights. What can I extrapolate from this? Perhaps, if I can identify variables that aren't strongly influenced by various outside, I should be able to capture a very accurate approximation on the mathematic relationship between a linear regression input and output"
      ],
      "metadata": {
        "id": "wJBYvFYdOjxk"
      }
    },
    {
      "cell_type": "code",
      "source": [
        "# ESTIMATING THE COEFFICIENTS - here we try to estimate the real weights of the inputs\n",
        "\n",
        "pred_weights = numpy.dot(numpy.dot(numpy.linalg.pinv(numpy.dot(design_matrix.T, design_matrix)), design_matrix.T), outcomes)\n",
        "pred_weights"
      ],
      "metadata": {
        "colab": {
          "base_uri": "https://localhost:8080/"
        },
        "id": "HNyLxLxNmyYs",
        "outputId": "d2daa2bb-9ae4-4781-c4e9-c084a15086a3"
      },
      "execution_count": null,
      "outputs": [
        {
          "output_type": "execute_result",
          "data": {
            "text/plain": [
              "array([0.25593696, 0.1571193 , 0.74074853, 0.5224035 , 0.99585655,\n",
              "       0.18432385])"
            ]
          },
          "metadata": {},
          "execution_count": 13
        }
      ]
    },
    {
      "cell_type": "markdown",
      "source": [
        "Creating a plot to visualize the difference between the weights i predicted and the actual weights. The intercept is at x = 0 to make bookkeeping easier and I designed the experiment to assume the relationship is a positive linear relationship so that's the reason for the y = .5x line.\n",
        "\n",
        "If the predicted weights match the actual weights they should all line up on the red y = .5x line"
      ],
      "metadata": {
        "id": "jkdLxx6ZPp0F"
      }
    },
    {
      "cell_type": "code",
      "source": [
        "pyplot.plot([0,1], [0,1], 'r-')\n",
        "pyplot.plot(actual_weights, pred_weights, 'k.')\n",
        "\n",
        "pyplot.xlabel('Actual Weights')\n",
        "pyplot.ylabel('Predicted Weights')"
      ],
      "metadata": {
        "colab": {
          "base_uri": "https://localhost:8080/",
          "height": 467
        },
        "id": "iEGlg5Z0slRU",
        "outputId": "8746e291-31ee-4ec6-8de3-f2e3a61bebe0"
      },
      "execution_count": null,
      "outputs": [
        {
          "output_type": "execute_result",
          "data": {
            "text/plain": [
              "Text(0, 0.5, 'Predicted Weights')"
            ]
          },
          "metadata": {},
          "execution_count": 14
        },
        {
          "output_type": "display_data",
          "data": {
            "text/plain": [
              "<Figure size 640x480 with 1 Axes>"
            ],
            "image/png": "[encoded data removed]"
          },
          "metadata": {}
        }
      ]
    },
    {
      "cell_type": "markdown",
      "source": [
        "Now, using the weights I predicted, I try to predict future outcomes variables. In this case, I can perfectly predict them because I dont have to deal with any noise and I know that I have perfectly predicted my weights.\n",
        "\n",
        "But what if I did add some noise to this system? Would more data observation help counteract the affect noise has on predictability?"
      ],
      "metadata": {
        "id": "2MgWnIQbQSp4"
      }
    },
    {
      "cell_type": "code",
      "source": [
        "pred_outcomes = numpy.dot(design_matrix, pred_weights)\n",
        "pred_outcomes"
      ],
      "metadata": {
        "colab": {
          "base_uri": "https://localhost:8080/"
        },
        "id": "smrRWoCmsmrJ",
        "outputId": "bed19253-917f-44ef-f785-e3e088f09033"
      },
      "execution_count": null,
      "outputs": [
        {
          "output_type": "execute_result",
          "data": {
            "text/plain": [
              "array([0.25593696, 0.1571193 , 0.74074853, 0.5224035 , 0.99585655,\n",
              "       0.18432385, 0.25593696, 0.1571193 , 0.74074853, 0.5224035 ,\n",
              "       0.99585655, 0.18432385, 0.25593696, 0.1571193 , 0.74074853,\n",
              "       0.5224035 , 0.99585655, 0.18432385, 0.25593696, 0.1571193 ,\n",
              "       0.74074853, 0.5224035 , 0.99585655, 0.18432385, 0.25593696,\n",
              "       0.1571193 , 0.74074853, 0.5224035 , 0.99585655, 0.18432385])"
            ]
          },
          "metadata": {},
          "execution_count": 15
        }
      ]
    },
    {
      "cell_type": "markdown",
      "source": [
        "Perhaps a little bit but it doesn't seem like more data is the solution to dealing with noise in my system"
      ],
      "metadata": {
        "id": "3krVCwBTAoxa"
      }
    },
    {
      "cell_type": "markdown",
      "source": [
        "residual sum of squares tells me how much my predicted outcomes deviated from the actual outcomes. In this experimental case, it's a good way for me to test accuracy of my model but in reality, I dont truly know the future outcomes.\n",
        "\n",
        "All this measure can truly tell me is how close my predictions are to the outcome data I use to train my model. In reality, this measure is effectively a measure of model fit. If the RSS value is too close to 0, its incredibly likely my model has overfit to the training data, and I will need to smooth my regression in some way to better represent the true relationship between the input and output variables, and not just the input variable to the current dataset."
      ],
      "metadata": {
        "id": "8FdSOl1yQnMD"
      }
    },
    {
      "cell_type": "code",
      "source": [
        "# ASSESS ACCURACY OF ESTIMATES\n",
        "# this tells us on average, how much did our prediction of the response var deviate from the true response var\n",
        "\n",
        "rss = numpy.mean((pred_outcomes - outcomes)**2)\n",
        "rss"
      ],
      "metadata": {
        "colab": {
          "base_uri": "https://localhost:8080/"
        },
        "id": "I2FHMzSwspez",
        "outputId": "73d190a7-2d5f-47c0-c554-c182063d8bb6"
      },
      "execution_count": null,
      "outputs": [
        {
          "output_type": "execute_result",
          "data": {
            "text/plain": [
              "2.0543252740130515e-33"
            ]
          },
          "metadata": {},
          "execution_count": 16
        }
      ]
    },
    {
      "cell_type": "markdown",
      "source": [
        "This next part I'm taking the average error of the regression weights I was able to estimate from the actual weights. Basically this tells me how much do my model weights deviate from the real weights on averaege. In reality, I can't make this calculations because I wouldn't know what my real weights are.\n",
        "\n",
        "For now it's a good exercise tho in, given whatever conditions, how well did my model understand the reality of the situation? How much noise makes this calculation infeasible? Does more data help in noisy conditions? How much of the error rate can I just not predict because due to the nature of chaos, it is intrinsically impossible to predict?"
      ],
      "metadata": {
        "id": "Jpr55X_DZcFP"
      }
    },
    {
      "cell_type": "code",
      "source": [
        "# we are talking economics right now, so all these numbers are currency\n",
        "# in this case, dollar for dollar, if i estimate one parameter incorrectly, how much is the average error?\n",
        "# how well did i recover the real relationship?\n",
        "\n",
        "numpy.mean(actual_weights - pred_weights)"
      ],
      "metadata": {
        "colab": {
          "base_uri": "https://localhost:8080/"
        },
        "id": "_zNC5NnGsvV8",
        "outputId": "6ab252da-6f17-4d3e-b6b0-6c32f8f88977"
      },
      "execution_count": null,
      "outputs": [
        {
          "output_type": "execute_result",
          "data": {
            "text/plain": [
              "-1.850371707708594e-17"
            ]
          },
          "metadata": {},
          "execution_count": 17
        }
      ]
    },
    {
      "cell_type": "code",
      "source": [
        "# If my model is giving me back my data, these should be similar (close to 0)\n",
        "# more noise means more variance\n",
        "# variance is squared difference from the mean\n",
        "\n",
        "numpy.var(actual_weights - pred_weights)"
      ],
      "metadata": {
        "colab": {
          "base_uri": "https://localhost:8080/"
        },
        "id": "V1Ln5mIksx74",
        "outputId": "5f897a09-1d62-4696-9730-fc69858f829b"
      },
      "execution_count": null,
      "outputs": [
        {
          "output_type": "execute_result",
          "data": {
            "text/plain": [
              "1.7119377283442097e-33"
            ]
          },
          "metadata": {},
          "execution_count": 18
        }
      ]
    },
    {
      "cell_type": "markdown",
      "source": [
        "This last piece, standard deviation, tells me the same information as variance but is a bit more intuitive to read.\n",
        "\n",
        "What I just did here, was I decomposed the evaluation of my understanding of the relationship between my input company, and output stock price, into 3 parts:\n",
        "\n",
        "1: Error that is intrinsically impossible to predict\n",
        "\n",
        "2: Approximation bias: The simplifying assumption made by the model to make it easier to predict future data\n",
        "\n",
        "3: Variance: How sensitive the model is to new data points\n",
        "\n",
        "We can't really do anything about the intrinsic error, but we can affect bias and variance, with the goal being to reduce them as much as possible. However, there eventually comes a point where we must choose one or the other. If we reduce variance too much, our model becomese incredibly biased towards the current dataset and we will have failed in our mission to mathematically understand the **relationship** between the features. If we reduce the bias of the model too much, it won't be sensitive to any changes in data in an attempt to simplify the model\n",
        "\n",
        "Note: I can't actually decompose the error inot these components into bias and variance in reality because I wouldnt know the true function. This is just good for understanding's sake"
      ],
      "metadata": {
        "id": "vqRsrjEUajUZ"
      }
    },
    {
      "cell_type": "code",
      "source": [
        "# square root of variance\n",
        "# more intuitive because its in same units as original data\n",
        "# AKA the difference between actual and pred weights has standard dev of (whatever the output is)\n",
        "\n",
        "numpy.std(actual_weights - pred_weights)"
      ],
      "metadata": {
        "colab": {
          "base_uri": "https://localhost:8080/"
        },
        "id": "5fCOTG5Bs0_B",
        "outputId": "b4817a80-e34d-46b9-a27f-7d22edf6ace4"
      },
      "execution_count": null,
      "outputs": [
        {
          "output_type": "execute_result",
          "data": {
            "text/plain": [
              "4.1375569220787883e-17"
            ]
          },
          "metadata": {},
          "execution_count": 19
        }
      ]
    },
    {
      "cell_type": "markdown",
      "source": [
        "Cool. That all said...\n",
        "\n",
        "Now I will try adding in another variable, namely year"
      ],
      "metadata": {
        "id": "TksNWUX_spYq"
      }
    },
    {
      "cell_type": "code",
      "source": [
        "# Creating a list of years and then putting the list into a data dictionary in key-value pairs\n",
        "\n",
        "year = numpy.arange(START_YEAR, START_YEAR+NUM_YEARS)\n",
        "year_map = {x:ii for (ii,x) in enumerate(year)}\n",
        "year_map"
      ],
      "metadata": {
        "colab": {
          "base_uri": "https://localhost:8080/"
        },
        "id": "ddUJL6WxhJI8",
        "outputId": "c38b3a20-3087-4b12-ce4f-6dfcbe221ebb"
      },
      "execution_count": null,
      "outputs": [
        {
          "output_type": "execute_result",
          "data": {
            "text/plain": [
              "{2017: 0, 2018: 1, 2019: 2, 2020: 3, 2021: 4}"
            ]
          },
          "metadata": {},
          "execution_count": 20
        }
      ]
    },
    {
      "cell_type": "code",
      "source": [
        "# Remaking the design matrix to include year\n",
        "\n",
        "acc = []\n",
        "\n",
        "for yy in range(START_YEAR, START_YEAR + NUM_YEARS):\n",
        "  for c in company:\n",
        "      new_row = numpy.zeros((len(company) + len(year), ))\n",
        "      new_row[co_map[c]] = 1\n",
        "      new_row[year_map[yy] + len(company)] = 1\n",
        "      acc.append(new_row)\n",
        "\n",
        "design_matrix = numpy.vstack(acc)\n",
        "design_matrix"
      ],
      "metadata": {
        "colab": {
          "base_uri": "https://localhost:8080/"
        },
        "id": "SnaD95Pzs2z3",
        "outputId": "a771e920-1997-4fd8-d943-7da318cc3d38"
      },
      "execution_count": null,
      "outputs": [
        {
          "output_type": "execute_result",
          "data": {
            "text/plain": [
              "array([[1., 0., 0., 0., 0., 0., 1., 0., 0., 0., 0.],\n",
              "       [0., 1., 0., 0., 0., 0., 1., 0., 0., 0., 0.],\n",
              "       [0., 0., 1., 0., 0., 0., 1., 0., 0., 0., 0.],\n",
              "       [0., 0., 0., 1., 0., 0., 1., 0., 0., 0., 0.],\n",
              "       [0., 0., 0., 0., 1., 0., 1., 0., 0., 0., 0.],\n",
              "       [0., 0., 0., 0., 0., 1., 1., 0., 0., 0., 0.],\n",
              "       [1., 0., 0., 0., 0., 0., 0., 1., 0., 0., 0.],\n",
              "       [0., 1., 0., 0., 0., 0., 0., 1., 0., 0., 0.],\n",
              "       [0., 0., 1., 0., 0., 0., 0., 1., 0., 0., 0.],\n",
              "       [0., 0., 0., 1., 0., 0., 0., 1., 0., 0., 0.],\n",
              "       [0., 0., 0., 0., 1., 0., 0., 1., 0., 0., 0.],\n",
              "       [0., 0., 0., 0., 0., 1., 0., 1., 0., 0., 0.],\n",
              "       [1., 0., 0., 0., 0., 0., 0., 0., 1., 0., 0.],\n",
              "       [0., 1., 0., 0., 0., 0., 0., 0., 1., 0., 0.],\n",
              "       [0., 0., 1., 0., 0., 0., 0., 0., 1., 0., 0.],\n",
              "       [0., 0., 0., 1., 0., 0., 0., 0., 1., 0., 0.],\n",
              "       [0., 0., 0., 0., 1., 0., 0., 0., 1., 0., 0.],\n",
              "       [0., 0., 0., 0., 0., 1., 0., 0., 1., 0., 0.],\n",
              "       [1., 0., 0., 0., 0., 0., 0., 0., 0., 1., 0.],\n",
              "       [0., 1., 0., 0., 0., 0., 0., 0., 0., 1., 0.],\n",
              "       [0., 0., 1., 0., 0., 0., 0., 0., 0., 1., 0.],\n",
              "       [0., 0., 0., 1., 0., 0., 0., 0., 0., 1., 0.],\n",
              "       [0., 0., 0., 0., 1., 0., 0., 0., 0., 1., 0.],\n",
              "       [0., 0., 0., 0., 0., 1., 0., 0., 0., 1., 0.],\n",
              "       [1., 0., 0., 0., 0., 0., 0., 0., 0., 0., 1.],\n",
              "       [0., 1., 0., 0., 0., 0., 0., 0., 0., 0., 1.],\n",
              "       [0., 0., 1., 0., 0., 0., 0., 0., 0., 0., 1.],\n",
              "       [0., 0., 0., 1., 0., 0., 0., 0., 0., 0., 1.],\n",
              "       [0., 0., 0., 0., 1., 0., 0., 0., 0., 0., 1.],\n",
              "       [0., 0., 0., 0., 0., 1., 0., 0., 0., 0., 1.]])"
            ]
          },
          "metadata": {},
          "execution_count": 21
        }
      ]
    },
    {
      "cell_type": "code",
      "source": [
        "design_matrix.shape"
      ],
      "metadata": {
        "colab": {
          "base_uri": "https://localhost:8080/"
        },
        "id": "ZZIMdnHsa2MF",
        "outputId": "1e615f36-e562-4898-e9d0-46657e591dd8"
      },
      "execution_count": null,
      "outputs": [
        {
          "output_type": "execute_result",
          "data": {
            "text/plain": [
              "(30, 11)"
            ]
          },
          "metadata": {},
          "execution_count": 22
        }
      ]
    },
    {
      "cell_type": "markdown",
      "source": [
        "Now we calculate matrix rank. And we have an interesting observation here. Once we added an extra variable, our matrix is now 'rank deficient'. It is not a fully ranked matrix.\n",
        "\n",
        "So what? Why do I care?\n",
        "\n",
        "Luckily we can use pseudoinverse to handle this type of thing but why does this happen and what does this mean? Well let's investigate..."
      ],
      "metadata": {
        "id": "Qrtn_7R6c0xf"
      }
    },
    {
      "cell_type": "markdown",
      "source": [
        "reason rank deficiency isnt an issue with only 1 variable is becuase the problem\n",
        "is derived from covariance\n",
        "\n",
        "I've read sources saying the solution to matrix rank is more data?"
      ],
      "metadata": {
        "id": "2zp3m7APtNko"
      }
    },
    {
      "cell_type": "code",
      "source": [
        "# Calculating the matrix rank\n",
        "\n",
        "# matrix rank tells me the max number of linearly independent columns\n",
        "# this number cannot exceed the number of columns\n",
        "\n",
        "numpy.linalg.matrix_rank(design_matrix)"
      ],
      "metadata": {
        "colab": {
          "base_uri": "https://localhost:8080/"
        },
        "id": "bkUjI3eWa2k7",
        "outputId": "f64bff87-f1bd-474e-974e-ca3a78fcfdc2"
      },
      "execution_count": null,
      "outputs": [
        {
          "output_type": "execute_result",
          "data": {
            "text/plain": [
              "10"
            ]
          },
          "metadata": {},
          "execution_count": 23
        }
      ]
    },
    {
      "cell_type": "code",
      "source": [
        "# ESTIMATING THE COEFFICIENTS - this is the real relationship we are trying to understand\n",
        "\n",
        "actual_weights = numpy.random.rand(design_matrix.shape[1])\n",
        "actual_weights"
      ],
      "metadata": {
        "colab": {
          "base_uri": "https://localhost:8080/"
        },
        "id": "GVIlRy5FeSXT",
        "outputId": "1cf85227-c9d1-4ad1-95da-31aa6b11cd66"
      },
      "execution_count": null,
      "outputs": [
        {
          "output_type": "execute_result",
          "data": {
            "text/plain": [
              "array([0.74232418, 0.9329184 , 0.02756135, 0.28757317, 0.13199657,\n",
              "       0.00659146, 0.37405174, 0.47130449, 0.03500188, 0.31969567,\n",
              "       0.97933329])"
            ]
          },
          "metadata": {},
          "execution_count": 24
        }
      ]
    },
    {
      "cell_type": "code",
      "source": [
        "outcomes = numpy.dot(design_matrix, actual_weights)\n",
        "outcomes"
      ],
      "metadata": {
        "colab": {
          "base_uri": "https://localhost:8080/"
        },
        "id": "WZJLWRNBebHe",
        "outputId": "42e1ee82-07ea-497c-e6af-494c533e3d04"
      },
      "execution_count": null,
      "outputs": [
        {
          "output_type": "execute_result",
          "data": {
            "text/plain": [
              "array([1.11637592, 1.30697014, 0.40161309, 0.66162491, 0.50604831,\n",
              "       0.38064319, 1.21362867, 1.40422289, 0.49886584, 0.75887766,\n",
              "       0.60330106, 0.47789595, 0.77732607, 0.96792028, 0.06256323,\n",
              "       0.32257506, 0.16699846, 0.04159334, 1.06201985, 1.25261407,\n",
              "       0.34725702, 0.60726885, 0.45169224, 0.32628713, 1.72165747,\n",
              "       1.91225169, 1.00689464, 1.26690647, 1.11132986, 0.98592475])"
            ]
          },
          "metadata": {},
          "execution_count": 25
        }
      ]
    },
    {
      "cell_type": "code",
      "source": [
        "outcomes += (numpy.random.rand(outcomes.shape[0]) - .5) * NOISE\n",
        "outcomes"
      ],
      "metadata": {
        "colab": {
          "base_uri": "https://localhost:8080/"
        },
        "id": "PLvc9NlceePo",
        "outputId": "305dd069-13e3-4481-de21-55dfc5c70967"
      },
      "execution_count": null,
      "outputs": [
        {
          "output_type": "execute_result",
          "data": {
            "text/plain": [
              "array([1.11637592, 1.30697014, 0.40161309, 0.66162491, 0.50604831,\n",
              "       0.38064319, 1.21362867, 1.40422289, 0.49886584, 0.75887766,\n",
              "       0.60330106, 0.47789595, 0.77732607, 0.96792028, 0.06256323,\n",
              "       0.32257506, 0.16699846, 0.04159334, 1.06201985, 1.25261407,\n",
              "       0.34725702, 0.60726885, 0.45169224, 0.32628713, 1.72165747,\n",
              "       1.91225169, 1.00689464, 1.26690647, 1.11132986, 0.98592475])"
            ]
          },
          "metadata": {},
          "execution_count": 26
        }
      ]
    },
    {
      "cell_type": "code",
      "source": [
        "# covariance matrix\n",
        "\n",
        "numpy.dot(design_matrix.T, design_matrix)"
      ],
      "metadata": {
        "colab": {
          "base_uri": "https://localhost:8080/"
        },
        "id": "Y_lp5UcrdrCE",
        "outputId": "45d16f05-bb8e-4479-f033-132b7b3996eb"
      },
      "execution_count": null,
      "outputs": [
        {
          "output_type": "execute_result",
          "data": {
            "text/plain": [
              "array([[5., 0., 0., 0., 0., 0., 1., 1., 1., 1., 1.],\n",
              "       [0., 5., 0., 0., 0., 0., 1., 1., 1., 1., 1.],\n",
              "       [0., 0., 5., 0., 0., 0., 1., 1., 1., 1., 1.],\n",
              "       [0., 0., 0., 5., 0., 0., 1., 1., 1., 1., 1.],\n",
              "       [0., 0., 0., 0., 5., 0., 1., 1., 1., 1., 1.],\n",
              "       [0., 0., 0., 0., 0., 5., 1., 1., 1., 1., 1.],\n",
              "       [1., 1., 1., 1., 1., 1., 6., 0., 0., 0., 0.],\n",
              "       [1., 1., 1., 1., 1., 1., 0., 6., 0., 0., 0.],\n",
              "       [1., 1., 1., 1., 1., 1., 0., 0., 6., 0., 0.],\n",
              "       [1., 1., 1., 1., 1., 1., 0., 0., 0., 6., 0.],\n",
              "       [1., 1., 1., 1., 1., 1., 0., 0., 0., 0., 6.]])"
            ]
          },
          "metadata": {},
          "execution_count": 27
        }
      ]
    },
    {
      "cell_type": "code",
      "source": [
        "# precision matrix\n",
        "\n",
        "numpy.linalg.pinv(numpy.dot(design_matrix.T, design_matrix))"
      ],
      "metadata": {
        "colab": {
          "base_uri": "https://localhost:8080/"
        },
        "id": "QfQHUalvdu1l",
        "outputId": "b2bd0899-fd29-4900-fe85-52d170b0c820"
      },
      "execution_count": null,
      "outputs": [
        {
          "output_type": "execute_result",
          "data": {
            "text/plain": [
              "array([[ 0.17355372, -0.02644628, -0.02644628, -0.02644628, -0.02644628,\n",
              "        -0.02644628,  0.00826446,  0.00826446,  0.00826446,  0.00826446,\n",
              "         0.00826446],\n",
              "       [-0.02644628,  0.17355372, -0.02644628, -0.02644628, -0.02644628,\n",
              "        -0.02644628,  0.00826446,  0.00826446,  0.00826446,  0.00826446,\n",
              "         0.00826446],\n",
              "       [-0.02644628, -0.02644628,  0.17355372, -0.02644628, -0.02644628,\n",
              "        -0.02644628,  0.00826446,  0.00826446,  0.00826446,  0.00826446,\n",
              "         0.00826446],\n",
              "       [-0.02644628, -0.02644628, -0.02644628,  0.17355372, -0.02644628,\n",
              "        -0.02644628,  0.00826446,  0.00826446,  0.00826446,  0.00826446,\n",
              "         0.00826446],\n",
              "       [-0.02644628, -0.02644628, -0.02644628, -0.02644628,  0.17355372,\n",
              "        -0.02644628,  0.00826446,  0.00826446,  0.00826446,  0.00826446,\n",
              "         0.00826446],\n",
              "       [-0.02644628, -0.02644628, -0.02644628, -0.02644628, -0.02644628,\n",
              "         0.17355372,  0.00826446,  0.00826446,  0.00826446,  0.00826446,\n",
              "         0.00826446],\n",
              "       [ 0.00826446,  0.00826446,  0.00826446,  0.00826446,  0.00826446,\n",
              "         0.00826446,  0.14325069, -0.02341598, -0.02341598, -0.02341598,\n",
              "        -0.02341598],\n",
              "       [ 0.00826446,  0.00826446,  0.00826446,  0.00826446,  0.00826446,\n",
              "         0.00826446, -0.02341598,  0.14325069, -0.02341598, -0.02341598,\n",
              "        -0.02341598],\n",
              "       [ 0.00826446,  0.00826446,  0.00826446,  0.00826446,  0.00826446,\n",
              "         0.00826446, -0.02341598, -0.02341598,  0.14325069, -0.02341598,\n",
              "        -0.02341598],\n",
              "       [ 0.00826446,  0.00826446,  0.00826446,  0.00826446,  0.00826446,\n",
              "         0.00826446, -0.02341598, -0.02341598, -0.02341598,  0.14325069,\n",
              "        -0.02341598],\n",
              "       [ 0.00826446,  0.00826446,  0.00826446,  0.00826446,  0.00826446,\n",
              "         0.00826446, -0.02341598, -0.02341598, -0.02341598, -0.02341598,\n",
              "         0.14325069]])"
            ]
          },
          "metadata": {},
          "execution_count": 28
        }
      ]
    },
    {
      "cell_type": "code",
      "source": [
        "# hat matrix\n",
        "\n",
        "numpy.dot(numpy.linalg.pinv(numpy.dot(design_matrix.T, design_matrix)), design_matrix.T)"
      ],
      "metadata": {
        "colab": {
          "base_uri": "https://localhost:8080/"
        },
        "id": "8WI-7poJd9bm",
        "outputId": "3fe806ad-f0e0-4d06-d181-2bfb5bef2d98"
      },
      "execution_count": null,
      "outputs": [
        {
          "output_type": "execute_result",
          "data": {
            "text/plain": [
              "array([[ 0.18181818, -0.01818182, -0.01818182, -0.01818182, -0.01818182,\n",
              "        -0.01818182,  0.18181818, -0.01818182, -0.01818182, -0.01818182,\n",
              "        -0.01818182, -0.01818182,  0.18181818, -0.01818182, -0.01818182,\n",
              "        -0.01818182, -0.01818182, -0.01818182,  0.18181818, -0.01818182,\n",
              "        -0.01818182, -0.01818182, -0.01818182, -0.01818182,  0.18181818,\n",
              "        -0.01818182, -0.01818182, -0.01818182, -0.01818182, -0.01818182],\n",
              "       [-0.01818182,  0.18181818, -0.01818182, -0.01818182, -0.01818182,\n",
              "        -0.01818182, -0.01818182,  0.18181818, -0.01818182, -0.01818182,\n",
              "        -0.01818182, -0.01818182, -0.01818182,  0.18181818, -0.01818182,\n",
              "        -0.01818182, -0.01818182, -0.01818182, -0.01818182,  0.18181818,\n",
              "        -0.01818182, -0.01818182, -0.01818182, -0.01818182, -0.01818182,\n",
              "         0.18181818, -0.01818182, -0.01818182, -0.01818182, -0.01818182],\n",
              "       [-0.01818182, -0.01818182,  0.18181818, -0.01818182, -0.01818182,\n",
              "        -0.01818182, -0.01818182, -0.01818182,  0.18181818, -0.01818182,\n",
              "        -0.01818182, -0.01818182, -0.01818182, -0.01818182,  0.18181818,\n",
              "        -0.01818182, -0.01818182, -0.01818182, -0.01818182, -0.01818182,\n",
              "         0.18181818, -0.01818182, -0.01818182, -0.01818182, -0.01818182,\n",
              "        -0.01818182,  0.18181818, -0.01818182, -0.01818182, -0.01818182],\n",
              "       [-0.01818182, -0.01818182, -0.01818182,  0.18181818, -0.01818182,\n",
              "        -0.01818182, -0.01818182, -0.01818182, -0.01818182,  0.18181818,\n",
              "        -0.01818182, -0.01818182, -0.01818182, -0.01818182, -0.01818182,\n",
              "         0.18181818, -0.01818182, -0.01818182, -0.01818182, -0.01818182,\n",
              "        -0.01818182,  0.18181818, -0.01818182, -0.01818182, -0.01818182,\n",
              "        -0.01818182, -0.01818182,  0.18181818, -0.01818182, -0.01818182],\n",
              "       [-0.01818182, -0.01818182, -0.01818182, -0.01818182,  0.18181818,\n",
              "        -0.01818182, -0.01818182, -0.01818182, -0.01818182, -0.01818182,\n",
              "         0.18181818, -0.01818182, -0.01818182, -0.01818182, -0.01818182,\n",
              "        -0.01818182,  0.18181818, -0.01818182, -0.01818182, -0.01818182,\n",
              "        -0.01818182, -0.01818182,  0.18181818, -0.01818182, -0.01818182,\n",
              "        -0.01818182, -0.01818182, -0.01818182,  0.18181818, -0.01818182],\n",
              "       [-0.01818182, -0.01818182, -0.01818182, -0.01818182, -0.01818182,\n",
              "         0.18181818, -0.01818182, -0.01818182, -0.01818182, -0.01818182,\n",
              "        -0.01818182,  0.18181818, -0.01818182, -0.01818182, -0.01818182,\n",
              "        -0.01818182, -0.01818182,  0.18181818, -0.01818182, -0.01818182,\n",
              "        -0.01818182, -0.01818182, -0.01818182,  0.18181818, -0.01818182,\n",
              "        -0.01818182, -0.01818182, -0.01818182, -0.01818182,  0.18181818],\n",
              "       [ 0.15151515,  0.15151515,  0.15151515,  0.15151515,  0.15151515,\n",
              "         0.15151515, -0.01515152, -0.01515152, -0.01515152, -0.01515152,\n",
              "        -0.01515152, -0.01515152, -0.01515152, -0.01515152, -0.01515152,\n",
              "        -0.01515152, -0.01515152, -0.01515152, -0.01515152, -0.01515152,\n",
              "        -0.01515152, -0.01515152, -0.01515152, -0.01515152, -0.01515152,\n",
              "        -0.01515152, -0.01515152, -0.01515152, -0.01515152, -0.01515152],\n",
              "       [-0.01515152, -0.01515152, -0.01515152, -0.01515152, -0.01515152,\n",
              "        -0.01515152,  0.15151515,  0.15151515,  0.15151515,  0.15151515,\n",
              "         0.15151515,  0.15151515, -0.01515152, -0.01515152, -0.01515152,\n",
              "        -0.01515152, -0.01515152, -0.01515152, -0.01515152, -0.01515152,\n",
              "        -0.01515152, -0.01515152, -0.01515152, -0.01515152, -0.01515152,\n",
              "        -0.01515152, -0.01515152, -0.01515152, -0.01515152, -0.01515152],\n",
              "       [-0.01515152, -0.01515152, -0.01515152, -0.01515152, -0.01515152,\n",
              "        -0.01515152, -0.01515152, -0.01515152, -0.01515152, -0.01515152,\n",
              "        -0.01515152, -0.01515152,  0.15151515,  0.15151515,  0.15151515,\n",
              "         0.15151515,  0.15151515,  0.15151515, -0.01515152, -0.01515152,\n",
              "        -0.01515152, -0.01515152, -0.01515152, -0.01515152, -0.01515152,\n",
              "        -0.01515152, -0.01515152, -0.01515152, -0.01515152, -0.01515152],\n",
              "       [-0.01515152, -0.01515152, -0.01515152, -0.01515152, -0.01515152,\n",
              "        -0.01515152, -0.01515152, -0.01515152, -0.01515152, -0.01515152,\n",
              "        -0.01515152, -0.01515152, -0.01515152, -0.01515152, -0.01515152,\n",
              "        -0.01515152, -0.01515152, -0.01515152,  0.15151515,  0.15151515,\n",
              "         0.15151515,  0.15151515,  0.15151515,  0.15151515, -0.01515152,\n",
              "        -0.01515152, -0.01515152, -0.01515152, -0.01515152, -0.01515152],\n",
              "       [-0.01515152, -0.01515152, -0.01515152, -0.01515152, -0.01515152,\n",
              "        -0.01515152, -0.01515152, -0.01515152, -0.01515152, -0.01515152,\n",
              "        -0.01515152, -0.01515152, -0.01515152, -0.01515152, -0.01515152,\n",
              "        -0.01515152, -0.01515152, -0.01515152, -0.01515152, -0.01515152,\n",
              "        -0.01515152, -0.01515152, -0.01515152, -0.01515152,  0.15151515,\n",
              "         0.15151515,  0.15151515,  0.15151515,  0.15151515,  0.15151515]])"
            ]
          },
          "metadata": {},
          "execution_count": 29
        }
      ]
    },
    {
      "cell_type": "code",
      "source": [
        "pred_weights = numpy.dot(numpy.dot(numpy.linalg.pinv(numpy.dot(design_matrix.T, design_matrix)), design_matrix.T), outcomes)\n",
        "pred_weights"
      ],
      "metadata": {
        "colab": {
          "base_uri": "https://localhost:8080/"
        },
        "id": "720qNL4FeCEX",
        "outputId": "dccadea6-0489-44f0-fac2-e9876c636c8d"
      },
      "execution_count": null,
      "outputs": [
        {
          "output_type": "execute_result",
          "data": {
            "text/plain": [
              "array([0.746908  , 0.93750221, 0.03214516, 0.29215699, 0.13658038,\n",
              "       0.01117527, 0.36946792, 0.46672068, 0.03041807, 0.31511186,\n",
              "       0.97474948])"
            ]
          },
          "metadata": {},
          "execution_count": 30
        }
      ]
    },
    {
      "cell_type": "code",
      "source": [
        "pyplot.plot([0,1], [0,1], 'r-')\n",
        "pyplot.plot(actual_weights, pred_weights, 'k.')\n",
        "\n",
        "pyplot.xlabel('Actual Weights')\n",
        "pyplot.ylabel('Predicted Weights')"
      ],
      "metadata": {
        "colab": {
          "base_uri": "https://localhost:8080/",
          "height": 467
        },
        "id": "GA7HKtBFe6zO",
        "outputId": "e94775ed-e4aa-4e43-9f55-0aea71525304"
      },
      "execution_count": null,
      "outputs": [
        {
          "output_type": "execute_result",
          "data": {
            "text/plain": [
              "Text(0, 0.5, 'Predicted Weights')"
            ]
          },
          "metadata": {},
          "execution_count": 31
        },
        {
          "output_type": "display_data",
          "data": {
            "text/plain": [
              "<Figure size 640x480 with 1 Axes>"
            ],
            "image/png": "[encoded data removed]"
          },
          "metadata": {}
        }
      ]
    },
    {
      "cell_type": "markdown",
      "source": [
        "Interesting. So what just happened here?\n",
        "\n",
        "Well, it seems that even tho there's no noise, my actual and predicted weights aren't matching up. it appears the company and year variables now have their own respective intercepts, though the weights are correct.\n",
        "\n",
        "But what caused this?\n",
        "\n",
        "Well, this has to do with the effect that adding a second categorical variable has on a linear regressions ability to identify relationships.\n",
        "\n",
        "If I cant determine what effect a variable has on its own on the output, it's then difficult for me to understand what the second variable adds to the table"
      ],
      "metadata": {
        "id": "C-SUGkh4fWsw"
      }
    },
    {
      "cell_type": "code",
      "source": [
        "simple_design = design_matrix[:,:-1]\n",
        "simple_design"
      ],
      "metadata": {
        "colab": {
          "base_uri": "https://localhost:8080/"
        },
        "id": "YJeBfeKGiBB7",
        "outputId": "4cb9e573-6b43-48a4-9dd1-d7e723053b8e"
      },
      "execution_count": null,
      "outputs": [
        {
          "output_type": "execute_result",
          "data": {
            "text/plain": [
              "array([[1., 0., 0., 0., 0., 0., 1., 0., 0., 0.],\n",
              "       [0., 1., 0., 0., 0., 0., 1., 0., 0., 0.],\n",
              "       [0., 0., 1., 0., 0., 0., 1., 0., 0., 0.],\n",
              "       [0., 0., 0., 1., 0., 0., 1., 0., 0., 0.],\n",
              "       [0., 0., 0., 0., 1., 0., 1., 0., 0., 0.],\n",
              "       [0., 0., 0., 0., 0., 1., 1., 0., 0., 0.],\n",
              "       [1., 0., 0., 0., 0., 0., 0., 1., 0., 0.],\n",
              "       [0., 1., 0., 0., 0., 0., 0., 1., 0., 0.],\n",
              "       [0., 0., 1., 0., 0., 0., 0., 1., 0., 0.],\n",
              "       [0., 0., 0., 1., 0., 0., 0., 1., 0., 0.],\n",
              "       [0., 0., 0., 0., 1., 0., 0., 1., 0., 0.],\n",
              "       [0., 0., 0., 0., 0., 1., 0., 1., 0., 0.],\n",
              "       [1., 0., 0., 0., 0., 0., 0., 0., 1., 0.],\n",
              "       [0., 1., 0., 0., 0., 0., 0., 0., 1., 0.],\n",
              "       [0., 0., 1., 0., 0., 0., 0., 0., 1., 0.],\n",
              "       [0., 0., 0., 1., 0., 0., 0., 0., 1., 0.],\n",
              "       [0., 0., 0., 0., 1., 0., 0., 0., 1., 0.],\n",
              "       [0., 0., 0., 0., 0., 1., 0., 0., 1., 0.],\n",
              "       [1., 0., 0., 0., 0., 0., 0., 0., 0., 1.],\n",
              "       [0., 1., 0., 0., 0., 0., 0., 0., 0., 1.],\n",
              "       [0., 0., 1., 0., 0., 0., 0., 0., 0., 1.],\n",
              "       [0., 0., 0., 1., 0., 0., 0., 0., 0., 1.],\n",
              "       [0., 0., 0., 0., 1., 0., 0., 0., 0., 1.],\n",
              "       [0., 0., 0., 0., 0., 1., 0., 0., 0., 1.],\n",
              "       [1., 0., 0., 0., 0., 0., 0., 0., 0., 0.],\n",
              "       [0., 1., 0., 0., 0., 0., 0., 0., 0., 0.],\n",
              "       [0., 0., 1., 0., 0., 0., 0., 0., 0., 0.],\n",
              "       [0., 0., 0., 1., 0., 0., 0., 0., 0., 0.],\n",
              "       [0., 0., 0., 0., 1., 0., 0., 0., 0., 0.],\n",
              "       [0., 0., 0., 0., 0., 1., 0., 0., 0., 0.]])"
            ]
          },
          "metadata": {},
          "execution_count": 32
        }
      ]
    },
    {
      "cell_type": "code",
      "source": [
        "simple_design.shape"
      ],
      "metadata": {
        "colab": {
          "base_uri": "https://localhost:8080/"
        },
        "id": "vVbByskvtEvg",
        "outputId": "61f25df5-df71-4ee8-d210-8fb39041f11f"
      },
      "execution_count": null,
      "outputs": [
        {
          "output_type": "execute_result",
          "data": {
            "text/plain": [
              "(30, 10)"
            ]
          },
          "metadata": {},
          "execution_count": 33
        }
      ]
    },
    {
      "cell_type": "code",
      "source": [
        "numpy.linalg.matrix_rank(simple_design)"
      ],
      "metadata": {
        "colab": {
          "base_uri": "https://localhost:8080/"
        },
        "id": "2T_pYL3htHzs",
        "outputId": "aad43631-c08b-41ad-8b79-2747cd857c39"
      },
      "execution_count": null,
      "outputs": [
        {
          "output_type": "execute_result",
          "data": {
            "text/plain": [
              "10"
            ]
          },
          "metadata": {},
          "execution_count": 34
        }
      ]
    },
    {
      "cell_type": "code",
      "source": [
        "actual_weights = numpy.random.rand(simple_design.shape[1])\n",
        "actual_weights"
      ],
      "metadata": {
        "colab": {
          "base_uri": "https://localhost:8080/"
        },
        "id": "VfoTkKrs1UKZ",
        "outputId": "b8274474-1f54-4f2a-ba92-c2cd47a8c362"
      },
      "execution_count": null,
      "outputs": [
        {
          "output_type": "execute_result",
          "data": {
            "text/plain": [
              "array([0.63953441, 0.39201111, 0.64826133, 0.27227473, 0.77944913,\n",
              "       0.18057068, 0.33946746, 0.15447574, 0.94125679, 0.86659309])"
            ]
          },
          "metadata": {},
          "execution_count": 35
        }
      ]
    },
    {
      "cell_type": "code",
      "source": [
        "outcomes = numpy.dot(simple_design, actual_weights)\n",
        "outcomes"
      ],
      "metadata": {
        "colab": {
          "base_uri": "https://localhost:8080/"
        },
        "id": "-GQd3n0f1ZxC",
        "outputId": "4b3c138f-e219-4e5c-a7e2-d956642f6aa2"
      },
      "execution_count": null,
      "outputs": [
        {
          "output_type": "execute_result",
          "data": {
            "text/plain": [
              "array([0.97900187, 0.73147857, 0.98772879, 0.61174219, 1.11891659,\n",
              "       0.52003814, 0.79401014, 0.54648685, 0.80273706, 0.42675047,\n",
              "       0.93392487, 0.33504642, 1.5807912 , 1.33326791, 1.58951812,\n",
              "       1.21353153, 1.72070593, 1.12182748, 1.5061275 , 1.2586042 ,\n",
              "       1.51485442, 1.13886782, 1.64604222, 1.04716377, 0.63953441,\n",
              "       0.39201111, 0.64826133, 0.27227473, 0.77944913, 0.18057068])"
            ]
          },
          "metadata": {},
          "execution_count": 36
        }
      ]
    },
    {
      "cell_type": "code",
      "source": [
        "outcomes += (numpy.random.rand(outcomes.shape[0]) - .5) * NOISE\n",
        "outcomes"
      ],
      "metadata": {
        "colab": {
          "base_uri": "https://localhost:8080/"
        },
        "id": "fOmm3H4U1dWy",
        "outputId": "cca98731-94a9-4019-8721-c935cd020763"
      },
      "execution_count": null,
      "outputs": [
        {
          "output_type": "execute_result",
          "data": {
            "text/plain": [
              "array([0.97900187, 0.73147857, 0.98772879, 0.61174219, 1.11891659,\n",
              "       0.52003814, 0.79401014, 0.54648685, 0.80273706, 0.42675047,\n",
              "       0.93392487, 0.33504642, 1.5807912 , 1.33326791, 1.58951812,\n",
              "       1.21353153, 1.72070593, 1.12182748, 1.5061275 , 1.2586042 ,\n",
              "       1.51485442, 1.13886782, 1.64604222, 1.04716377, 0.63953441,\n",
              "       0.39201111, 0.64826133, 0.27227473, 0.77944913, 0.18057068])"
            ]
          },
          "metadata": {},
          "execution_count": 37
        }
      ]
    },
    {
      "cell_type": "code",
      "source": [
        "# covariance\n",
        "\n",
        "numpy.dot(simple_design.T, simple_design)"
      ],
      "metadata": {
        "colab": {
          "base_uri": "https://localhost:8080/"
        },
        "id": "-chhXCcuFnsa",
        "outputId": "0109d2f7-1e04-4f76-bbd8-58a6207c9c90"
      },
      "execution_count": null,
      "outputs": [
        {
          "output_type": "execute_result",
          "data": {
            "text/plain": [
              "array([[5., 0., 0., 0., 0., 0., 1., 1., 1., 1.],\n",
              "       [0., 5., 0., 0., 0., 0., 1., 1., 1., 1.],\n",
              "       [0., 0., 5., 0., 0., 0., 1., 1., 1., 1.],\n",
              "       [0., 0., 0., 5., 0., 0., 1., 1., 1., 1.],\n",
              "       [0., 0., 0., 0., 5., 0., 1., 1., 1., 1.],\n",
              "       [0., 0., 0., 0., 0., 5., 1., 1., 1., 1.],\n",
              "       [1., 1., 1., 1., 1., 1., 6., 0., 0., 0.],\n",
              "       [1., 1., 1., 1., 1., 1., 0., 6., 0., 0.],\n",
              "       [1., 1., 1., 1., 1., 1., 0., 0., 6., 0.],\n",
              "       [1., 1., 1., 1., 1., 1., 0., 0., 0., 6.]])"
            ]
          },
          "metadata": {},
          "execution_count": 38
        }
      ]
    },
    {
      "cell_type": "code",
      "source": [
        "# precision\n",
        "\n",
        "numpy.linalg.pinv(numpy.dot(simple_design.T, simple_design))"
      ],
      "metadata": {
        "colab": {
          "base_uri": "https://localhost:8080/"
        },
        "id": "vI1Cq_lWFnaX",
        "outputId": "6f0c02f2-08bf-4dbe-a302-2bf951a7e3bb"
      },
      "execution_count": null,
      "outputs": [
        {
          "output_type": "execute_result",
          "data": {
            "text/plain": [
              "array([[ 0.33333333,  0.13333333,  0.13333333,  0.13333333,  0.13333333,\n",
              "         0.13333333, -0.16666667, -0.16666667, -0.16666667, -0.16666667],\n",
              "       [ 0.13333333,  0.33333333,  0.13333333,  0.13333333,  0.13333333,\n",
              "         0.13333333, -0.16666667, -0.16666667, -0.16666667, -0.16666667],\n",
              "       [ 0.13333333,  0.13333333,  0.33333333,  0.13333333,  0.13333333,\n",
              "         0.13333333, -0.16666667, -0.16666667, -0.16666667, -0.16666667],\n",
              "       [ 0.13333333,  0.13333333,  0.13333333,  0.33333333,  0.13333333,\n",
              "         0.13333333, -0.16666667, -0.16666667, -0.16666667, -0.16666667],\n",
              "       [ 0.13333333,  0.13333333,  0.13333333,  0.13333333,  0.33333333,\n",
              "         0.13333333, -0.16666667, -0.16666667, -0.16666667, -0.16666667],\n",
              "       [ 0.13333333,  0.13333333,  0.13333333,  0.13333333,  0.13333333,\n",
              "         0.33333333, -0.16666667, -0.16666667, -0.16666667, -0.16666667],\n",
              "       [-0.16666667, -0.16666667, -0.16666667, -0.16666667, -0.16666667,\n",
              "        -0.16666667,  0.33333333,  0.16666667,  0.16666667,  0.16666667],\n",
              "       [-0.16666667, -0.16666667, -0.16666667, -0.16666667, -0.16666667,\n",
              "        -0.16666667,  0.16666667,  0.33333333,  0.16666667,  0.16666667],\n",
              "       [-0.16666667, -0.16666667, -0.16666667, -0.16666667, -0.16666667,\n",
              "        -0.16666667,  0.16666667,  0.16666667,  0.33333333,  0.16666667],\n",
              "       [-0.16666667, -0.16666667, -0.16666667, -0.16666667, -0.16666667,\n",
              "        -0.16666667,  0.16666667,  0.16666667,  0.16666667,  0.33333333]])"
            ]
          },
          "metadata": {},
          "execution_count": 39
        }
      ]
    },
    {
      "cell_type": "code",
      "source": [
        "# hat\n",
        "\n",
        "numpy.dot(numpy.linalg.pinv(numpy.dot(simple_design.T, simple_design)), simple_design.T)"
      ],
      "metadata": {
        "colab": {
          "base_uri": "https://localhost:8080/"
        },
        "id": "__zwPo0QFnP9",
        "outputId": "43a49241-2739-4ad7-fdc7-b373e5dc5b91"
      },
      "execution_count": null,
      "outputs": [
        {
          "output_type": "execute_result",
          "data": {
            "text/plain": [
              "array([[ 1.66666667e-01, -3.33333333e-02, -3.33333333e-02,\n",
              "        -3.33333333e-02, -3.33333333e-02, -3.33333333e-02,\n",
              "         1.66666667e-01, -3.33333333e-02, -3.33333333e-02,\n",
              "        -3.33333333e-02, -3.33333333e-02, -3.33333333e-02,\n",
              "         1.66666667e-01, -3.33333333e-02, -3.33333333e-02,\n",
              "        -3.33333333e-02, -3.33333333e-02, -3.33333333e-02,\n",
              "         1.66666667e-01, -3.33333333e-02, -3.33333333e-02,\n",
              "        -3.33333333e-02, -3.33333333e-02, -3.33333333e-02,\n",
              "         3.33333333e-01,  1.33333333e-01,  1.33333333e-01,\n",
              "         1.33333333e-01,  1.33333333e-01,  1.33333333e-01],\n",
              "       [-3.33333333e-02,  1.66666667e-01, -3.33333333e-02,\n",
              "        -3.33333333e-02, -3.33333333e-02, -3.33333333e-02,\n",
              "        -3.33333333e-02,  1.66666667e-01, -3.33333333e-02,\n",
              "        -3.33333333e-02, -3.33333333e-02, -3.33333333e-02,\n",
              "        -3.33333333e-02,  1.66666667e-01, -3.33333333e-02,\n",
              "        -3.33333333e-02, -3.33333333e-02, -3.33333333e-02,\n",
              "        -3.33333333e-02,  1.66666667e-01, -3.33333333e-02,\n",
              "        -3.33333333e-02, -3.33333333e-02, -3.33333333e-02,\n",
              "         1.33333333e-01,  3.33333333e-01,  1.33333333e-01,\n",
              "         1.33333333e-01,  1.33333333e-01,  1.33333333e-01],\n",
              "       [-3.33333333e-02, -3.33333333e-02,  1.66666667e-01,\n",
              "        -3.33333333e-02, -3.33333333e-02, -3.33333333e-02,\n",
              "        -3.33333333e-02, -3.33333333e-02,  1.66666667e-01,\n",
              "        -3.33333333e-02, -3.33333333e-02, -3.33333333e-02,\n",
              "        -3.33333333e-02, -3.33333333e-02,  1.66666667e-01,\n",
              "        -3.33333333e-02, -3.33333333e-02, -3.33333333e-02,\n",
              "        -3.33333333e-02, -3.33333333e-02,  1.66666667e-01,\n",
              "        -3.33333333e-02, -3.33333333e-02, -3.33333333e-02,\n",
              "         1.33333333e-01,  1.33333333e-01,  3.33333333e-01,\n",
              "         1.33333333e-01,  1.33333333e-01,  1.33333333e-01],\n",
              "       [-3.33333333e-02, -3.33333333e-02, -3.33333333e-02,\n",
              "         1.66666667e-01, -3.33333333e-02, -3.33333333e-02,\n",
              "        -3.33333333e-02, -3.33333333e-02, -3.33333333e-02,\n",
              "         1.66666667e-01, -3.33333333e-02, -3.33333333e-02,\n",
              "        -3.33333333e-02, -3.33333333e-02, -3.33333333e-02,\n",
              "         1.66666667e-01, -3.33333333e-02, -3.33333333e-02,\n",
              "        -3.33333333e-02, -3.33333333e-02, -3.33333333e-02,\n",
              "         1.66666667e-01, -3.33333333e-02, -3.33333333e-02,\n",
              "         1.33333333e-01,  1.33333333e-01,  1.33333333e-01,\n",
              "         3.33333333e-01,  1.33333333e-01,  1.33333333e-01],\n",
              "       [-3.33333333e-02, -3.33333333e-02, -3.33333333e-02,\n",
              "        -3.33333333e-02,  1.66666667e-01, -3.33333333e-02,\n",
              "        -3.33333333e-02, -3.33333333e-02, -3.33333333e-02,\n",
              "        -3.33333333e-02,  1.66666667e-01, -3.33333333e-02,\n",
              "        -3.33333333e-02, -3.33333333e-02, -3.33333333e-02,\n",
              "        -3.33333333e-02,  1.66666667e-01, -3.33333333e-02,\n",
              "        -3.33333333e-02, -3.33333333e-02, -3.33333333e-02,\n",
              "        -3.33333333e-02,  1.66666667e-01, -3.33333333e-02,\n",
              "         1.33333333e-01,  1.33333333e-01,  1.33333333e-01,\n",
              "         1.33333333e-01,  3.33333333e-01,  1.33333333e-01],\n",
              "       [-3.33333333e-02, -3.33333333e-02, -3.33333333e-02,\n",
              "        -3.33333333e-02, -3.33333333e-02,  1.66666667e-01,\n",
              "        -3.33333333e-02, -3.33333333e-02, -3.33333333e-02,\n",
              "        -3.33333333e-02, -3.33333333e-02,  1.66666667e-01,\n",
              "        -3.33333333e-02, -3.33333333e-02, -3.33333333e-02,\n",
              "        -3.33333333e-02, -3.33333333e-02,  1.66666667e-01,\n",
              "        -3.33333333e-02, -3.33333333e-02, -3.33333333e-02,\n",
              "        -3.33333333e-02, -3.33333333e-02,  1.66666667e-01,\n",
              "         1.33333333e-01,  1.33333333e-01,  1.33333333e-01,\n",
              "         1.33333333e-01,  1.33333333e-01,  3.33333333e-01],\n",
              "       [ 1.66666667e-01,  1.66666667e-01,  1.66666667e-01,\n",
              "         1.66666667e-01,  1.66666667e-01,  1.66666667e-01,\n",
              "        -8.60422844e-16,  1.80411242e-15, -2.52575738e-15,\n",
              "        -1.47104551e-15, -1.02695630e-15, -6.93889390e-16,\n",
              "         6.10622664e-16,  3.27515792e-15, -1.05471187e-15,\n",
              "         0.00000000e+00,  4.44089210e-16,  7.77156117e-16,\n",
              "        -8.32667268e-16,  1.83186799e-15, -2.49800181e-15,\n",
              "        -1.44328993e-15, -9.99200722e-16, -6.66133815e-16,\n",
              "        -1.66666667e-01, -1.66666667e-01, -1.66666667e-01,\n",
              "        -1.66666667e-01, -1.66666667e-01, -1.66666667e-01],\n",
              "       [ 6.10622664e-16,  3.24740235e-15, -1.08246745e-15,\n",
              "         1.66533454e-16,  6.66133815e-16,  3.60822483e-16,\n",
              "         1.66666667e-01,  1.66666667e-01,  1.66666667e-01,\n",
              "         1.66666667e-01,  1.66666667e-01,  1.66666667e-01,\n",
              "         6.66133815e-16,  3.30291350e-15, -1.02695630e-15,\n",
              "         2.22044605e-16,  7.21644966e-16,  4.16333634e-16,\n",
              "        -7.77156117e-16,  1.85962357e-15, -2.47024623e-15,\n",
              "        -1.22124533e-15, -7.21644966e-16, -1.02695630e-15,\n",
              "        -1.66666667e-01, -1.66666667e-01, -1.66666667e-01,\n",
              "        -1.66666667e-01, -1.66666667e-01, -1.66666667e-01],\n",
              "       [ 5.82867088e-16,  3.38618023e-15, -8.60422844e-16,\n",
              "         1.38777878e-16,  5.27355937e-16,  1.38777878e-16,\n",
              "        -8.04911693e-16,  1.99840144e-15, -2.24820162e-15,\n",
              "        -1.24900090e-15, -8.60422844e-16, -1.24900090e-15,\n",
              "         1.66666667e-01,  1.66666667e-01,  1.66666667e-01,\n",
              "         1.66666667e-01,  1.66666667e-01,  1.66666667e-01,\n",
              "        -8.60422844e-16,  1.94289029e-15, -2.30371278e-15,\n",
              "        -1.30451205e-15, -9.15933995e-16, -1.30451205e-15,\n",
              "        -1.66666667e-01, -1.66666667e-01, -1.66666667e-01,\n",
              "        -1.66666667e-01, -1.66666667e-01, -1.66666667e-01],\n",
              "       [ 6.38378239e-16,  3.35842465e-15, -9.15933995e-16,\n",
              "         2.22044605e-16,  2.49800181e-16,  5.82867088e-16,\n",
              "        -8.32667268e-16,  1.88737914e-15, -2.38697950e-15,\n",
              "        -1.24900090e-15, -1.22124533e-15, -8.88178420e-16,\n",
              "         6.66133815e-16,  3.38618023e-15, -8.88178420e-16,\n",
              "         2.49800181e-16,  2.77555756e-16,  6.10622664e-16,\n",
              "         1.66666667e-01,  1.66666667e-01,  1.66666667e-01,\n",
              "         1.66666667e-01,  1.66666667e-01,  1.66666667e-01,\n",
              "        -1.66666667e-01, -1.66666667e-01, -1.66666667e-01,\n",
              "        -1.66666667e-01, -1.66666667e-01, -1.66666667e-01]])"
            ]
          },
          "metadata": {},
          "execution_count": 40
        }
      ]
    },
    {
      "cell_type": "code",
      "source": [
        "pred_weights = numpy.dot(numpy.dot(numpy.linalg.pinv(numpy.dot(simple_design.T, simple_design)), simple_design.T), outcomes)\n",
        "pred_weights"
      ],
      "metadata": {
        "colab": {
          "base_uri": "https://localhost:8080/"
        },
        "id": "_F5Ot6lR1ipW",
        "outputId": "7aef2035-0d5c-44f1-8ce9-60b23f480c9e"
      },
      "execution_count": null,
      "outputs": [
        {
          "output_type": "execute_result",
          "data": {
            "text/plain": [
              "array([0.63953441, 0.39201111, 0.64826133, 0.27227473, 0.77944913,\n",
              "       0.18057068, 0.33946746, 0.15447574, 0.94125679, 0.86659309])"
            ]
          },
          "metadata": {},
          "execution_count": 41
        }
      ]
    },
    {
      "cell_type": "code",
      "source": [
        "pyplot.plot([0,1], [0,1], 'r-')\n",
        "pyplot.plot(actual_weights, pred_weights, 'k.')\n",
        "\n",
        "pyplot.xlabel('Actual Weights')\n",
        "pyplot.ylabel('Predicted Weights')"
      ],
      "metadata": {
        "colab": {
          "base_uri": "https://localhost:8080/",
          "height": 467
        },
        "id": "7soUfalj1nVc",
        "outputId": "5a9dc24b-9c4f-4f20-d50f-5b176f355c95"
      },
      "execution_count": null,
      "outputs": [
        {
          "output_type": "execute_result",
          "data": {
            "text/plain": [
              "Text(0, 0.5, 'Predicted Weights')"
            ]
          },
          "metadata": {},
          "execution_count": 42
        },
        {
          "output_type": "display_data",
          "data": {
            "text/plain": [
              "<Figure size 640x480 with 1 Axes>"
            ],
            "image/png": "[encoded data removed]"
          },
          "metadata": {}
        }
      ]
    },
    {
      "cell_type": "code",
      "source": [
        "# Creating a list of sectors and then putting the list into a data dictionary in key-value pairs\n",
        "\n",
        "sector = ['Tech', 'Energy', 'Pharma']\n",
        "sector_map = {x:ii for (ii,x) in enumerate(sector)}\n",
        "sector_map"
      ],
      "metadata": {
        "colab": {
          "base_uri": "https://localhost:8080/"
        },
        "id": "9rRIt8T34ho7",
        "outputId": "3e438739-18d0-49de-eb5a-0e6f21f2be0e"
      },
      "execution_count": null,
      "outputs": [
        {
          "output_type": "execute_result",
          "data": {
            "text/plain": [
              "{'Tech': 0, 'Energy': 1, 'Pharma': 2}"
            ]
          },
          "metadata": {},
          "execution_count": 43
        }
      ]
    },
    {
      "cell_type": "code",
      "source": [
        "company1 = ['Apple', 'Microsoft']\n",
        "company2 = ['Exxon', 'Shell']\n",
        "company3 = ['Novartis', 'Merck']\n",
        "co_map1 = {x:ii for (ii,x) in enumerate(company1)}\n",
        "co_map2 = {x:ii for (ii,x) in enumerate(company2)}\n",
        "co_map3 = {x:ii for (ii,x) in enumerate(company3)}"
      ],
      "metadata": {
        "id": "K1JN5MYoKCpZ"
      },
      "execution_count": null,
      "outputs": []
    },
    {
      "cell_type": "code",
      "source": [
        "# Remaking the design matrix to include sector\n",
        "\n",
        "acc = []\n",
        "\n",
        "for yy in range(START_YEAR, START_YEAR + NUM_YEARS):\n",
        "  for c in company:\n",
        "      new_row = numpy.zeros((len(company) + len(year), ))\n",
        "      new_row[co_map[c]] = 1\n",
        "      new_row[year_map[yy] + len(company)] = 1\n",
        "      acc.append(new_row)\n",
        "\n",
        "design_matrix = numpy.vstack(acc)\n",
        "design_matrix"
      ],
      "metadata": {
        "colab": {
          "base_uri": "https://localhost:8080/"
        },
        "id": "k_sNuny7I-t-",
        "outputId": "ee1630c3-a718-4805-9c12-57ee7fbfdb4f"
      },
      "execution_count": null,
      "outputs": [
        {
          "output_type": "execute_result",
          "data": {
            "text/plain": [
              "array([[1., 0., 0., 0., 0., 0., 1., 0., 0., 0., 0.],\n",
              "       [0., 1., 0., 0., 0., 0., 1., 0., 0., 0., 0.],\n",
              "       [0., 0., 1., 0., 0., 0., 1., 0., 0., 0., 0.],\n",
              "       [0., 0., 0., 1., 0., 0., 1., 0., 0., 0., 0.],\n",
              "       [0., 0., 0., 0., 1., 0., 1., 0., 0., 0., 0.],\n",
              "       [0., 0., 0., 0., 0., 1., 1., 0., 0., 0., 0.],\n",
              "       [1., 0., 0., 0., 0., 0., 0., 1., 0., 0., 0.],\n",
              "       [0., 1., 0., 0., 0., 0., 0., 1., 0., 0., 0.],\n",
              "       [0., 0., 1., 0., 0., 0., 0., 1., 0., 0., 0.],\n",
              "       [0., 0., 0., 1., 0., 0., 0., 1., 0., 0., 0.],\n",
              "       [0., 0., 0., 0., 1., 0., 0., 1., 0., 0., 0.],\n",
              "       [0., 0., 0., 0., 0., 1., 0., 1., 0., 0., 0.],\n",
              "       [1., 0., 0., 0., 0., 0., 0., 0., 1., 0., 0.],\n",
              "       [0., 1., 0., 0., 0., 0., 0., 0., 1., 0., 0.],\n",
              "       [0., 0., 1., 0., 0., 0., 0., 0., 1., 0., 0.],\n",
              "       [0., 0., 0., 1., 0., 0., 0., 0., 1., 0., 0.],\n",
              "       [0., 0., 0., 0., 1., 0., 0., 0., 1., 0., 0.],\n",
              "       [0., 0., 0., 0., 0., 1., 0., 0., 1., 0., 0.],\n",
              "       [1., 0., 0., 0., 0., 0., 0., 0., 0., 1., 0.],\n",
              "       [0., 1., 0., 0., 0., 0., 0., 0., 0., 1., 0.],\n",
              "       [0., 0., 1., 0., 0., 0., 0., 0., 0., 1., 0.],\n",
              "       [0., 0., 0., 1., 0., 0., 0., 0., 0., 1., 0.],\n",
              "       [0., 0., 0., 0., 1., 0., 0., 0., 0., 1., 0.],\n",
              "       [0., 0., 0., 0., 0., 1., 0., 0., 0., 1., 0.],\n",
              "       [1., 0., 0., 0., 0., 0., 0., 0., 0., 0., 1.],\n",
              "       [0., 1., 0., 0., 0., 0., 0., 0., 0., 0., 1.],\n",
              "       [0., 0., 1., 0., 0., 0., 0., 0., 0., 0., 1.],\n",
              "       [0., 0., 0., 1., 0., 0., 0., 0., 0., 0., 1.],\n",
              "       [0., 0., 0., 0., 1., 0., 0., 0., 0., 0., 1.],\n",
              "       [0., 0., 0., 0., 0., 1., 0., 0., 0., 0., 1.]])"
            ]
          },
          "metadata": {},
          "execution_count": 45
        }
      ]
    },
    {
      "cell_type": "code",
      "source": [
        "axx = []\n",
        "\n",
        "for yy in range(START_YEAR, START_YEAR + NUM_YEARS):\n",
        "  for s in sector:\n",
        "    new_row = numpy.zeros((len(company) + len(sector) + len(year), ))\n",
        "    new_row[co_map[c]] = 1\n",
        "    new_row[sector_map[s] + len(company)] = 1\n",
        "    new_row[year_map[yy] + len(sector) + len(company)] = 1\n",
        "    axx.append(new_row)\n",
        "\n",
        "design_matrix2 = numpy.vstack(axx)\n",
        "design_matrix2"
      ],
      "metadata": {
        "colab": {
          "base_uri": "https://localhost:8080/",
          "height": 240
        },
        "id": "1E2PZyLBrlXM",
        "outputId": "8a44cbb1-3a1c-4fde-d54a-06ffb456d62a"
      },
      "execution_count": null,
      "outputs": [
        {
          "output_type": "error",
          "ename": "KeyError",
          "evalue": "ignored",
          "traceback": [
            "\u001b[0;31m---------------------------------------------------------------------------\u001b[0m",
            "\u001b[0;31mKeyError\u001b[0m                                  Traceback (most recent call last)",
            "\u001b[0;32m<ipython-input-57-7a4fc47fe4eb>\u001b[0m in \u001b[0;36m<cell line: 3>\u001b[0;34m()\u001b[0m\n\u001b[1;32m      5\u001b[0m     \u001b[0mnew_row\u001b[0m \u001b[0;34m=\u001b[0m \u001b[0mnumpy\u001b[0m\u001b[0;34m.\u001b[0m\u001b[0mzeros\u001b[0m\u001b[0;34m(\u001b[0m\u001b[0;34m(\u001b[0m\u001b[0mlen\u001b[0m\u001b[0;34m(\u001b[0m\u001b[0msector\u001b[0m\u001b[0;34m)\u001b[0m \u001b[0;34m+\u001b[0m \u001b[0mlen\u001b[0m\u001b[0;34m(\u001b[0m\u001b[0myear\u001b[0m\u001b[0;34m)\u001b[0m\u001b[0;34m,\u001b[0m \u001b[0;34m)\u001b[0m\u001b[0;34m)\u001b[0m\u001b[0;34m\u001b[0m\u001b[0;34m\u001b[0m\u001b[0m\n\u001b[1;32m      6\u001b[0m     \u001b[0mnew_row\u001b[0m\u001b[0;34m[\u001b[0m\u001b[0msector_map\u001b[0m\u001b[0;34m[\u001b[0m\u001b[0ms\u001b[0m\u001b[0;34m]\u001b[0m\u001b[0;34m]\u001b[0m \u001b[0;34m=\u001b[0m \u001b[0;36m1\u001b[0m\u001b[0;34m\u001b[0m\u001b[0;34m\u001b[0m\u001b[0m\n\u001b[0;32m----> 7\u001b[0;31m     \u001b[0mnew_row\u001b[0m\u001b[0;34m[\u001b[0m\u001b[0myear_map\u001b[0m\u001b[0;34m[\u001b[0m\u001b[0myy\u001b[0m\u001b[0;34m]\u001b[0m \u001b[0;34m+\u001b[0m \u001b[0mlen\u001b[0m\u001b[0;34m(\u001b[0m\u001b[0msector\u001b[0m\u001b[0;34m)\u001b[0m\u001b[0;34m]\u001b[0m \u001b[0;34m=\u001b[0m \u001b[0;36m1\u001b[0m\u001b[0;34m\u001b[0m\u001b[0;34m\u001b[0m\u001b[0m\n\u001b[0m\u001b[1;32m      8\u001b[0m     \u001b[0maxx\u001b[0m\u001b[0;34m.\u001b[0m\u001b[0mappend\u001b[0m\u001b[0;34m(\u001b[0m\u001b[0mnew_row\u001b[0m\u001b[0;34m)\u001b[0m\u001b[0;34m\u001b[0m\u001b[0;34m\u001b[0m\u001b[0m\n\u001b[1;32m      9\u001b[0m \u001b[0;34m\u001b[0m\u001b[0m\n",
            "\u001b[0;31mKeyError\u001b[0m: 2022"
          ]
        }
      ]
    }
  ]
}