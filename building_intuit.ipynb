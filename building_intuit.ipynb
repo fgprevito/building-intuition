{
  "nbformat": 4,
  "nbformat_minor": 0,
  "metadata": {
    "colab": {
      "provenance": [],
      "authorship_tag": "ABX9TyNuMp4KHCXakq52S6ZaPVuz",
      "include_colab_link": true
    },
    "kernelspec": {
      "name": "python3",
      "display_name": "Python 3"
    },
    "language_info": {
      "name": "python"
    }
  },
  "cells": [
    {
      "cell_type": "markdown",
      "metadata": {
        "id": "view-in-github",
        "colab_type": "text"
      },
      "source": [
        "<a href=\"https://colab.research.google.com/github/fgprevito/building-intuition/blob/main/building_intuit.ipynb\" target=\"_parent\"><img src=\"https://colab.research.google.com/assets/colab-badge.svg\" alt=\"Open In Colab\"/></a>"
      ]
    },
    {
      "cell_type": "code",
      "execution_count": 1,
      "metadata": {
        "id": "Fyc_Ia4YHKyK"
      },
      "outputs": [],
      "source": [
        "import pandas\n",
        "import numpy\n",
        "import seaborn\n",
        "import matplotlib.pyplot as plt"
      ]
    },
    {
      "cell_type": "code",
      "source": [
        "def spreadsheet_data(NUM_SECTORS, NUM_COMPANIES_PER_SECTOR, START_YEAR, NUM_YEARS):\n",
        "\n",
        "  snames = ['Sector'+str(x) for x in range(NUM_SECTORS)]\n",
        "  cnames = [['FakeCo'+str(x)+'-'+sector_name for x in range(NUM_COMPANIES_PER_SECTOR)] for sector_name in snames]\n",
        "  cnames = [item for sublist in cnames for item in sublist]\n",
        "\n",
        "  rows = []\n",
        "  for cc in cnames:\n",
        "    implied_sector = cc.split('-')[1]\n",
        "    for yy in range(NUM_YEARS):\n",
        "      rows.append([cc, implied_sector, START_YEAR + yy])\n",
        "\n",
        "  df = pandas.DataFrame(data=rows, columns=['Company Name', 'Sector', 'Year'])\n",
        "  return df"
      ],
      "metadata": {
        "id": "6UsBcvgPHTlq"
      },
      "execution_count": 2,
      "outputs": []
    },
    {
      "cell_type": "code",
      "source": [
        "def company_affects(df, NOISE_LEVEL=0, SINGLE_VAR_NOISE=1):\n",
        "\n",
        "  company_levels = { x : ii for (ii,x) in enumerate(df['Company Name'].unique()) } # Creates a flipped data dictionary consisting of each unique company in the dataframe\n",
        "  company_level_values = numpy.random.rand(len(company_levels)) # creating the true parameters I want to later calculate\n",
        "\n",
        "  plain_company_returns = numpy.array([company_level_values[company_levels[x]] for x in df['Company Name']]) # creates an array of each respective company's parameters\n",
        "\n",
        "  noisy_company_returns = plain_company_returns + NOISE_LEVEL * numpy.random.randn(plain_company_returns.shape[0]) # adjusts the noise level on those parameters\n",
        "  noisy_company_returns[1] *= SINGLE_VAR_NOISE\n",
        "  df['Return'] = noisy_company_returns # returns a pandas dataframe column called 'Return' consisting of returns whose values are affected only by the company variable\n",
        "\n",
        "  true_weights = company_level_values\n",
        "\n",
        "  return df, true_weights"
      ],
      "metadata": {
        "id": "9KHG9KYwHs_Y"
      },
      "execution_count": 3,
      "outputs": []
    },
    {
      "cell_type": "code",
      "source": [
        "def company_sector_affects(df, NOISE_LEVEL=0, SINGLE_VAR_NOISE=1):\n",
        "\n",
        "  company_levels = { x : ii for (ii,x) in enumerate(df['Company Name'].unique()) }\n",
        "  company_level_values = numpy.random.rand(len(company_levels))\n",
        "\n",
        "  sector_levels = { x : ii for (ii,x) in enumerate(df['Sector'].unique()) }\n",
        "  sector_level_values = numpy.random.rand(len(sector_levels))\n",
        "\n",
        "  plain_company_returns = numpy.array([company_level_values[company_levels[x]] for x in df['Company Name']])\n",
        "  plain_sector_returns = numpy.array([sector_level_values[sector_levels[x]] for x in df['Sector']])\n",
        "\n",
        "  noisy_returns = plain_company_returns + plain_sector_returns + NOISE_LEVEL * numpy.random.randn(plain_company_returns.shape[0])\n",
        "  noisy_returns[1] *= SINGLE_VAR_NOISE\n",
        "  df['Return'] = noisy_returns\n",
        "\n",
        "  true_weights = numpy.concatenate((company_level_values, sector_level_values))\n",
        "\n",
        "  return df, true_weights"
      ],
      "metadata": {
        "id": "CjVh2ybzIm5l"
      },
      "execution_count": 4,
      "outputs": []
    },
    {
      "cell_type": "code",
      "source": [
        "def company_sector_year_affects(df, NOISE_LEVEL=0, SINGLE_VAR_NOISE=1):\n",
        "\n",
        "  company_levels = { x : ii for (ii,x) in enumerate(df['Company Name'].unique()) }\n",
        "  company_level_values = numpy.random.rand(len(company_levels))\n",
        "\n",
        "  sector_levels = { x : ii for (ii,x) in enumerate(df['Sector'].unique()) }\n",
        "  sector_level_values = numpy.random.rand(len(sector_levels))\n",
        "\n",
        "  year_levels = { x : ii for (ii,x) in enumerate(df['Year'].unique()) }\n",
        "  year_level_values = numpy.random.rand(len(year_levels))\n",
        "\n",
        "  plain_company_returns = numpy.array([company_level_values[company_levels[x]] for x in df['Company Name']])\n",
        "  plain_sector_returns = numpy.array([sector_level_values[sector_levels[x]] for x in df['Sector']])\n",
        "  plain_year_returns = numpy.array([year_level_values[year_levels[x]] for x in df['Year']])\n",
        "\n",
        "  noisy_returns = plain_company_returns + plain_sector_returns + plain_year_returns + NOISE_LEVEL * numpy.random.randn(plain_company_returns.shape[0])\n",
        "  noisy_returns[1] *= SINGLE_VAR_NOISE\n",
        "  df['Return'] = noisy_returns\n",
        "\n",
        "  true_weights = numpy.concatenate((company_level_values, sector_level_values, year_level_values))\n",
        "\n",
        "  return df, true_weights"
      ],
      "metadata": {
        "id": "caDRyw1iIsh1"
      },
      "execution_count": 5,
      "outputs": []
    },
    {
      "cell_type": "code",
      "source": [
        "def design_matrix_company(the_spreadsheet):\n",
        "\n",
        "  unique_companies = { x : ii for (ii,x) in enumerate(the_spreadsheet['Company Name'].unique()) }\n",
        "\n",
        "  num_unique_companies = len(unique_companies)\n",
        "\n",
        "  design_matrix = numpy.zeros((the_spreadsheet.shape[0], num_unique_companies))\n",
        "  for ii, cn in enumerate(the_spreadsheet['Company Name']):\n",
        "    design_matrix[ii, unique_companies[cn]] = 1\n",
        "\n",
        "  return design_matrix"
      ],
      "metadata": {
        "id": "ozotad1EIvZI"
      },
      "execution_count": 6,
      "outputs": []
    },
    {
      "cell_type": "code",
      "source": [
        "def design_matrix_company_sector(the_spreadsheet):\n",
        "\n",
        "  unique_companies = { x : ii for ii,x in enumerate(the_spreadsheet['Company Name'].unique()) }\n",
        "  unique_sectors = { x : ii for ii,x in enumerate(the_spreadsheet['Sector'].unique()) }\n",
        "\n",
        "  num_unique_companies = len(unique_companies)\n",
        "  num_unique_sectors = len(unique_sectors)\n",
        "\n",
        "  design_matrix = numpy.zeros((the_spreadsheet.shape[0], num_unique_companies + num_unique_sectors))\n",
        "  for ii, (cn, sn) in enumerate(zip(the_spreadsheet['Company Name'], the_spreadsheet['Sector'])):\n",
        "    design_matrix[ii, unique_companies[cn]] = 1\n",
        "    design_matrix[ii, num_unique_companies + unique_sectors[sn]] = 1\n",
        "\n",
        "  return design_matrix"
      ],
      "metadata": {
        "id": "QeEs-5rtIz-X"
      },
      "execution_count": 7,
      "outputs": []
    },
    {
      "cell_type": "code",
      "source": [
        "def design_matrix_company_sector_year(the_spreadsheet):\n",
        "\n",
        "  unique_companies = { x : ii for ii,x in enumerate(the_spreadsheet['Company Name'].unique()) }\n",
        "  unique_sectors = { x : ii for ii,x in enumerate(the_spreadsheet['Sector'].unique()) }\n",
        "  unique_years = { x : ii for ii,x in enumerate(the_spreadsheet['Year'].unique()) }\n",
        "\n",
        "  num_unique_companies = len(unique_companies)\n",
        "  num_unique_sectors = len(unique_sectors)\n",
        "  num_unique_years = len(unique_years)\n",
        "\n",
        "  design_matrix = numpy.zeros((the_spreadsheet.shape[0], num_unique_companies + num_unique_sectors + num_unique_years))\n",
        "  for ii, (cn, sn, yr) in enumerate(zip(the_spreadsheet['Company Name'], the_spreadsheet['Sector'], the_spreadsheet['Year'])):\n",
        "    design_matrix[ii, unique_companies[cn]] = 1\n",
        "    design_matrix[ii, num_unique_companies + unique_sectors[sn]] = 1\n",
        "    design_matrix[ii, num_unique_companies + num_unique_sectors + unique_years[yr]] = 1\n",
        "\n",
        "  return design_matrix"
      ],
      "metadata": {
        "id": "i7ZOp4JxI1A7"
      },
      "execution_count": 8,
      "outputs": []
    },
    {
      "cell_type": "markdown",
      "source": [
        "A design matrix is nothing but a landscape for me to record which factors affect which outcomes"
      ],
      "metadata": {
        "id": "wkXpAmMWI8A4"
      }
    },
    {
      "cell_type": "code",
      "source": [
        "def covariance_matrix(design_matrix):\n",
        "  print('Covariance Matrix: ')\n",
        "  print(numpy.dot(design_matrix.T, design_matrix))\n",
        "\n",
        "  return\n",
        "\n",
        "def precision_matrix(design_matrix):\n",
        "  print('Precision Matrix: ')\n",
        "  print(numpy.linalg.pinv(numpy.dot(design_matrix.T, design_matrix)))\n",
        "\n",
        "  return\n",
        "\n",
        "def hat_matrix(design_matrix):\n",
        "  print('Hat Matrix: ')\n",
        "  print(numpy.dot(numpy.dot(numpy.linalg.pinv(numpy.dot(design_matrix.T, design_matrix)), design_matrix.T), outcomes))\n",
        "\n",
        "  return"
      ],
      "metadata": {
        "id": "ONFkfr6VI2nW"
      },
      "execution_count": 9,
      "outputs": []
    },
    {
      "cell_type": "code",
      "source": [
        "def variable_analysis(design_matrix):\n",
        "\n",
        "  vmax = numpy.max(numpy.abs(design_matrix[0]))\n",
        "\n",
        "  covariance = numpy.dot(design_matrix.T, design_matrix)\n",
        "  precision = numpy.linalg.pinv(numpy.dot(design_matrix.T, design_matrix))\n",
        "  hat = numpy.dot(numpy.linalg.pinv(numpy.dot(design_matrix.T, design_matrix)), design_matrix.T)\n",
        "\n",
        "  figure, axes = plt.subplots(1, 3, figsize=(20, 5))\n",
        "\n",
        "  # can add annot=True and fmt=' ' to add annotations within boxes in heatmap\n",
        "  seaborn.heatmap(covariance, cmap=\"coolwarm\", center=0, vmin=-vmax, vmax=vmax, ax=axes[0])\n",
        "  axes[0].set_title('Covariance Matrix')\n",
        "\n",
        "  seaborn.heatmap(precision, cmap=\"coolwarm\", center=0, vmin=-vmax, vmax=vmax, ax=axes[1])\n",
        "  axes[1].set_title('Precision Matrix')\n",
        "\n",
        "  seaborn.heatmap(hat, cmap=\"coolwarm\", center=0, vmin=-vmax, vmax=vmax, ax=axes[2])\n",
        "  axes[2].set_title('Hat Matrix')\n",
        "\n",
        "  plt.show()\n",
        "\n",
        "  return"
      ],
      "metadata": {
        "id": "Hx2YalAPI_V6"
      },
      "execution_count": 10,
      "outputs": []
    },
    {
      "cell_type": "code",
      "source": [
        "def model_weights_accuracy(true_weights, predicted_weights):\n",
        "\n",
        "  plt.plot([0,1], [0,1], 'r-')\n",
        "  plt.plot(true_weights, predicted_weights, 'k.')\n",
        "\n",
        "  plt.xlabel('True Weights')\n",
        "  plt.ylabel('Predicted Weights')\n",
        "\n",
        "  return\n",
        "\n",
        "def model_outcomes_accuracy(true_outcomes, predicted_outcomes):\n",
        "\n",
        "  plt.plot([0,1], [0,1], 'r-')\n",
        "  plt.plot(true_outcomes, predicted_outcomes, 'k.')\n",
        "\n",
        "  plt.xlabel('True Outcomes')\n",
        "  plt.ylabel('Predicted Outcomes')\n",
        "\n",
        "  return"
      ],
      "metadata": {
        "id": "5C5Im9JvJGjM"
      },
      "execution_count": 11,
      "outputs": []
    },
    {
      "cell_type": "code",
      "source": [
        "def evaluation_metrics(actual_weights, predicted_weights, actual_outcomes, predicted_outcomes):\n",
        "\n",
        "  MSE = print('Mean Squared Error:', numpy.mean((predicted_outcomes - actual_outcomes)**2))\n",
        "  ME = print('Mean Weight Error:', numpy.mean(actual_weights - predicted_weights))\n",
        "  Variance = print('Model Variance:', numpy.var(actual_weights - predicted_weights))\n",
        "  Std_Dev = print('Standard Deviation:', numpy.std(actual_weights - predicted_weights))\n",
        "\n",
        "  return"
      ],
      "metadata": {
        "id": "o5jQbwIlJiog"
      },
      "execution_count": 12,
      "outputs": []
    },
    {
      "cell_type": "markdown",
      "source": [
        "\n",
        "\n",
        "---\n",
        "\n",
        "Generating a set of simulated input variabels\n",
        "\n",
        "---\n",
        "\n"
      ],
      "metadata": {
        "id": "d1jg33T3lwZj"
      }
    },
    {
      "cell_type": "code",
      "source": [
        "df = spreadsheet_data(NUM_SECTORS=2, NUM_COMPANIES_PER_SECTOR=2, START_YEAR=2018, NUM_YEARS=4)\n",
        "data, weights = company_affects(df, NOISE_LEVEL=0, SINGLE_VAR_NOISE=1)\n",
        "data"
      ],
      "metadata": {
        "colab": {
          "base_uri": "https://localhost:8080/",
          "height": 551
        },
        "id": "0EvJef32JlL3",
        "outputId": "bb484981-d3c0-4194-d99e-c474e2bff443"
      },
      "execution_count": 13,
      "outputs": [
        {
          "output_type": "execute_result",
          "data": {
            "text/plain": [
              "       Company Name   Sector  Year    Return\n",
              "0   FakeCo0-Sector0  Sector0  2018  0.787729\n",
              "1   FakeCo0-Sector0  Sector0  2019  0.787729\n",
              "2   FakeCo0-Sector0  Sector0  2020  0.787729\n",
              "3   FakeCo0-Sector0  Sector0  2021  0.787729\n",
              "4   FakeCo1-Sector0  Sector0  2018  0.296744\n",
              "5   FakeCo1-Sector0  Sector0  2019  0.296744\n",
              "6   FakeCo1-Sector0  Sector0  2020  0.296744\n",
              "7   FakeCo1-Sector0  Sector0  2021  0.296744\n",
              "8   FakeCo0-Sector1  Sector1  2018  0.767369\n",
              "9   FakeCo0-Sector1  Sector1  2019  0.767369\n",
              "10  FakeCo0-Sector1  Sector1  2020  0.767369\n",
              "11  FakeCo0-Sector1  Sector1  2021  0.767369\n",
              "12  FakeCo1-Sector1  Sector1  2018  0.268219\n",
              "13  FakeCo1-Sector1  Sector1  2019  0.268219\n",
              "14  FakeCo1-Sector1  Sector1  2020  0.268219\n",
              "15  FakeCo1-Sector1  Sector1  2021  0.268219"
            ],
            "text/html": [
              "\n",
              "  <div id=\"df-dd99e759-0f37-4537-a562-94b8a195bdc8\" class=\"colab-df-container\">\n",
              "    <div>\n",
              "<style scoped>\n",
              "    .dataframe tbody tr th:only-of-type {\n",
              "        vertical-align: middle;\n",
              "    }\n",
              "\n",
              "    .dataframe tbody tr th {\n",
              "        vertical-align: top;\n",
              "    }\n",
              "\n",
              "    .dataframe thead th {\n",
              "        text-align: right;\n",
              "    }\n",
              "</style>\n",
              "<table border=\"1\" class=\"dataframe\">\n",
              "  <thead>\n",
              "    <tr style=\"text-align: right;\">\n",
              "      <th></th>\n",
              "      <th>Company Name</th>\n",
              "      <th>Sector</th>\n",
              "      <th>Year</th>\n",
              "      <th>Return</th>\n",
              "    </tr>\n",
              "  </thead>\n",
              "  <tbody>\n",
              "    <tr>\n",
              "      <th>0</th>\n",
              "      <td>FakeCo0-Sector0</td>\n",
              "      <td>Sector0</td>\n",
              "      <td>2018</td>\n",
              "      <td>0.787729</td>\n",
              "    </tr>\n",
              "    <tr>\n",
              "      <th>1</th>\n",
              "      <td>FakeCo0-Sector0</td>\n",
              "      <td>Sector0</td>\n",
              "      <td>2019</td>\n",
              "      <td>0.787729</td>\n",
              "    </tr>\n",
              "    <tr>\n",
              "      <th>2</th>\n",
              "      <td>FakeCo0-Sector0</td>\n",
              "      <td>Sector0</td>\n",
              "      <td>2020</td>\n",
              "      <td>0.787729</td>\n",
              "    </tr>\n",
              "    <tr>\n",
              "      <th>3</th>\n",
              "      <td>FakeCo0-Sector0</td>\n",
              "      <td>Sector0</td>\n",
              "      <td>2021</td>\n",
              "      <td>0.787729</td>\n",
              "    </tr>\n",
              "    <tr>\n",
              "      <th>4</th>\n",
              "      <td>FakeCo1-Sector0</td>\n",
              "      <td>Sector0</td>\n",
              "      <td>2018</td>\n",
              "      <td>0.296744</td>\n",
              "    </tr>\n",
              "    <tr>\n",
              "      <th>5</th>\n",
              "      <td>FakeCo1-Sector0</td>\n",
              "      <td>Sector0</td>\n",
              "      <td>2019</td>\n",
              "      <td>0.296744</td>\n",
              "    </tr>\n",
              "    <tr>\n",
              "      <th>6</th>\n",
              "      <td>FakeCo1-Sector0</td>\n",
              "      <td>Sector0</td>\n",
              "      <td>2020</td>\n",
              "      <td>0.296744</td>\n",
              "    </tr>\n",
              "    <tr>\n",
              "      <th>7</th>\n",
              "      <td>FakeCo1-Sector0</td>\n",
              "      <td>Sector0</td>\n",
              "      <td>2021</td>\n",
              "      <td>0.296744</td>\n",
              "    </tr>\n",
              "    <tr>\n",
              "      <th>8</th>\n",
              "      <td>FakeCo0-Sector1</td>\n",
              "      <td>Sector1</td>\n",
              "      <td>2018</td>\n",
              "      <td>0.767369</td>\n",
              "    </tr>\n",
              "    <tr>\n",
              "      <th>9</th>\n",
              "      <td>FakeCo0-Sector1</td>\n",
              "      <td>Sector1</td>\n",
              "      <td>2019</td>\n",
              "      <td>0.767369</td>\n",
              "    </tr>\n",
              "    <tr>\n",
              "      <th>10</th>\n",
              "      <td>FakeCo0-Sector1</td>\n",
              "      <td>Sector1</td>\n",
              "      <td>2020</td>\n",
              "      <td>0.767369</td>\n",
              "    </tr>\n",
              "    <tr>\n",
              "      <th>11</th>\n",
              "      <td>FakeCo0-Sector1</td>\n",
              "      <td>Sector1</td>\n",
              "      <td>2021</td>\n",
              "      <td>0.767369</td>\n",
              "    </tr>\n",
              "    <tr>\n",
              "      <th>12</th>\n",
              "      <td>FakeCo1-Sector1</td>\n",
              "      <td>Sector1</td>\n",
              "      <td>2018</td>\n",
              "      <td>0.268219</td>\n",
              "    </tr>\n",
              "    <tr>\n",
              "      <th>13</th>\n",
              "      <td>FakeCo1-Sector1</td>\n",
              "      <td>Sector1</td>\n",
              "      <td>2019</td>\n",
              "      <td>0.268219</td>\n",
              "    </tr>\n",
              "    <tr>\n",
              "      <th>14</th>\n",
              "      <td>FakeCo1-Sector1</td>\n",
              "      <td>Sector1</td>\n",
              "      <td>2020</td>\n",
              "      <td>0.268219</td>\n",
              "    </tr>\n",
              "    <tr>\n",
              "      <th>15</th>\n",
              "      <td>FakeCo1-Sector1</td>\n",
              "      <td>Sector1</td>\n",
              "      <td>2021</td>\n",
              "      <td>0.268219</td>\n",
              "    </tr>\n",
              "  </tbody>\n",
              "</table>\n",
              "</div>\n",
              "    <div class=\"colab-df-buttons\">\n",
              "\n",
              "  <div class=\"colab-df-container\">\n",
              "    <button class=\"colab-df-convert\" onclick=\"convertToInteractive('df-dd99e759-0f37-4537-a562-94b8a195bdc8')\"\n",
              "            title=\"Convert this dataframe to an interactive table.\"\n",
              "            style=\"display:none;\">\n",
              "\n",
              "  <svg xmlns=\"http://www.w3.org/2000/svg\" height=\"24px\" viewBox=\"0 -960 960 960\">\n",
              "    <path d=\"M120-120v-720h720v720H120Zm60-500h600v-160H180v160Zm220 220h160v-160H400v160Zm0 220h160v-160H400v160ZM180-400h160v-160H180v160Zm440 0h160v-160H620v160ZM180-180h160v-160H180v160Zm440 0h160v-160H620v160Z\"/>\n",
              "  </svg>\n",
              "    </button>\n",
              "\n",
              "  <style>\n",
              "    .colab-df-container {\n",
              "      display:flex;\n",
              "      gap: 12px;\n",
              "    }\n",
              "\n",
              "    .colab-df-convert {\n",
              "      background-color: #E8F0FE;\n",
              "      border: none;\n",
              "      border-radius: 50%;\n",
              "      cursor: pointer;\n",
              "      display: none;\n",
              "      fill: #1967D2;\n",
              "      height: 32px;\n",
              "      padding: 0 0 0 0;\n",
              "      width: 32px;\n",
              "    }\n",
              "\n",
              "    .colab-df-convert:hover {\n",
              "      background-color: #E2EBFA;\n",
              "      box-shadow: 0px 1px 2px rgba(60, 64, 67, 0.3), 0px 1px 3px 1px rgba(60, 64, 67, 0.15);\n",
              "      fill: #174EA6;\n",
              "    }\n",
              "\n",
              "    .colab-df-buttons div {\n",
              "      margin-bottom: 4px;\n",
              "    }\n",
              "\n",
              "    [theme=dark] .colab-df-convert {\n",
              "      background-color: #3B4455;\n",
              "      fill: #D2E3FC;\n",
              "    }\n",
              "\n",
              "    [theme=dark] .colab-df-convert:hover {\n",
              "      background-color: #434B5C;\n",
              "      box-shadow: 0px 1px 3px 1px rgba(0, 0, 0, 0.15);\n",
              "      filter: drop-shadow(0px 1px 2px rgba(0, 0, 0, 0.3));\n",
              "      fill: #FFFFFF;\n",
              "    }\n",
              "  </style>\n",
              "\n",
              "    <script>\n",
              "      const buttonEl =\n",
              "        document.querySelector('#df-dd99e759-0f37-4537-a562-94b8a195bdc8 button.colab-df-convert');\n",
              "      buttonEl.style.display =\n",
              "        google.colab.kernel.accessAllowed ? 'block' : 'none';\n",
              "\n",
              "      async function convertToInteractive(key) {\n",
              "        const element = document.querySelector('#df-dd99e759-0f37-4537-a562-94b8a195bdc8');\n",
              "        const dataTable =\n",
              "          await google.colab.kernel.invokeFunction('convertToInteractive',\n",
              "                                                    [key], {});\n",
              "        if (!dataTable) return;\n",
              "\n",
              "        const docLinkHtml = 'Like what you see? Visit the ' +\n",
              "          '<a target=\"_blank\" href=https://colab.research.google.com/notebooks/data_table.ipynb>data table notebook</a>'\n",
              "          + ' to learn more about interactive tables.';\n",
              "        element.innerHTML = '';\n",
              "        dataTable['output_type'] = 'display_data';\n",
              "        await google.colab.output.renderOutput(dataTable, element);\n",
              "        const docLink = document.createElement('div');\n",
              "        docLink.innerHTML = docLinkHtml;\n",
              "        element.appendChild(docLink);\n",
              "      }\n",
              "    </script>\n",
              "  </div>\n",
              "\n",
              "\n",
              "<div id=\"df-af67f2a3-a7c3-4002-8ecb-d4e3f8ddf8a9\">\n",
              "  <button class=\"colab-df-quickchart\" onclick=\"quickchart('df-af67f2a3-a7c3-4002-8ecb-d4e3f8ddf8a9')\"\n",
              "            title=\"Suggest charts\"\n",
              "            style=\"display:none;\">\n",
              "\n",
              "<svg xmlns=\"http://www.w3.org/2000/svg\" height=\"24px\"viewBox=\"0 0 24 24\"\n",
              "     width=\"24px\">\n",
              "    <g>\n",
              "        <path d=\"M19 3H5c-1.1 0-2 .9-2 2v14c0 1.1.9 2 2 2h14c1.1 0 2-.9 2-2V5c0-1.1-.9-2-2-2zM9 17H7v-7h2v7zm4 0h-2V7h2v10zm4 0h-2v-4h2v4z\"/>\n",
              "    </g>\n",
              "</svg>\n",
              "  </button>\n",
              "\n",
              "<style>\n",
              "  .colab-df-quickchart {\n",
              "      --bg-color: #E8F0FE;\n",
              "      --fill-color: #1967D2;\n",
              "      --hover-bg-color: #E2EBFA;\n",
              "      --hover-fill-color: #174EA6;\n",
              "      --disabled-fill-color: #AAA;\n",
              "      --disabled-bg-color: #DDD;\n",
              "  }\n",
              "\n",
              "  [theme=dark] .colab-df-quickchart {\n",
              "      --bg-color: #3B4455;\n",
              "      --fill-color: #D2E3FC;\n",
              "      --hover-bg-color: #434B5C;\n",
              "      --hover-fill-color: #FFFFFF;\n",
              "      --disabled-bg-color: #3B4455;\n",
              "      --disabled-fill-color: #666;\n",
              "  }\n",
              "\n",
              "  .colab-df-quickchart {\n",
              "    background-color: var(--bg-color);\n",
              "    border: none;\n",
              "    border-radius: 50%;\n",
              "    cursor: pointer;\n",
              "    display: none;\n",
              "    fill: var(--fill-color);\n",
              "    height: 32px;\n",
              "    padding: 0;\n",
              "    width: 32px;\n",
              "  }\n",
              "\n",
              "  .colab-df-quickchart:hover {\n",
              "    background-color: var(--hover-bg-color);\n",
              "    box-shadow: 0 1px 2px rgba(60, 64, 67, 0.3), 0 1px 3px 1px rgba(60, 64, 67, 0.15);\n",
              "    fill: var(--button-hover-fill-color);\n",
              "  }\n",
              "\n",
              "  .colab-df-quickchart-complete:disabled,\n",
              "  .colab-df-quickchart-complete:disabled:hover {\n",
              "    background-color: var(--disabled-bg-color);\n",
              "    fill: var(--disabled-fill-color);\n",
              "    box-shadow: none;\n",
              "  }\n",
              "\n",
              "  .colab-df-spinner {\n",
              "    border: 2px solid var(--fill-color);\n",
              "    border-color: transparent;\n",
              "    border-bottom-color: var(--fill-color);\n",
              "    animation:\n",
              "      spin 1s steps(1) infinite;\n",
              "  }\n",
              "\n",
              "  @keyframes spin {\n",
              "    0% {\n",
              "      border-color: transparent;\n",
              "      border-bottom-color: var(--fill-color);\n",
              "      border-left-color: var(--fill-color);\n",
              "    }\n",
              "    20% {\n",
              "      border-color: transparent;\n",
              "      border-left-color: var(--fill-color);\n",
              "      border-top-color: var(--fill-color);\n",
              "    }\n",
              "    30% {\n",
              "      border-color: transparent;\n",
              "      border-left-color: var(--fill-color);\n",
              "      border-top-color: var(--fill-color);\n",
              "      border-right-color: var(--fill-color);\n",
              "    }\n",
              "    40% {\n",
              "      border-color: transparent;\n",
              "      border-right-color: var(--fill-color);\n",
              "      border-top-color: var(--fill-color);\n",
              "    }\n",
              "    60% {\n",
              "      border-color: transparent;\n",
              "      border-right-color: var(--fill-color);\n",
              "    }\n",
              "    80% {\n",
              "      border-color: transparent;\n",
              "      border-right-color: var(--fill-color);\n",
              "      border-bottom-color: var(--fill-color);\n",
              "    }\n",
              "    90% {\n",
              "      border-color: transparent;\n",
              "      border-bottom-color: var(--fill-color);\n",
              "    }\n",
              "  }\n",
              "</style>\n",
              "\n",
              "  <script>\n",
              "    async function quickchart(key) {\n",
              "      const quickchartButtonEl =\n",
              "        document.querySelector('#' + key + ' button');\n",
              "      quickchartButtonEl.disabled = true;  // To prevent multiple clicks.\n",
              "      quickchartButtonEl.classList.add('colab-df-spinner');\n",
              "      try {\n",
              "        const charts = await google.colab.kernel.invokeFunction(\n",
              "            'suggestCharts', [key], {});\n",
              "      } catch (error) {\n",
              "        console.error('Error during call to suggestCharts:', error);\n",
              "      }\n",
              "      quickchartButtonEl.classList.remove('colab-df-spinner');\n",
              "      quickchartButtonEl.classList.add('colab-df-quickchart-complete');\n",
              "    }\n",
              "    (() => {\n",
              "      let quickchartButtonEl =\n",
              "        document.querySelector('#df-af67f2a3-a7c3-4002-8ecb-d4e3f8ddf8a9 button');\n",
              "      quickchartButtonEl.style.display =\n",
              "        google.colab.kernel.accessAllowed ? 'block' : 'none';\n",
              "    })();\n",
              "  </script>\n",
              "</div>\n",
              "    </div>\n",
              "  </div>\n"
            ]
          },
          "metadata": {},
          "execution_count": 13
        }
      ]
    },
    {
      "cell_type": "markdown",
      "source": [
        "\n",
        "\n",
        "---\n",
        "\n",
        "Design matrix formats the data in a way that I can explain the outputs in term sof the inputs\n",
        "\n",
        "---\n",
        "\n",
        "design : every row corresponds to an observation\n",
        "ex. fakeco0sector0 in 2018 and there's 4 factors (4 columns)\n",
        "in this case this design matrix is a 0,1 matrix\n",
        "\n",
        "doesnt have to be\n",
        "\n",
        "just a factor saying fakeco0"
      ],
      "metadata": {
        "id": "i2-7vqByl3RC"
      }
    },
    {
      "cell_type": "code",
      "source": [
        "design = design_matrix_company(data)\n",
        "design"
      ],
      "metadata": {
        "colab": {
          "base_uri": "https://localhost:8080/"
        },
        "id": "XTNuE-4FMh-Q",
        "outputId": "8b3e4a32-3ddd-4d1b-b6ed-26b675708d5d"
      },
      "execution_count": 14,
      "outputs": [
        {
          "output_type": "execute_result",
          "data": {
            "text/plain": [
              "array([[1., 0., 0., 0.],\n",
              "       [1., 0., 0., 0.],\n",
              "       [1., 0., 0., 0.],\n",
              "       [1., 0., 0., 0.],\n",
              "       [0., 1., 0., 0.],\n",
              "       [0., 1., 0., 0.],\n",
              "       [0., 1., 0., 0.],\n",
              "       [0., 1., 0., 0.],\n",
              "       [0., 0., 1., 0.],\n",
              "       [0., 0., 1., 0.],\n",
              "       [0., 0., 1., 0.],\n",
              "       [0., 0., 1., 0.],\n",
              "       [0., 0., 0., 1.],\n",
              "       [0., 0., 0., 1.],\n",
              "       [0., 0., 0., 1.],\n",
              "       [0., 0., 0., 1.]])"
            ]
          },
          "metadata": {},
          "execution_count": 14
        }
      ]
    },
    {
      "cell_type": "markdown",
      "source": [
        "\n",
        "\n",
        "---\n",
        "\n",
        "Matrix rank helps me determine the # of independent features\n",
        "\n",
        "---\n",
        "\n",
        "we have a deisgn amtrix with 4 columns and 16 rows\n",
        "matrix shape: 16,4\n",
        "matrix rank: 4\n",
        "MAtrix Rank:..."
      ],
      "metadata": {
        "id": "z0ECU5lYmD6J"
      }
    },
    {
      "cell_type": "code",
      "source": [
        "matrix_rank = numpy.linalg.matrix_rank(design)\n",
        "print('Matrix Shape:', design.shape, '\\n\\n' + 'Matrix Rank:', matrix_rank)"
      ],
      "metadata": {
        "colab": {
          "base_uri": "https://localhost:8080/"
        },
        "id": "C86gmagYMqRY",
        "outputId": "735566df-c763-430c-e8e2-ccbbed758dfe"
      },
      "execution_count": 15,
      "outputs": [
        {
          "output_type": "stream",
          "name": "stdout",
          "text": [
            "Matrix Shape: (16, 4) \n",
            "\n",
            "Matrix Rank: 4\n"
          ]
        }
      ]
    },
    {
      "cell_type": "markdown",
      "source": [
        "\n",
        "\n",
        "---\n",
        "\n",
        "Function is working as intended, company name is the only thing affecting returns\n",
        "\n",
        "This will be the relationship I'll attempt to capture with a linear regression\n",
        "\n",
        "---\n",
        "\n"
      ],
      "metadata": {
        "id": "YxMLkZtSmhuG"
      }
    },
    {
      "cell_type": "code",
      "source": [
        "# covariance\n",
        "numpy.dot(design.T, design)"
      ],
      "metadata": {
        "colab": {
          "base_uri": "https://localhost:8080/"
        },
        "id": "_pNMLtqwlhnG",
        "outputId": "f1c911f7-554f-414d-a6c4-ae46a3ad1c0d"
      },
      "execution_count": 16,
      "outputs": [
        {
          "output_type": "execute_result",
          "data": {
            "text/plain": [
              "array([[4., 0., 0., 0.],\n",
              "       [0., 4., 0., 0.],\n",
              "       [0., 0., 4., 0.],\n",
              "       [0., 0., 0., 4.]])"
            ]
          },
          "metadata": {},
          "execution_count": 16
        }
      ]
    },
    {
      "cell_type": "code",
      "source": [
        "# precision\n",
        "numpy.linalg.pinv(numpy.dot(design.T, design))"
      ],
      "metadata": {
        "colab": {
          "base_uri": "https://localhost:8080/"
        },
        "id": "5ukYegCXnC-J",
        "outputId": "923921f0-9318-4f7d-8fec-e2f2917a8541"
      },
      "execution_count": 17,
      "outputs": [
        {
          "output_type": "execute_result",
          "data": {
            "text/plain": [
              "array([[0.25, 0.  , 0.  , 0.  ],\n",
              "       [0.  , 0.25, 0.  , 0.  ],\n",
              "       [0.  , 0.  , 0.25, 0.  ],\n",
              "       [0.  , 0.  , 0.  , 0.25]])"
            ]
          },
          "metadata": {},
          "execution_count": 17
        }
      ]
    },
    {
      "cell_type": "code",
      "source": [
        "# look into this"
      ],
      "metadata": {
        "id": "MCHP26sz3tyR"
      },
      "execution_count": null,
      "outputs": []
    },
    {
      "cell_type": "code",
      "source": [
        "variable_analysis(design)"
      ],
      "metadata": {
        "colab": {
          "base_uri": "https://localhost:8080/",
          "height": 468
        },
        "id": "3shvTU8FNUOG",
        "outputId": "94406e08-808f-4318-a15d-080826687145"
      },
      "execution_count": 18,
      "outputs": [
        {
          "output_type": "display_data",
          "data": {
            "text/plain": [
              "<Figure size 2000x500 with 6 Axes>"
            ],
            "image/png": "[encoded data removed]"
          },
          "metadata": {}
        }
      ]
    },
    {
      "cell_type": "markdown",
      "source": [
        "Enter SKLearn"
      ],
      "metadata": {
        "id": "p_OtLRkIk77M"
      }
    },
    {
      "cell_type": "code",
      "source": [
        "from sklearn.linear_model import LinearRegression\n",
        "from sklearn.metrics import mean_squared_error"
      ],
      "metadata": {
        "id": "11dwW8F7NpOW"
      },
      "execution_count": null,
      "outputs": []
    },
    {
      "cell_type": "code",
      "source": [
        "true_outcomes = data['Return']\n",
        "\n",
        "linear = LinearRegression(fit_intercept=False) # input, output, intercept\n",
        "linear.fit(design, true_outcomes)\n",
        "linear_outcomes = linear.predict(design)\n",
        "linear_weights = linear.coef_"
      ],
      "metadata": {
        "id": "sGWZLOi9NYsw"
      },
      "execution_count": null,
      "outputs": []
    },
    {
      "cell_type": "code",
      "source": [
        "model_weights_accuracy(weights, linear_weights)"
      ],
      "metadata": {
        "colab": {
          "base_uri": "https://localhost:8080/",
          "height": 449
        },
        "id": "ZHdb9gpYmg7P",
        "outputId": "252e089d-b250-4d6e-ba8a-952d3f371bce"
      },
      "execution_count": null,
      "outputs": [
        {
          "output_type": "display_data",
          "data": {
            "text/plain": [
              "<Figure size 640x480 with 1 Axes>"
            ],
            "image/png": "[encoded data removed]"
          },
          "metadata": {}
        }
      ]
    },
    {
      "cell_type": "code",
      "source": [
        "pred_outcomes = numpy.dot(design, linear_weights)\n",
        "pred_outcomes"
      ],
      "metadata": {
        "colab": {
          "base_uri": "https://localhost:8080/"
        },
        "id": "xQPAQETeoA2p",
        "outputId": "50424b80-33d4-435d-8064-772e5f07c163"
      },
      "execution_count": null,
      "outputs": [
        {
          "output_type": "execute_result",
          "data": {
            "text/plain": [
              "array([0.54315655, 0.54315655, 0.54315655, 0.54315655, 0.30048519,\n",
              "       0.30048519, 0.30048519, 0.30048519, 0.68026917, 0.68026917,\n",
              "       0.68026917, 0.68026917, 0.03393139, 0.03393139, 0.03393139,\n",
              "       0.03393139])"
            ]
          },
          "metadata": {},
          "execution_count": 148
        }
      ]
    },
    {
      "cell_type": "code",
      "source": [
        "model_outcomes_accuracy(true_outcomes, linear_outcomes)"
      ],
      "metadata": {
        "colab": {
          "base_uri": "https://localhost:8080/",
          "height": 449
        },
        "id": "PMr-b1WWNxB0",
        "outputId": "3032c014-bcff-4417-fe6e-de649c197a04"
      },
      "execution_count": null,
      "outputs": [
        {
          "output_type": "display_data",
          "data": {
            "text/plain": [
              "<Figure size 640x480 with 1 Axes>"
            ],
            "image/png": "[encoded data removed]"
          },
          "metadata": {}
        }
      ]
    },
    {
      "cell_type": "code",
      "source": [
        "evaluation_metrics(weights, linear_weights, true_outcomes, linear_outcomes)"
      ],
      "metadata": {
        "colab": {
          "base_uri": "https://localhost:8080/"
        },
        "id": "Tscum4R9pESd",
        "outputId": "78116994-9644-4c51-868d-b79f18006de1"
      },
      "execution_count": null,
      "outputs": [
        {
          "output_type": "stream",
          "name": "stdout",
          "text": [
            "Mean Squared Error: 0.0\n",
            "Mean Weight Error: 0.0\n",
            "Model Variance: 0.0\n",
            "Standard Deviation: 0.0\n"
          ]
        }
      ]
    },
    {
      "cell_type": "markdown",
      "source": [
        "\n",
        "\n",
        "---\n",
        "\n",
        "\n",
        "Sanity check. Everything working as conceptually intended\n",
        "\n",
        "\n",
        "---\n",
        "\n",
        "\n",
        "Let's consider a second variable\n",
        "\n",
        "\n",
        "---\n",
        "\n",
        "\n"
      ],
      "metadata": {
        "id": "57wprjLIqGzC"
      }
    },
    {
      "cell_type": "code",
      "source": [
        "data, weights = company_sector_affects(df, NOISE_LEVEL=0, SINGLE_VAR_NOISE=1)\n",
        "data"
      ],
      "metadata": {
        "colab": {
          "base_uri": "https://localhost:8080/",
          "height": 545
        },
        "id": "xu1wbvvGpV7w",
        "outputId": "78e15d4f-40dd-43aa-b1e0-1465aaee9e2f"
      },
      "execution_count": null,
      "outputs": [
        {
          "output_type": "execute_result",
          "data": {
            "text/plain": [
              "       Company Name   Sector  Year    Return\n",
              "0   FakeCo0-Sector0  Sector0  2018  0.627600\n",
              "1   FakeCo0-Sector0  Sector0  2019  0.627600\n",
              "2   FakeCo0-Sector0  Sector0  2020  0.627600\n",
              "3   FakeCo0-Sector0  Sector0  2021  0.627600\n",
              "4   FakeCo1-Sector0  Sector0  2018  1.107101\n",
              "5   FakeCo1-Sector0  Sector0  2019  1.107101\n",
              "6   FakeCo1-Sector0  Sector0  2020  1.107101\n",
              "7   FakeCo1-Sector0  Sector0  2021  1.107101\n",
              "8   FakeCo0-Sector1  Sector1  2018  0.961891\n",
              "9   FakeCo0-Sector1  Sector1  2019  0.961891\n",
              "10  FakeCo0-Sector1  Sector1  2020  0.961891\n",
              "11  FakeCo0-Sector1  Sector1  2021  0.961891\n",
              "12  FakeCo1-Sector1  Sector1  2018  1.628850\n",
              "13  FakeCo1-Sector1  Sector1  2019  1.628850\n",
              "14  FakeCo1-Sector1  Sector1  2020  1.628850\n",
              "15  FakeCo1-Sector1  Sector1  2021  1.628850"
            ],
            "text/html": [
              "\n",
              "\n",
              "  <div id=\"df-bcbcc6bc-7d85-4052-9706-995fe6e9932f\">\n",
              "    <div class=\"colab-df-container\">\n",
              "      <div>\n",
              "<style scoped>\n",
              "    .dataframe tbody tr th:only-of-type {\n",
              "        vertical-align: middle;\n",
              "    }\n",
              "\n",
              "    .dataframe tbody tr th {\n",
              "        vertical-align: top;\n",
              "    }\n",
              "\n",
              "    .dataframe thead th {\n",
              "        text-align: right;\n",
              "    }\n",
              "</style>\n",
              "<table border=\"1\" class=\"dataframe\">\n",
              "  <thead>\n",
              "    <tr style=\"text-align: right;\">\n",
              "      <th></th>\n",
              "      <th>Company Name</th>\n",
              "      <th>Sector</th>\n",
              "      <th>Year</th>\n",
              "      <th>Return</th>\n",
              "    </tr>\n",
              "  </thead>\n",
              "  <tbody>\n",
              "    <tr>\n",
              "      <th>0</th>\n",
              "      <td>FakeCo0-Sector0</td>\n",
              "      <td>Sector0</td>\n",
              "      <td>2018</td>\n",
              "      <td>0.627600</td>\n",
              "    </tr>\n",
              "    <tr>\n",
              "      <th>1</th>\n",
              "      <td>FakeCo0-Sector0</td>\n",
              "      <td>Sector0</td>\n",
              "      <td>2019</td>\n",
              "      <td>0.627600</td>\n",
              "    </tr>\n",
              "    <tr>\n",
              "      <th>2</th>\n",
              "      <td>FakeCo0-Sector0</td>\n",
              "      <td>Sector0</td>\n",
              "      <td>2020</td>\n",
              "      <td>0.627600</td>\n",
              "    </tr>\n",
              "    <tr>\n",
              "      <th>3</th>\n",
              "      <td>FakeCo0-Sector0</td>\n",
              "      <td>Sector0</td>\n",
              "      <td>2021</td>\n",
              "      <td>0.627600</td>\n",
              "    </tr>\n",
              "    <tr>\n",
              "      <th>4</th>\n",
              "      <td>FakeCo1-Sector0</td>\n",
              "      <td>Sector0</td>\n",
              "      <td>2018</td>\n",
              "      <td>1.107101</td>\n",
              "    </tr>\n",
              "    <tr>\n",
              "      <th>5</th>\n",
              "      <td>FakeCo1-Sector0</td>\n",
              "      <td>Sector0</td>\n",
              "      <td>2019</td>\n",
              "      <td>1.107101</td>\n",
              "    </tr>\n",
              "    <tr>\n",
              "      <th>6</th>\n",
              "      <td>FakeCo1-Sector0</td>\n",
              "      <td>Sector0</td>\n",
              "      <td>2020</td>\n",
              "      <td>1.107101</td>\n",
              "    </tr>\n",
              "    <tr>\n",
              "      <th>7</th>\n",
              "      <td>FakeCo1-Sector0</td>\n",
              "      <td>Sector0</td>\n",
              "      <td>2021</td>\n",
              "      <td>1.107101</td>\n",
              "    </tr>\n",
              "    <tr>\n",
              "      <th>8</th>\n",
              "      <td>FakeCo0-Sector1</td>\n",
              "      <td>Sector1</td>\n",
              "      <td>2018</td>\n",
              "      <td>0.961891</td>\n",
              "    </tr>\n",
              "    <tr>\n",
              "      <th>9</th>\n",
              "      <td>FakeCo0-Sector1</td>\n",
              "      <td>Sector1</td>\n",
              "      <td>2019</td>\n",
              "      <td>0.961891</td>\n",
              "    </tr>\n",
              "    <tr>\n",
              "      <th>10</th>\n",
              "      <td>FakeCo0-Sector1</td>\n",
              "      <td>Sector1</td>\n",
              "      <td>2020</td>\n",
              "      <td>0.961891</td>\n",
              "    </tr>\n",
              "    <tr>\n",
              "      <th>11</th>\n",
              "      <td>FakeCo0-Sector1</td>\n",
              "      <td>Sector1</td>\n",
              "      <td>2021</td>\n",
              "      <td>0.961891</td>\n",
              "    </tr>\n",
              "    <tr>\n",
              "      <th>12</th>\n",
              "      <td>FakeCo1-Sector1</td>\n",
              "      <td>Sector1</td>\n",
              "      <td>2018</td>\n",
              "      <td>1.628850</td>\n",
              "    </tr>\n",
              "    <tr>\n",
              "      <th>13</th>\n",
              "      <td>FakeCo1-Sector1</td>\n",
              "      <td>Sector1</td>\n",
              "      <td>2019</td>\n",
              "      <td>1.628850</td>\n",
              "    </tr>\n",
              "    <tr>\n",
              "      <th>14</th>\n",
              "      <td>FakeCo1-Sector1</td>\n",
              "      <td>Sector1</td>\n",
              "      <td>2020</td>\n",
              "      <td>1.628850</td>\n",
              "    </tr>\n",
              "    <tr>\n",
              "      <th>15</th>\n",
              "      <td>FakeCo1-Sector1</td>\n",
              "      <td>Sector1</td>\n",
              "      <td>2021</td>\n",
              "      <td>1.628850</td>\n",
              "    </tr>\n",
              "  </tbody>\n",
              "</table>\n",
              "</div>\n",
              "      <button class=\"colab-df-convert\" onclick=\"convertToInteractive('df-bcbcc6bc-7d85-4052-9706-995fe6e9932f')\"\n",
              "              title=\"Convert this dataframe to an interactive table.\"\n",
              "              style=\"display:none;\">\n",
              "\n",
              "  <svg xmlns=\"http://www.w3.org/2000/svg\" height=\"24px\"viewBox=\"0 0 24 24\"\n",
              "       width=\"24px\">\n",
              "    <path d=\"M0 0h24v24H0V0z\" fill=\"none\"/>\n",
              "    <path d=\"M18.56 5.44l.94 2.06.94-2.06 2.06-.94-2.06-.94-.94-2.06-.94 2.06-2.06.94zm-11 1L8.5 8.5l.94-2.06 2.06-.94-2.06-.94L8.5 2.5l-.94 2.06-2.06.94zm10 10l.94 2.06.94-2.06 2.06-.94-2.06-.94-.94-2.06-.94 2.06-2.06.94z\"/><path d=\"M17.41 7.96l-1.37-1.37c-.4-.4-.92-.59-1.43-.59-.52 0-1.04.2-1.43.59L10.3 9.45l-7.72 7.72c-.78.78-.78 2.05 0 2.83L4 21.41c.39.39.9.59 1.41.59.51 0 1.02-.2 1.41-.59l7.78-7.78 2.81-2.81c.8-.78.8-2.07 0-2.86zM5.41 20L4 18.59l7.72-7.72 1.47 1.35L5.41 20z\"/>\n",
              "  </svg>\n",
              "      </button>\n",
              "\n",
              "\n",
              "\n",
              "    <div id=\"df-a4c4abb6-6fed-486d-aad2-fb5ad464d5fb\">\n",
              "      <button class=\"colab-df-quickchart\" onclick=\"quickchart('df-a4c4abb6-6fed-486d-aad2-fb5ad464d5fb')\"\n",
              "              title=\"Suggest charts.\"\n",
              "              style=\"display:none;\">\n",
              "\n",
              "<svg xmlns=\"http://www.w3.org/2000/svg\" height=\"24px\"viewBox=\"0 0 24 24\"\n",
              "     width=\"24px\">\n",
              "    <g>\n",
              "        <path d=\"M19 3H5c-1.1 0-2 .9-2 2v14c0 1.1.9 2 2 2h14c1.1 0 2-.9 2-2V5c0-1.1-.9-2-2-2zM9 17H7v-7h2v7zm4 0h-2V7h2v10zm4 0h-2v-4h2v4z\"/>\n",
              "    </g>\n",
              "</svg>\n",
              "      </button>\n",
              "    </div>\n",
              "\n",
              "<style>\n",
              "  .colab-df-quickchart {\n",
              "    background-color: #E8F0FE;\n",
              "    border: none;\n",
              "    border-radius: 50%;\n",
              "    cursor: pointer;\n",
              "    display: none;\n",
              "    fill: #1967D2;\n",
              "    height: 32px;\n",
              "    padding: 0 0 0 0;\n",
              "    width: 32px;\n",
              "  }\n",
              "\n",
              "  .colab-df-quickchart:hover {\n",
              "    background-color: #E2EBFA;\n",
              "    box-shadow: 0px 1px 2px rgba(60, 64, 67, 0.3), 0px 1px 3px 1px rgba(60, 64, 67, 0.15);\n",
              "    fill: #174EA6;\n",
              "  }\n",
              "\n",
              "  [theme=dark] .colab-df-quickchart {\n",
              "    background-color: #3B4455;\n",
              "    fill: #D2E3FC;\n",
              "  }\n",
              "\n",
              "  [theme=dark] .colab-df-quickchart:hover {\n",
              "    background-color: #434B5C;\n",
              "    box-shadow: 0px 1px 3px 1px rgba(0, 0, 0, 0.15);\n",
              "    filter: drop-shadow(0px 1px 2px rgba(0, 0, 0, 0.3));\n",
              "    fill: #FFFFFF;\n",
              "  }\n",
              "</style>\n",
              "\n",
              "    <script>\n",
              "      async function quickchart(key) {\n",
              "        const containerElement = document.querySelector('#' + key);\n",
              "        const charts = await google.colab.kernel.invokeFunction(\n",
              "            'suggestCharts', [key], {});\n",
              "      }\n",
              "    </script>\n",
              "\n",
              "      <script>\n",
              "\n",
              "function displayQuickchartButton(domScope) {\n",
              "  let quickchartButtonEl =\n",
              "    domScope.querySelector('#df-a4c4abb6-6fed-486d-aad2-fb5ad464d5fb button.colab-df-quickchart');\n",
              "  quickchartButtonEl.style.display =\n",
              "    google.colab.kernel.accessAllowed ? 'block' : 'none';\n",
              "}\n",
              "\n",
              "        displayQuickchartButton(document);\n",
              "      </script>\n",
              "      <style>\n",
              "    .colab-df-container {\n",
              "      display:flex;\n",
              "      flex-wrap:wrap;\n",
              "      gap: 12px;\n",
              "    }\n",
              "\n",
              "    .colab-df-convert {\n",
              "      background-color: #E8F0FE;\n",
              "      border: none;\n",
              "      border-radius: 50%;\n",
              "      cursor: pointer;\n",
              "      display: none;\n",
              "      fill: #1967D2;\n",
              "      height: 32px;\n",
              "      padding: 0 0 0 0;\n",
              "      width: 32px;\n",
              "    }\n",
              "\n",
              "    .colab-df-convert:hover {\n",
              "      background-color: #E2EBFA;\n",
              "      box-shadow: 0px 1px 2px rgba(60, 64, 67, 0.3), 0px 1px 3px 1px rgba(60, 64, 67, 0.15);\n",
              "      fill: #174EA6;\n",
              "    }\n",
              "\n",
              "    [theme=dark] .colab-df-convert {\n",
              "      background-color: #3B4455;\n",
              "      fill: #D2E3FC;\n",
              "    }\n",
              "\n",
              "    [theme=dark] .colab-df-convert:hover {\n",
              "      background-color: #434B5C;\n",
              "      box-shadow: 0px 1px 3px 1px rgba(0, 0, 0, 0.15);\n",
              "      filter: drop-shadow(0px 1px 2px rgba(0, 0, 0, 0.3));\n",
              "      fill: #FFFFFF;\n",
              "    }\n",
              "  </style>\n",
              "\n",
              "      <script>\n",
              "        const buttonEl =\n",
              "          document.querySelector('#df-bcbcc6bc-7d85-4052-9706-995fe6e9932f button.colab-df-convert');\n",
              "        buttonEl.style.display =\n",
              "          google.colab.kernel.accessAllowed ? 'block' : 'none';\n",
              "\n",
              "        async function convertToInteractive(key) {\n",
              "          const element = document.querySelector('#df-bcbcc6bc-7d85-4052-9706-995fe6e9932f');\n",
              "          const dataTable =\n",
              "            await google.colab.kernel.invokeFunction('convertToInteractive',\n",
              "                                                     [key], {});\n",
              "          if (!dataTable) return;\n",
              "\n",
              "          const docLinkHtml = 'Like what you see? Visit the ' +\n",
              "            '<a target=\"_blank\" href=https://colab.research.google.com/notebooks/data_table.ipynb>data table notebook</a>'\n",
              "            + ' to learn more about interactive tables.';\n",
              "          element.innerHTML = '';\n",
              "          dataTable['output_type'] = 'display_data';\n",
              "          await google.colab.output.renderOutput(dataTable, element);\n",
              "          const docLink = document.createElement('div');\n",
              "          docLink.innerHTML = docLinkHtml;\n",
              "          element.appendChild(docLink);\n",
              "        }\n",
              "      </script>\n",
              "    </div>\n",
              "  </div>\n"
            ]
          },
          "metadata": {},
          "execution_count": 151
        }
      ]
    },
    {
      "cell_type": "code",
      "source": [
        "design = design_matrix_company_sector(data)\n",
        "design"
      ],
      "metadata": {
        "colab": {
          "base_uri": "https://localhost:8080/"
        },
        "id": "tcYuerPtqArz",
        "outputId": "77061ef2-f82b-4477-b872-c7862ab1c36c"
      },
      "execution_count": null,
      "outputs": [
        {
          "output_type": "execute_result",
          "data": {
            "text/plain": [
              "array([[1., 0., 0., 0., 1., 0.],\n",
              "       [1., 0., 0., 0., 1., 0.],\n",
              "       [1., 0., 0., 0., 1., 0.],\n",
              "       [1., 0., 0., 0., 1., 0.],\n",
              "       [0., 1., 0., 0., 1., 0.],\n",
              "       [0., 1., 0., 0., 1., 0.],\n",
              "       [0., 1., 0., 0., 1., 0.],\n",
              "       [0., 1., 0., 0., 1., 0.],\n",
              "       [0., 0., 1., 0., 0., 1.],\n",
              "       [0., 0., 1., 0., 0., 1.],\n",
              "       [0., 0., 1., 0., 0., 1.],\n",
              "       [0., 0., 1., 0., 0., 1.],\n",
              "       [0., 0., 0., 1., 0., 1.],\n",
              "       [0., 0., 0., 1., 0., 1.],\n",
              "       [0., 0., 0., 1., 0., 1.],\n",
              "       [0., 0., 0., 1., 0., 1.]])"
            ]
          },
          "metadata": {},
          "execution_count": 152
        }
      ]
    },
    {
      "cell_type": "code",
      "source": [
        "matrix_rank = numpy.linalg.matrix_rank(design)\n",
        "print('Matrix Shape:', design.shape, '\\n\\n' + 'Matrix Rank:', matrix_rank)"
      ],
      "metadata": {
        "colab": {
          "base_uri": "https://localhost:8080/"
        },
        "id": "v8I2w7A1qE_r",
        "outputId": "429a106d-148e-4e90-ac16-68a471472171"
      },
      "execution_count": null,
      "outputs": [
        {
          "output_type": "stream",
          "name": "stdout",
          "text": [
            "Matrix Shape: (16, 6) \n",
            "\n",
            "Matrix Rank: 4\n"
          ]
        }
      ]
    },
    {
      "cell_type": "markdown",
      "source": [
        "\n",
        "\n",
        "---\n",
        "\n",
        "Rank deficiency...\n",
        "\n",
        "---\n",
        "\n"
      ],
      "metadata": {
        "id": "XO0An14tqf1V"
      }
    },
    {
      "cell_type": "markdown",
      "source": [
        "Learn covariance/matrix rank"
      ],
      "metadata": {
        "id": "oZALaFVX583U"
      }
    },
    {
      "cell_type": "code",
      "source": [
        "# covariance\n",
        "numpy.dot(design.T, design)"
      ],
      "metadata": {
        "colab": {
          "base_uri": "https://localhost:8080/"
        },
        "id": "ox2rFEPwqe7Z",
        "outputId": "2e831010-af12-4f80-8bea-dddee58b9aa9"
      },
      "execution_count": null,
      "outputs": [
        {
          "output_type": "execute_result",
          "data": {
            "text/plain": [
              "array([[4., 0., 0., 0., 4., 0.],\n",
              "       [0., 4., 0., 0., 4., 0.],\n",
              "       [0., 0., 4., 0., 0., 4.],\n",
              "       [0., 0., 0., 4., 0., 4.],\n",
              "       [4., 4., 0., 0., 8., 0.],\n",
              "       [0., 0., 4., 4., 0., 8.]])"
            ]
          },
          "metadata": {},
          "execution_count": 154
        }
      ]
    },
    {
      "cell_type": "code",
      "source": [
        "# precision\n",
        "numpy.linalg.pinv(numpy.dot(design.T, design))"
      ],
      "metadata": {
        "colab": {
          "base_uri": "https://localhost:8080/"
        },
        "id": "WMFewpbrqlbr",
        "outputId": "2f71870c-48a8-42b7-c480-c8686af24bd0"
      },
      "execution_count": null,
      "outputs": [
        {
          "output_type": "execute_result",
          "data": {
            "text/plain": [
              "array([[ 0.13888889, -0.11111111,  0.        ,  0.        ,  0.02777778,\n",
              "         0.        ],\n",
              "       [-0.11111111,  0.13888889,  0.        ,  0.        ,  0.02777778,\n",
              "         0.        ],\n",
              "       [ 0.        ,  0.        ,  0.13888889, -0.11111111,  0.        ,\n",
              "         0.02777778],\n",
              "       [ 0.        ,  0.        , -0.11111111,  0.13888889,  0.        ,\n",
              "         0.02777778],\n",
              "       [ 0.02777778,  0.02777778,  0.        ,  0.        ,  0.05555556,\n",
              "         0.        ],\n",
              "       [ 0.        ,  0.        ,  0.02777778,  0.02777778,  0.        ,\n",
              "         0.05555556]])"
            ]
          },
          "metadata": {},
          "execution_count": 155
        }
      ]
    },
    {
      "cell_type": "code",
      "source": [
        "variable_analysis(design)"
      ],
      "metadata": {
        "colab": {
          "base_uri": "https://localhost:8080/",
          "height": 375
        },
        "id": "RLelJSb3qn8A",
        "outputId": "f82239c5-7522-4133-f1eb-67727d7256b3"
      },
      "execution_count": null,
      "outputs": [
        {
          "output_type": "display_data",
          "data": {
            "text/plain": [
              "<Figure size 2000x500 with 6 Axes>"
            ],
            "image/png": "[encoded data removed]"
          },
          "metadata": {}
        }
      ]
    },
    {
      "cell_type": "code",
      "source": [
        "true_outcomes = data['Return']\n",
        "\n",
        "linear = LinearRegression(fit_intercept=False) # input, output, intercept\n",
        "linear.fit(design, true_outcomes)\n",
        "linear_outcomes = linear.predict(design)\n",
        "linear_weights = linear.coef_"
      ],
      "metadata": {
        "id": "vGFq5Vcjqq2G"
      },
      "execution_count": null,
      "outputs": []
    },
    {
      "cell_type": "code",
      "source": [
        "model_weights_accuracy(weights, linear_weights)"
      ],
      "metadata": {
        "colab": {
          "base_uri": "https://localhost:8080/",
          "height": 449
        },
        "id": "By_n8WQQq2Pi",
        "outputId": "8fcff086-f288-41ef-c1cf-3eb537c34e33"
      },
      "execution_count": null,
      "outputs": [
        {
          "output_type": "display_data",
          "data": {
            "text/plain": [
              "<Figure size 640x480 with 1 Axes>"
            ],
            "image/png": "[encoded data removed]"
          },
          "metadata": {}
        }
      ]
    },
    {
      "cell_type": "code",
      "source": [
        "pred_outcomes = numpy.dot(design, linear_weights)\n",
        "pred_outcomes"
      ],
      "metadata": {
        "colab": {
          "base_uri": "https://localhost:8080/"
        },
        "id": "m2t-FXdyq5Af",
        "outputId": "c7529e2c-8d5c-49c4-ce16-1a6dd2b51499"
      },
      "execution_count": null,
      "outputs": [
        {
          "output_type": "execute_result",
          "data": {
            "text/plain": [
              "array([0.62759975, 0.62759975, 0.62759975, 0.62759975, 1.1071009 ,\n",
              "       1.1071009 , 1.1071009 , 1.1071009 , 0.96189144, 0.96189144,\n",
              "       0.96189144, 0.96189144, 1.62885043, 1.62885043, 1.62885043,\n",
              "       1.62885043])"
            ]
          },
          "metadata": {},
          "execution_count": 159
        }
      ]
    },
    {
      "cell_type": "code",
      "source": [
        "model_outcomes_accuracy(true_outcomes, linear_outcomes)"
      ],
      "metadata": {
        "colab": {
          "base_uri": "https://localhost:8080/",
          "height": 449
        },
        "id": "gXPvIrT1q7af",
        "outputId": "d854988d-398f-4359-f983-2218320bcf8f"
      },
      "execution_count": null,
      "outputs": [
        {
          "output_type": "display_data",
          "data": {
            "text/plain": [
              "<Figure size 640x480 with 1 Axes>"
            ],
            "image/png": "[encoded data removed]"
          },
          "metadata": {}
        }
      ]
    },
    {
      "cell_type": "code",
      "source": [
        "evaluation_metrics(weights, linear_weights, true_outcomes, linear_outcomes)"
      ],
      "metadata": {
        "colab": {
          "base_uri": "https://localhost:8080/"
        },
        "id": "sU7ZlT-Dq9U2",
        "outputId": "0a11ff9b-5fc8-4463-a2a8-047fd234d765"
      },
      "execution_count": null,
      "outputs": [
        {
          "output_type": "stream",
          "name": "stdout",
          "text": [
            "Mean Squared Error: 1.1401505270772436e-31\n",
            "Mean Weight Error: 0.0862650026615644\n",
            "Model Variance: 0.06669550874846138\n",
            "Standard Deviation: 0.25825473615881933\n"
          ]
        }
      ]
    },
    {
      "cell_type": "markdown",
      "source": [
        "\n",
        "\n",
        "---\n",
        "\n",
        "Back to 1 variable, this time with noise\n",
        "\n",
        "---\n",
        "\n"
      ],
      "metadata": {
        "id": "OU6r_YIOrYFW"
      }
    },
    {
      "cell_type": "code",
      "source": [
        "data, weights = company_affects(df, NOISE_LEVEL=2, SINGLE_VAR_NOISE=1)\n",
        "data"
      ],
      "metadata": {
        "colab": {
          "base_uri": "https://localhost:8080/",
          "height": 545
        },
        "id": "Hc2x1R25rBZu",
        "outputId": "8271e345-c2e7-4d14-e130-69843c0644c0"
      },
      "execution_count": null,
      "outputs": [
        {
          "output_type": "execute_result",
          "data": {
            "text/plain": [
              "       Company Name   Sector  Year    Return\n",
              "0   FakeCo0-Sector0  Sector0  2018  1.664200\n",
              "1   FakeCo0-Sector0  Sector0  2019 -0.912037\n",
              "2   FakeCo0-Sector0  Sector0  2020 -2.541534\n",
              "3   FakeCo0-Sector0  Sector0  2021 -0.818383\n",
              "4   FakeCo1-Sector0  Sector0  2018  0.024350\n",
              "5   FakeCo1-Sector0  Sector0  2019 -2.166989\n",
              "6   FakeCo1-Sector0  Sector0  2020  0.745566\n",
              "7   FakeCo1-Sector0  Sector0  2021 -1.149595\n",
              "8   FakeCo0-Sector1  Sector1  2018  0.074060\n",
              "9   FakeCo0-Sector1  Sector1  2019 -0.796706\n",
              "10  FakeCo0-Sector1  Sector1  2020 -0.244199\n",
              "11  FakeCo0-Sector1  Sector1  2021 -0.170676\n",
              "12  FakeCo1-Sector1  Sector1  2018 -2.067363\n",
              "13  FakeCo1-Sector1  Sector1  2019  0.025870\n",
              "14  FakeCo1-Sector1  Sector1  2020 -2.100034\n",
              "15  FakeCo1-Sector1  Sector1  2021  1.439294"
            ],
            "text/html": [
              "\n",
              "\n",
              "  <div id=\"df-53809b27-982c-4ede-9259-f6c2aa8d80c5\">\n",
              "    <div class=\"colab-df-container\">\n",
              "      <div>\n",
              "<style scoped>\n",
              "    .dataframe tbody tr th:only-of-type {\n",
              "        vertical-align: middle;\n",
              "    }\n",
              "\n",
              "    .dataframe tbody tr th {\n",
              "        vertical-align: top;\n",
              "    }\n",
              "\n",
              "    .dataframe thead th {\n",
              "        text-align: right;\n",
              "    }\n",
              "</style>\n",
              "<table border=\"1\" class=\"dataframe\">\n",
              "  <thead>\n",
              "    <tr style=\"text-align: right;\">\n",
              "      <th></th>\n",
              "      <th>Company Name</th>\n",
              "      <th>Sector</th>\n",
              "      <th>Year</th>\n",
              "      <th>Return</th>\n",
              "    </tr>\n",
              "  </thead>\n",
              "  <tbody>\n",
              "    <tr>\n",
              "      <th>0</th>\n",
              "      <td>FakeCo0-Sector0</td>\n",
              "      <td>Sector0</td>\n",
              "      <td>2018</td>\n",
              "      <td>1.664200</td>\n",
              "    </tr>\n",
              "    <tr>\n",
              "      <th>1</th>\n",
              "      <td>FakeCo0-Sector0</td>\n",
              "      <td>Sector0</td>\n",
              "      <td>2019</td>\n",
              "      <td>-0.912037</td>\n",
              "    </tr>\n",
              "    <tr>\n",
              "      <th>2</th>\n",
              "      <td>FakeCo0-Sector0</td>\n",
              "      <td>Sector0</td>\n",
              "      <td>2020</td>\n",
              "      <td>-2.541534</td>\n",
              "    </tr>\n",
              "    <tr>\n",
              "      <th>3</th>\n",
              "      <td>FakeCo0-Sector0</td>\n",
              "      <td>Sector0</td>\n",
              "      <td>2021</td>\n",
              "      <td>-0.818383</td>\n",
              "    </tr>\n",
              "    <tr>\n",
              "      <th>4</th>\n",
              "      <td>FakeCo1-Sector0</td>\n",
              "      <td>Sector0</td>\n",
              "      <td>2018</td>\n",
              "      <td>0.024350</td>\n",
              "    </tr>\n",
              "    <tr>\n",
              "      <th>5</th>\n",
              "      <td>FakeCo1-Sector0</td>\n",
              "      <td>Sector0</td>\n",
              "      <td>2019</td>\n",
              "      <td>-2.166989</td>\n",
              "    </tr>\n",
              "    <tr>\n",
              "      <th>6</th>\n",
              "      <td>FakeCo1-Sector0</td>\n",
              "      <td>Sector0</td>\n",
              "      <td>2020</td>\n",
              "      <td>0.745566</td>\n",
              "    </tr>\n",
              "    <tr>\n",
              "      <th>7</th>\n",
              "      <td>FakeCo1-Sector0</td>\n",
              "      <td>Sector0</td>\n",
              "      <td>2021</td>\n",
              "      <td>-1.149595</td>\n",
              "    </tr>\n",
              "    <tr>\n",
              "      <th>8</th>\n",
              "      <td>FakeCo0-Sector1</td>\n",
              "      <td>Sector1</td>\n",
              "      <td>2018</td>\n",
              "      <td>0.074060</td>\n",
              "    </tr>\n",
              "    <tr>\n",
              "      <th>9</th>\n",
              "      <td>FakeCo0-Sector1</td>\n",
              "      <td>Sector1</td>\n",
              "      <td>2019</td>\n",
              "      <td>-0.796706</td>\n",
              "    </tr>\n",
              "    <tr>\n",
              "      <th>10</th>\n",
              "      <td>FakeCo0-Sector1</td>\n",
              "      <td>Sector1</td>\n",
              "      <td>2020</td>\n",
              "      <td>-0.244199</td>\n",
              "    </tr>\n",
              "    <tr>\n",
              "      <th>11</th>\n",
              "      <td>FakeCo0-Sector1</td>\n",
              "      <td>Sector1</td>\n",
              "      <td>2021</td>\n",
              "      <td>-0.170676</td>\n",
              "    </tr>\n",
              "    <tr>\n",
              "      <th>12</th>\n",
              "      <td>FakeCo1-Sector1</td>\n",
              "      <td>Sector1</td>\n",
              "      <td>2018</td>\n",
              "      <td>-2.067363</td>\n",
              "    </tr>\n",
              "    <tr>\n",
              "      <th>13</th>\n",
              "      <td>FakeCo1-Sector1</td>\n",
              "      <td>Sector1</td>\n",
              "      <td>2019</td>\n",
              "      <td>0.025870</td>\n",
              "    </tr>\n",
              "    <tr>\n",
              "      <th>14</th>\n",
              "      <td>FakeCo1-Sector1</td>\n",
              "      <td>Sector1</td>\n",
              "      <td>2020</td>\n",
              "      <td>-2.100034</td>\n",
              "    </tr>\n",
              "    <tr>\n",
              "      <th>15</th>\n",
              "      <td>FakeCo1-Sector1</td>\n",
              "      <td>Sector1</td>\n",
              "      <td>2021</td>\n",
              "      <td>1.439294</td>\n",
              "    </tr>\n",
              "  </tbody>\n",
              "</table>\n",
              "</div>\n",
              "      <button class=\"colab-df-convert\" onclick=\"convertToInteractive('df-53809b27-982c-4ede-9259-f6c2aa8d80c5')\"\n",
              "              title=\"Convert this dataframe to an interactive table.\"\n",
              "              style=\"display:none;\">\n",
              "\n",
              "  <svg xmlns=\"http://www.w3.org/2000/svg\" height=\"24px\"viewBox=\"0 0 24 24\"\n",
              "       width=\"24px\">\n",
              "    <path d=\"M0 0h24v24H0V0z\" fill=\"none\"/>\n",
              "    <path d=\"M18.56 5.44l.94 2.06.94-2.06 2.06-.94-2.06-.94-.94-2.06-.94 2.06-2.06.94zm-11 1L8.5 8.5l.94-2.06 2.06-.94-2.06-.94L8.5 2.5l-.94 2.06-2.06.94zm10 10l.94 2.06.94-2.06 2.06-.94-2.06-.94-.94-2.06-.94 2.06-2.06.94z\"/><path d=\"M17.41 7.96l-1.37-1.37c-.4-.4-.92-.59-1.43-.59-.52 0-1.04.2-1.43.59L10.3 9.45l-7.72 7.72c-.78.78-.78 2.05 0 2.83L4 21.41c.39.39.9.59 1.41.59.51 0 1.02-.2 1.41-.59l7.78-7.78 2.81-2.81c.8-.78.8-2.07 0-2.86zM5.41 20L4 18.59l7.72-7.72 1.47 1.35L5.41 20z\"/>\n",
              "  </svg>\n",
              "      </button>\n",
              "\n",
              "\n",
              "\n",
              "    <div id=\"df-4f9431c9-69e7-49f6-93f2-4afb0efde99a\">\n",
              "      <button class=\"colab-df-quickchart\" onclick=\"quickchart('df-4f9431c9-69e7-49f6-93f2-4afb0efde99a')\"\n",
              "              title=\"Suggest charts.\"\n",
              "              style=\"display:none;\">\n",
              "\n",
              "<svg xmlns=\"http://www.w3.org/2000/svg\" height=\"24px\"viewBox=\"0 0 24 24\"\n",
              "     width=\"24px\">\n",
              "    <g>\n",
              "        <path d=\"M19 3H5c-1.1 0-2 .9-2 2v14c0 1.1.9 2 2 2h14c1.1 0 2-.9 2-2V5c0-1.1-.9-2-2-2zM9 17H7v-7h2v7zm4 0h-2V7h2v10zm4 0h-2v-4h2v4z\"/>\n",
              "    </g>\n",
              "</svg>\n",
              "      </button>\n",
              "    </div>\n",
              "\n",
              "<style>\n",
              "  .colab-df-quickchart {\n",
              "    background-color: #E8F0FE;\n",
              "    border: none;\n",
              "    border-radius: 50%;\n",
              "    cursor: pointer;\n",
              "    display: none;\n",
              "    fill: #1967D2;\n",
              "    height: 32px;\n",
              "    padding: 0 0 0 0;\n",
              "    width: 32px;\n",
              "  }\n",
              "\n",
              "  .colab-df-quickchart:hover {\n",
              "    background-color: #E2EBFA;\n",
              "    box-shadow: 0px 1px 2px rgba(60, 64, 67, 0.3), 0px 1px 3px 1px rgba(60, 64, 67, 0.15);\n",
              "    fill: #174EA6;\n",
              "  }\n",
              "\n",
              "  [theme=dark] .colab-df-quickchart {\n",
              "    background-color: #3B4455;\n",
              "    fill: #D2E3FC;\n",
              "  }\n",
              "\n",
              "  [theme=dark] .colab-df-quickchart:hover {\n",
              "    background-color: #434B5C;\n",
              "    box-shadow: 0px 1px 3px 1px rgba(0, 0, 0, 0.15);\n",
              "    filter: drop-shadow(0px 1px 2px rgba(0, 0, 0, 0.3));\n",
              "    fill: #FFFFFF;\n",
              "  }\n",
              "</style>\n",
              "\n",
              "    <script>\n",
              "      async function quickchart(key) {\n",
              "        const containerElement = document.querySelector('#' + key);\n",
              "        const charts = await google.colab.kernel.invokeFunction(\n",
              "            'suggestCharts', [key], {});\n",
              "      }\n",
              "    </script>\n",
              "\n",
              "      <script>\n",
              "\n",
              "function displayQuickchartButton(domScope) {\n",
              "  let quickchartButtonEl =\n",
              "    domScope.querySelector('#df-4f9431c9-69e7-49f6-93f2-4afb0efde99a button.colab-df-quickchart');\n",
              "  quickchartButtonEl.style.display =\n",
              "    google.colab.kernel.accessAllowed ? 'block' : 'none';\n",
              "}\n",
              "\n",
              "        displayQuickchartButton(document);\n",
              "      </script>\n",
              "      <style>\n",
              "    .colab-df-container {\n",
              "      display:flex;\n",
              "      flex-wrap:wrap;\n",
              "      gap: 12px;\n",
              "    }\n",
              "\n",
              "    .colab-df-convert {\n",
              "      background-color: #E8F0FE;\n",
              "      border: none;\n",
              "      border-radius: 50%;\n",
              "      cursor: pointer;\n",
              "      display: none;\n",
              "      fill: #1967D2;\n",
              "      height: 32px;\n",
              "      padding: 0 0 0 0;\n",
              "      width: 32px;\n",
              "    }\n",
              "\n",
              "    .colab-df-convert:hover {\n",
              "      background-color: #E2EBFA;\n",
              "      box-shadow: 0px 1px 2px rgba(60, 64, 67, 0.3), 0px 1px 3px 1px rgba(60, 64, 67, 0.15);\n",
              "      fill: #174EA6;\n",
              "    }\n",
              "\n",
              "    [theme=dark] .colab-df-convert {\n",
              "      background-color: #3B4455;\n",
              "      fill: #D2E3FC;\n",
              "    }\n",
              "\n",
              "    [theme=dark] .colab-df-convert:hover {\n",
              "      background-color: #434B5C;\n",
              "      box-shadow: 0px 1px 3px 1px rgba(0, 0, 0, 0.15);\n",
              "      filter: drop-shadow(0px 1px 2px rgba(0, 0, 0, 0.3));\n",
              "      fill: #FFFFFF;\n",
              "    }\n",
              "  </style>\n",
              "\n",
              "      <script>\n",
              "        const buttonEl =\n",
              "          document.querySelector('#df-53809b27-982c-4ede-9259-f6c2aa8d80c5 button.colab-df-convert');\n",
              "        buttonEl.style.display =\n",
              "          google.colab.kernel.accessAllowed ? 'block' : 'none';\n",
              "\n",
              "        async function convertToInteractive(key) {\n",
              "          const element = document.querySelector('#df-53809b27-982c-4ede-9259-f6c2aa8d80c5');\n",
              "          const dataTable =\n",
              "            await google.colab.kernel.invokeFunction('convertToInteractive',\n",
              "                                                     [key], {});\n",
              "          if (!dataTable) return;\n",
              "\n",
              "          const docLinkHtml = 'Like what you see? Visit the ' +\n",
              "            '<a target=\"_blank\" href=https://colab.research.google.com/notebooks/data_table.ipynb>data table notebook</a>'\n",
              "            + ' to learn more about interactive tables.';\n",
              "          element.innerHTML = '';\n",
              "          dataTable['output_type'] = 'display_data';\n",
              "          await google.colab.output.renderOutput(dataTable, element);\n",
              "          const docLink = document.createElement('div');\n",
              "          docLink.innerHTML = docLinkHtml;\n",
              "          element.appendChild(docLink);\n",
              "        }\n",
              "      </script>\n",
              "    </div>\n",
              "  </div>\n"
            ]
          },
          "metadata": {},
          "execution_count": 162
        }
      ]
    },
    {
      "cell_type": "code",
      "source": [
        "design = design_matrix_company(data)\n",
        "design"
      ],
      "metadata": {
        "colab": {
          "base_uri": "https://localhost:8080/"
        },
        "id": "Nx-agTYwriWx",
        "outputId": "036eb6d1-5d64-4860-f8da-dda7325a3acb"
      },
      "execution_count": null,
      "outputs": [
        {
          "output_type": "execute_result",
          "data": {
            "text/plain": [
              "array([[1., 0., 0., 0.],\n",
              "       [1., 0., 0., 0.],\n",
              "       [1., 0., 0., 0.],\n",
              "       [1., 0., 0., 0.],\n",
              "       [0., 1., 0., 0.],\n",
              "       [0., 1., 0., 0.],\n",
              "       [0., 1., 0., 0.],\n",
              "       [0., 1., 0., 0.],\n",
              "       [0., 0., 1., 0.],\n",
              "       [0., 0., 1., 0.],\n",
              "       [0., 0., 1., 0.],\n",
              "       [0., 0., 1., 0.],\n",
              "       [0., 0., 0., 1.],\n",
              "       [0., 0., 0., 1.],\n",
              "       [0., 0., 0., 1.],\n",
              "       [0., 0., 0., 1.]])"
            ]
          },
          "metadata": {},
          "execution_count": 163
        }
      ]
    },
    {
      "cell_type": "code",
      "source": [
        "matrix_rank = numpy.linalg.matrix_rank(design)\n",
        "print('Matrix Shape:', design.shape, '\\n\\n' + 'Matrix Rank:', matrix_rank)"
      ],
      "metadata": {
        "colab": {
          "base_uri": "https://localhost:8080/"
        },
        "id": "2eycv8uerpQm",
        "outputId": "39d15ac1-2738-4cc8-9c64-8507db1d6d0f"
      },
      "execution_count": null,
      "outputs": [
        {
          "output_type": "stream",
          "name": "stdout",
          "text": [
            "Matrix Shape: (16, 4) \n",
            "\n",
            "Matrix Rank: 4\n"
          ]
        }
      ]
    },
    {
      "cell_type": "code",
      "source": [
        "variable_analysis(design)"
      ],
      "metadata": {
        "colab": {
          "base_uri": "https://localhost:8080/",
          "height": 375
        },
        "id": "lKlMZG5srsIX",
        "outputId": "9b564756-9147-4d25-f661-adf4c87d30c5"
      },
      "execution_count": null,
      "outputs": [
        {
          "output_type": "display_data",
          "data": {
            "text/plain": [
              "<Figure size 2000x500 with 6 Axes>"
            ],
            "image/png": "[encoded data removed]"
          },
          "metadata": {}
        }
      ]
    },
    {
      "cell_type": "code",
      "source": [
        "true_outcomes = data['Return']\n",
        "\n",
        "linear = LinearRegression(fit_intercept=False) # input, output, intercept\n",
        "linear.fit(design, true_outcomes)\n",
        "linear_outcomes = linear.predict(design)\n",
        "linear_weights = linear.coef_"
      ],
      "metadata": {
        "id": "jz0-QwB_rvW3"
      },
      "execution_count": null,
      "outputs": []
    },
    {
      "cell_type": "code",
      "source": [
        "model_weights_accuracy(weights, linear_weights)"
      ],
      "metadata": {
        "colab": {
          "base_uri": "https://localhost:8080/",
          "height": 449
        },
        "id": "BLq164w7ryPH",
        "outputId": "35b9021b-aaa7-4628-8e56-e2e3694b89c7"
      },
      "execution_count": null,
      "outputs": [
        {
          "output_type": "display_data",
          "data": {
            "text/plain": [
              "<Figure size 640x480 with 1 Axes>"
            ],
            "image/png": "[encoded data removed]"
          },
          "metadata": {}
        }
      ]
    },
    {
      "cell_type": "code",
      "source": [
        "pred_outcomes = numpy.dot(design, linear_weights)\n",
        "pred_outcomes"
      ],
      "metadata": {
        "colab": {
          "base_uri": "https://localhost:8080/"
        },
        "id": "4pKmBd7_r0FO",
        "outputId": "107cc5e2-de4c-4c85-caab-b6b4fb63c865"
      },
      "execution_count": null,
      "outputs": [
        {
          "output_type": "execute_result",
          "data": {
            "text/plain": [
              "array([-0.65193829, -0.65193829, -0.65193829, -0.65193829, -0.63666687,\n",
              "       -0.63666687, -0.63666687, -0.63666687, -0.28438031, -0.28438031,\n",
              "       -0.28438031, -0.28438031, -0.67555836, -0.67555836, -0.67555836,\n",
              "       -0.67555836])"
            ]
          },
          "metadata": {},
          "execution_count": 168
        }
      ]
    },
    {
      "cell_type": "code",
      "source": [
        "model_outcomes_accuracy(true_outcomes, linear_outcomes)"
      ],
      "metadata": {
        "colab": {
          "base_uri": "https://localhost:8080/",
          "height": 449
        },
        "id": "jVUAVi-cr2hF",
        "outputId": "d40d4781-12b1-4e70-cf71-fa888814931f"
      },
      "execution_count": null,
      "outputs": [
        {
          "output_type": "display_data",
          "data": {
            "text/plain": [
              "<Figure size 640x480 with 1 Axes>"
            ],
            "image/png": "[encoded data removed]"
          },
          "metadata": {}
        }
      ]
    },
    {
      "cell_type": "code",
      "source": [
        "evaluation_metrics(weights, linear_weights, true_outcomes, linear_outcomes)"
      ],
      "metadata": {
        "colab": {
          "base_uri": "https://localhost:8080/"
        },
        "id": "4U08r0czr4UM",
        "outputId": "15b2cde8-07e8-4c62-d0c0-1975728a1535"
      },
      "execution_count": null,
      "outputs": [
        {
          "output_type": "stream",
          "name": "stdout",
          "text": [
            "Mean Squared Error: 1.4574547022377393\n",
            "Mean Weight Error: 1.1156094448200509\n",
            "Model Variance: 0.11175509644633916\n",
            "Standard Deviation: 0.3342979157074408\n"
          ]
        }
      ]
    },
    {
      "cell_type": "markdown",
      "source": [
        "\n",
        "\n",
        "---\n",
        "\n",
        "2 variables with noise\n",
        "\n",
        "---\n",
        "\n"
      ],
      "metadata": {
        "id": "aZ1s_IHgsFNC"
      }
    },
    {
      "cell_type": "code",
      "source": [
        "data, weights = company_sector_affects(df, NOISE_LEVEL=2, SINGLE_VAR_NOISE=1)\n",
        "data"
      ],
      "metadata": {
        "colab": {
          "base_uri": "https://localhost:8080/",
          "height": 545
        },
        "id": "p72wQMMrr772",
        "outputId": "066c96db-1d56-4dc4-cb8f-09ce0829bdf6"
      },
      "execution_count": null,
      "outputs": [
        {
          "output_type": "execute_result",
          "data": {
            "text/plain": [
              "       Company Name   Sector  Year    Return\n",
              "0   FakeCo0-Sector0  Sector0  2018  2.443587\n",
              "1   FakeCo0-Sector0  Sector0  2019  2.956587\n",
              "2   FakeCo0-Sector0  Sector0  2020  3.374246\n",
              "3   FakeCo0-Sector0  Sector0  2021 -3.010022\n",
              "4   FakeCo1-Sector0  Sector0  2018 -0.654133\n",
              "5   FakeCo1-Sector0  Sector0  2019  0.593870\n",
              "6   FakeCo1-Sector0  Sector0  2020 -1.064799\n",
              "7   FakeCo1-Sector0  Sector0  2021  1.599316\n",
              "8   FakeCo0-Sector1  Sector1  2018  1.802599\n",
              "9   FakeCo0-Sector1  Sector1  2019  0.409511\n",
              "10  FakeCo0-Sector1  Sector1  2020  1.616778\n",
              "11  FakeCo0-Sector1  Sector1  2021  1.419345\n",
              "12  FakeCo1-Sector1  Sector1  2018 -1.367312\n",
              "13  FakeCo1-Sector1  Sector1  2019  3.599375\n",
              "14  FakeCo1-Sector1  Sector1  2020  0.120966\n",
              "15  FakeCo1-Sector1  Sector1  2021  2.415362"
            ],
            "text/html": [
              "\n",
              "\n",
              "  <div id=\"df-c7d46265-ae50-49c2-923c-5c57cea54d53\">\n",
              "    <div class=\"colab-df-container\">\n",
              "      <div>\n",
              "<style scoped>\n",
              "    .dataframe tbody tr th:only-of-type {\n",
              "        vertical-align: middle;\n",
              "    }\n",
              "\n",
              "    .dataframe tbody tr th {\n",
              "        vertical-align: top;\n",
              "    }\n",
              "\n",
              "    .dataframe thead th {\n",
              "        text-align: right;\n",
              "    }\n",
              "</style>\n",
              "<table border=\"1\" class=\"dataframe\">\n",
              "  <thead>\n",
              "    <tr style=\"text-align: right;\">\n",
              "      <th></th>\n",
              "      <th>Company Name</th>\n",
              "      <th>Sector</th>\n",
              "      <th>Year</th>\n",
              "      <th>Return</th>\n",
              "    </tr>\n",
              "  </thead>\n",
              "  <tbody>\n",
              "    <tr>\n",
              "      <th>0</th>\n",
              "      <td>FakeCo0-Sector0</td>\n",
              "      <td>Sector0</td>\n",
              "      <td>2018</td>\n",
              "      <td>2.443587</td>\n",
              "    </tr>\n",
              "    <tr>\n",
              "      <th>1</th>\n",
              "      <td>FakeCo0-Sector0</td>\n",
              "      <td>Sector0</td>\n",
              "      <td>2019</td>\n",
              "      <td>2.956587</td>\n",
              "    </tr>\n",
              "    <tr>\n",
              "      <th>2</th>\n",
              "      <td>FakeCo0-Sector0</td>\n",
              "      <td>Sector0</td>\n",
              "      <td>2020</td>\n",
              "      <td>3.374246</td>\n",
              "    </tr>\n",
              "    <tr>\n",
              "      <th>3</th>\n",
              "      <td>FakeCo0-Sector0</td>\n",
              "      <td>Sector0</td>\n",
              "      <td>2021</td>\n",
              "      <td>-3.010022</td>\n",
              "    </tr>\n",
              "    <tr>\n",
              "      <th>4</th>\n",
              "      <td>FakeCo1-Sector0</td>\n",
              "      <td>Sector0</td>\n",
              "      <td>2018</td>\n",
              "      <td>-0.654133</td>\n",
              "    </tr>\n",
              "    <tr>\n",
              "      <th>5</th>\n",
              "      <td>FakeCo1-Sector0</td>\n",
              "      <td>Sector0</td>\n",
              "      <td>2019</td>\n",
              "      <td>0.593870</td>\n",
              "    </tr>\n",
              "    <tr>\n",
              "      <th>6</th>\n",
              "      <td>FakeCo1-Sector0</td>\n",
              "      <td>Sector0</td>\n",
              "      <td>2020</td>\n",
              "      <td>-1.064799</td>\n",
              "    </tr>\n",
              "    <tr>\n",
              "      <th>7</th>\n",
              "      <td>FakeCo1-Sector0</td>\n",
              "      <td>Sector0</td>\n",
              "      <td>2021</td>\n",
              "      <td>1.599316</td>\n",
              "    </tr>\n",
              "    <tr>\n",
              "      <th>8</th>\n",
              "      <td>FakeCo0-Sector1</td>\n",
              "      <td>Sector1</td>\n",
              "      <td>2018</td>\n",
              "      <td>1.802599</td>\n",
              "    </tr>\n",
              "    <tr>\n",
              "      <th>9</th>\n",
              "      <td>FakeCo0-Sector1</td>\n",
              "      <td>Sector1</td>\n",
              "      <td>2019</td>\n",
              "      <td>0.409511</td>\n",
              "    </tr>\n",
              "    <tr>\n",
              "      <th>10</th>\n",
              "      <td>FakeCo0-Sector1</td>\n",
              "      <td>Sector1</td>\n",
              "      <td>2020</td>\n",
              "      <td>1.616778</td>\n",
              "    </tr>\n",
              "    <tr>\n",
              "      <th>11</th>\n",
              "      <td>FakeCo0-Sector1</td>\n",
              "      <td>Sector1</td>\n",
              "      <td>2021</td>\n",
              "      <td>1.419345</td>\n",
              "    </tr>\n",
              "    <tr>\n",
              "      <th>12</th>\n",
              "      <td>FakeCo1-Sector1</td>\n",
              "      <td>Sector1</td>\n",
              "      <td>2018</td>\n",
              "      <td>-1.367312</td>\n",
              "    </tr>\n",
              "    <tr>\n",
              "      <th>13</th>\n",
              "      <td>FakeCo1-Sector1</td>\n",
              "      <td>Sector1</td>\n",
              "      <td>2019</td>\n",
              "      <td>3.599375</td>\n",
              "    </tr>\n",
              "    <tr>\n",
              "      <th>14</th>\n",
              "      <td>FakeCo1-Sector1</td>\n",
              "      <td>Sector1</td>\n",
              "      <td>2020</td>\n",
              "      <td>0.120966</td>\n",
              "    </tr>\n",
              "    <tr>\n",
              "      <th>15</th>\n",
              "      <td>FakeCo1-Sector1</td>\n",
              "      <td>Sector1</td>\n",
              "      <td>2021</td>\n",
              "      <td>2.415362</td>\n",
              "    </tr>\n",
              "  </tbody>\n",
              "</table>\n",
              "</div>\n",
              "      <button class=\"colab-df-convert\" onclick=\"convertToInteractive('df-c7d46265-ae50-49c2-923c-5c57cea54d53')\"\n",
              "              title=\"Convert this dataframe to an interactive table.\"\n",
              "              style=\"display:none;\">\n",
              "\n",
              "  <svg xmlns=\"http://www.w3.org/2000/svg\" height=\"24px\"viewBox=\"0 0 24 24\"\n",
              "       width=\"24px\">\n",
              "    <path d=\"M0 0h24v24H0V0z\" fill=\"none\"/>\n",
              "    <path d=\"M18.56 5.44l.94 2.06.94-2.06 2.06-.94-2.06-.94-.94-2.06-.94 2.06-2.06.94zm-11 1L8.5 8.5l.94-2.06 2.06-.94-2.06-.94L8.5 2.5l-.94 2.06-2.06.94zm10 10l.94 2.06.94-2.06 2.06-.94-2.06-.94-.94-2.06-.94 2.06-2.06.94z\"/><path d=\"M17.41 7.96l-1.37-1.37c-.4-.4-.92-.59-1.43-.59-.52 0-1.04.2-1.43.59L10.3 9.45l-7.72 7.72c-.78.78-.78 2.05 0 2.83L4 21.41c.39.39.9.59 1.41.59.51 0 1.02-.2 1.41-.59l7.78-7.78 2.81-2.81c.8-.78.8-2.07 0-2.86zM5.41 20L4 18.59l7.72-7.72 1.47 1.35L5.41 20z\"/>\n",
              "  </svg>\n",
              "      </button>\n",
              "\n",
              "\n",
              "\n",
              "    <div id=\"df-bc17b655-6674-4f30-85a2-f65233d28972\">\n",
              "      <button class=\"colab-df-quickchart\" onclick=\"quickchart('df-bc17b655-6674-4f30-85a2-f65233d28972')\"\n",
              "              title=\"Suggest charts.\"\n",
              "              style=\"display:none;\">\n",
              "\n",
              "<svg xmlns=\"http://www.w3.org/2000/svg\" height=\"24px\"viewBox=\"0 0 24 24\"\n",
              "     width=\"24px\">\n",
              "    <g>\n",
              "        <path d=\"M19 3H5c-1.1 0-2 .9-2 2v14c0 1.1.9 2 2 2h14c1.1 0 2-.9 2-2V5c0-1.1-.9-2-2-2zM9 17H7v-7h2v7zm4 0h-2V7h2v10zm4 0h-2v-4h2v4z\"/>\n",
              "    </g>\n",
              "</svg>\n",
              "      </button>\n",
              "    </div>\n",
              "\n",
              "<style>\n",
              "  .colab-df-quickchart {\n",
              "    background-color: #E8F0FE;\n",
              "    border: none;\n",
              "    border-radius: 50%;\n",
              "    cursor: pointer;\n",
              "    display: none;\n",
              "    fill: #1967D2;\n",
              "    height: 32px;\n",
              "    padding: 0 0 0 0;\n",
              "    width: 32px;\n",
              "  }\n",
              "\n",
              "  .colab-df-quickchart:hover {\n",
              "    background-color: #E2EBFA;\n",
              "    box-shadow: 0px 1px 2px rgba(60, 64, 67, 0.3), 0px 1px 3px 1px rgba(60, 64, 67, 0.15);\n",
              "    fill: #174EA6;\n",
              "  }\n",
              "\n",
              "  [theme=dark] .colab-df-quickchart {\n",
              "    background-color: #3B4455;\n",
              "    fill: #D2E3FC;\n",
              "  }\n",
              "\n",
              "  [theme=dark] .colab-df-quickchart:hover {\n",
              "    background-color: #434B5C;\n",
              "    box-shadow: 0px 1px 3px 1px rgba(0, 0, 0, 0.15);\n",
              "    filter: drop-shadow(0px 1px 2px rgba(0, 0, 0, 0.3));\n",
              "    fill: #FFFFFF;\n",
              "  }\n",
              "</style>\n",
              "\n",
              "    <script>\n",
              "      async function quickchart(key) {\n",
              "        const containerElement = document.querySelector('#' + key);\n",
              "        const charts = await google.colab.kernel.invokeFunction(\n",
              "            'suggestCharts', [key], {});\n",
              "      }\n",
              "    </script>\n",
              "\n",
              "      <script>\n",
              "\n",
              "function displayQuickchartButton(domScope) {\n",
              "  let quickchartButtonEl =\n",
              "    domScope.querySelector('#df-bc17b655-6674-4f30-85a2-f65233d28972 button.colab-df-quickchart');\n",
              "  quickchartButtonEl.style.display =\n",
              "    google.colab.kernel.accessAllowed ? 'block' : 'none';\n",
              "}\n",
              "\n",
              "        displayQuickchartButton(document);\n",
              "      </script>\n",
              "      <style>\n",
              "    .colab-df-container {\n",
              "      display:flex;\n",
              "      flex-wrap:wrap;\n",
              "      gap: 12px;\n",
              "    }\n",
              "\n",
              "    .colab-df-convert {\n",
              "      background-color: #E8F0FE;\n",
              "      border: none;\n",
              "      border-radius: 50%;\n",
              "      cursor: pointer;\n",
              "      display: none;\n",
              "      fill: #1967D2;\n",
              "      height: 32px;\n",
              "      padding: 0 0 0 0;\n",
              "      width: 32px;\n",
              "    }\n",
              "\n",
              "    .colab-df-convert:hover {\n",
              "      background-color: #E2EBFA;\n",
              "      box-shadow: 0px 1px 2px rgba(60, 64, 67, 0.3), 0px 1px 3px 1px rgba(60, 64, 67, 0.15);\n",
              "      fill: #174EA6;\n",
              "    }\n",
              "\n",
              "    [theme=dark] .colab-df-convert {\n",
              "      background-color: #3B4455;\n",
              "      fill: #D2E3FC;\n",
              "    }\n",
              "\n",
              "    [theme=dark] .colab-df-convert:hover {\n",
              "      background-color: #434B5C;\n",
              "      box-shadow: 0px 1px 3px 1px rgba(0, 0, 0, 0.15);\n",
              "      filter: drop-shadow(0px 1px 2px rgba(0, 0, 0, 0.3));\n",
              "      fill: #FFFFFF;\n",
              "    }\n",
              "  </style>\n",
              "\n",
              "      <script>\n",
              "        const buttonEl =\n",
              "          document.querySelector('#df-c7d46265-ae50-49c2-923c-5c57cea54d53 button.colab-df-convert');\n",
              "        buttonEl.style.display =\n",
              "          google.colab.kernel.accessAllowed ? 'block' : 'none';\n",
              "\n",
              "        async function convertToInteractive(key) {\n",
              "          const element = document.querySelector('#df-c7d46265-ae50-49c2-923c-5c57cea54d53');\n",
              "          const dataTable =\n",
              "            await google.colab.kernel.invokeFunction('convertToInteractive',\n",
              "                                                     [key], {});\n",
              "          if (!dataTable) return;\n",
              "\n",
              "          const docLinkHtml = 'Like what you see? Visit the ' +\n",
              "            '<a target=\"_blank\" href=https://colab.research.google.com/notebooks/data_table.ipynb>data table notebook</a>'\n",
              "            + ' to learn more about interactive tables.';\n",
              "          element.innerHTML = '';\n",
              "          dataTable['output_type'] = 'display_data';\n",
              "          await google.colab.output.renderOutput(dataTable, element);\n",
              "          const docLink = document.createElement('div');\n",
              "          docLink.innerHTML = docLinkHtml;\n",
              "          element.appendChild(docLink);\n",
              "        }\n",
              "      </script>\n",
              "    </div>\n",
              "  </div>\n"
            ]
          },
          "metadata": {},
          "execution_count": 171
        }
      ]
    },
    {
      "cell_type": "code",
      "source": [
        "design = design_matrix_company_sector(data)\n",
        "design"
      ],
      "metadata": {
        "colab": {
          "base_uri": "https://localhost:8080/"
        },
        "id": "TgGZfSHmsMa_",
        "outputId": "46379144-9b70-4cb8-afb7-c445de59b4a9"
      },
      "execution_count": null,
      "outputs": [
        {
          "output_type": "execute_result",
          "data": {
            "text/plain": [
              "array([[1., 0., 0., 0., 1., 0.],\n",
              "       [1., 0., 0., 0., 1., 0.],\n",
              "       [1., 0., 0., 0., 1., 0.],\n",
              "       [1., 0., 0., 0., 1., 0.],\n",
              "       [0., 1., 0., 0., 1., 0.],\n",
              "       [0., 1., 0., 0., 1., 0.],\n",
              "       [0., 1., 0., 0., 1., 0.],\n",
              "       [0., 1., 0., 0., 1., 0.],\n",
              "       [0., 0., 1., 0., 0., 1.],\n",
              "       [0., 0., 1., 0., 0., 1.],\n",
              "       [0., 0., 1., 0., 0., 1.],\n",
              "       [0., 0., 1., 0., 0., 1.],\n",
              "       [0., 0., 0., 1., 0., 1.],\n",
              "       [0., 0., 0., 1., 0., 1.],\n",
              "       [0., 0., 0., 1., 0., 1.],\n",
              "       [0., 0., 0., 1., 0., 1.]])"
            ]
          },
          "metadata": {},
          "execution_count": 172
        }
      ]
    },
    {
      "cell_type": "code",
      "source": [
        "matrix_rank = numpy.linalg.matrix_rank(design)\n",
        "print('Matrix Shape:', design.shape, '\\n\\n' + 'Matrix Rank:', matrix_rank)"
      ],
      "metadata": {
        "colab": {
          "base_uri": "https://localhost:8080/"
        },
        "id": "R8C-13zAsPMe",
        "outputId": "0254e507-8fa5-4cf5-a71a-23fe7c5e8884"
      },
      "execution_count": null,
      "outputs": [
        {
          "output_type": "stream",
          "name": "stdout",
          "text": [
            "Matrix Shape: (16, 6) \n",
            "\n",
            "Matrix Rank: 4\n"
          ]
        }
      ]
    },
    {
      "cell_type": "code",
      "source": [
        "variable_analysis(design)"
      ],
      "metadata": {
        "colab": {
          "base_uri": "https://localhost:8080/",
          "height": 375
        },
        "id": "Ftp409QosSrj",
        "outputId": "71147a90-d036-453b-8f07-b6b2721ff304"
      },
      "execution_count": null,
      "outputs": [
        {
          "output_type": "display_data",
          "data": {
            "text/plain": [
              "<Figure size 2000x500 with 6 Axes>"
            ],
            "image/png": "[encoded data removed]"
          },
          "metadata": {}
        }
      ]
    },
    {
      "cell_type": "code",
      "source": [
        "true_outcomes = data['Return']\n",
        "\n",
        "linear = LinearRegression(fit_intercept=False) # input, output, intercept\n",
        "linear.fit(design, true_outcomes)\n",
        "linear_outcomes = linear.predict(design)\n",
        "linear_weights = linear.coef_"
      ],
      "metadata": {
        "id": "ca6OC3XmsY0Z"
      },
      "execution_count": null,
      "outputs": []
    },
    {
      "cell_type": "code",
      "source": [
        "model_weights_accuracy(weights, linear_weights)\n",
        "#make way to easily compare with no noise"
      ],
      "metadata": {
        "colab": {
          "base_uri": "https://localhost:8080/",
          "height": 449
        },
        "id": "FCK-1eVusc9u",
        "outputId": "43582474-372c-4d47-fb7d-f841ca1cbd6f"
      },
      "execution_count": null,
      "outputs": [
        {
          "output_type": "display_data",
          "data": {
            "text/plain": [
              "<Figure size 640x480 with 1 Axes>"
            ],
            "image/png": "[encoded data removed]"
          },
          "metadata": {}
        }
      ]
    },
    {
      "cell_type": "code",
      "source": [
        "pred_outcomes = numpy.dot(design, linear_weights)\n",
        "pred_outcomes"
      ],
      "metadata": {
        "colab": {
          "base_uri": "https://localhost:8080/"
        },
        "id": "8tCtYkrNseiS",
        "outputId": "4cf41ffd-ecfd-4537-de38-4bb80bab70b5"
      },
      "execution_count": null,
      "outputs": [
        {
          "output_type": "execute_result",
          "data": {
            "text/plain": [
              "array([1.44109964, 1.44109964, 1.44109964, 1.44109964, 0.11856368,\n",
              "       0.11856368, 0.11856368, 0.11856368, 1.31205843, 1.31205843,\n",
              "       1.31205843, 1.31205843, 1.19209785, 1.19209785, 1.19209785,\n",
              "       1.19209785])"
            ]
          },
          "metadata": {},
          "execution_count": 177
        }
      ]
    },
    {
      "cell_type": "code",
      "source": [
        "model_outcomes_accuracy(true_outcomes, linear_outcomes)\n",
        "#make way to easily compare with no noise"
      ],
      "metadata": {
        "colab": {
          "base_uri": "https://localhost:8080/",
          "height": 449
        },
        "id": "baEjG1L-sg63",
        "outputId": "b77cd89b-46dc-477c-8ca2-d18773e194b3"
      },
      "execution_count": null,
      "outputs": [
        {
          "output_type": "display_data",
          "data": {
            "text/plain": [
              "<Figure size 640x480 with 1 Axes>"
            ],
            "image/png": "[encoded data removed]"
          },
          "metadata": {}
        }
      ]
    },
    {
      "cell_type": "code",
      "source": [
        "evaluation_metrics(weights, linear_weights, true_outcomes, linear_outcomes)"
      ],
      "metadata": {
        "colab": {
          "base_uri": "https://localhost:8080/"
        },
        "id": "RJYPCcAasjZn",
        "outputId": "d91735ce-ca9f-4a56-f530-69fafafaf317"
      },
      "execution_count": null,
      "outputs": [
        {
          "output_type": "stream",
          "name": "stdout",
          "text": [
            "Mean Squared Error: 2.963501707269761\n",
            "Mean Weight Error: -0.01530082978672583\n",
            "Model Variance: 0.09985234275358983\n",
            "Standard Deviation: 0.31599421316471893\n"
          ]
        }
      ]
    },
    {
      "cell_type": "code",
      "source": [],
      "metadata": {
        "id": "ydRl7MJzspug"
      },
      "execution_count": null,
      "outputs": []
    }
  ]
}