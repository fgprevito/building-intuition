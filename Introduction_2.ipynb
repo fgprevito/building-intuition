{
  "nbformat": 4,
  "nbformat_minor": 0,
  "metadata": {
    "colab": {
      "provenance": [],
      "authorship_tag": "ABX9TyN5wb8Gdz456gfwSZ5VF0cB",
      "include_colab_link": true
    },
    "kernelspec": {
      "name": "python3",
      "display_name": "Python 3"
    },
    "language_info": {
      "name": "python"
    }
  },
  "cells": [
    {
      "cell_type": "markdown",
      "metadata": {
        "id": "view-in-github",
        "colab_type": "text"
      },
      "source": [
        "<a href=\"https://colab.research.google.com/github/fgprevito/building-intuition/blob/main/Introduction_2.ipynb\" target=\"_parent\"><img src=\"https://colab.research.google.com/assets/colab-badge.svg\" alt=\"Open In Colab\"/></a>"
      ]
    },
    {
      "cell_type": "markdown",
      "source": [
        "- The goal is to achieve intuition about linear regression\n",
        "- The idea being that by going through this process of achieving intuition around linear regression and all its facets, this will help me learn how to solve problems using high quality thinking"
      ],
      "metadata": {
        "id": "o-rN3y0QxXbb"
      }
    },
    {
      "cell_type": "markdown",
      "source": [
        "- Make sure to carefully think through each step and why I'm doing it and what it means\n",
        "- How will changes to any part of the process affect my results\n",
        "- How can I make it easier to test changes that affect my inputs/outputs"
      ],
      "metadata": {
        "id": "FUbLJCDGyRY0"
      }
    },
    {
      "cell_type": "markdown",
      "source": [
        "Goal for this iteration:\n",
        "- Thorough understanding of what we've done so far\n",
        "- Add in other factors (year, sector, etc)"
      ],
      "metadata": {
        "id": "kkJtUtD1yYvs"
      }
    },
    {
      "cell_type": "code",
      "execution_count": null,
      "metadata": {
        "id": "DuSlmdUvP1zo"
      },
      "outputs": [],
      "source": [
        "import numpy\n",
        "from matplotlib import pyplot"
      ]
    },
    {
      "cell_type": "code",
      "source": [
        "NOISE = 0\n",
        "START_YEAR = 2017\n",
        "NUM_YEARS = 5"
      ],
      "metadata": {
        "id": "4LVEc9vhxIPp"
      },
      "execution_count": null,
      "outputs": []
    },
    {
      "cell_type": "code",
      "source": [
        "co = ['Apple', 'Tesla', 'Microsoft', 'Amazon', 'Avronna']\n",
        "co_map = {x:ii for (ii,x) in enumerate(co)}\n",
        "co_map"
      ],
      "metadata": {
        "colab": {
          "base_uri": "https://localhost:8080/"
        },
        "id": "liuZyuYuQBHx",
        "outputId": "caefd455-d66c-4b9c-a70e-4c54a549e82e"
      },
      "execution_count": null,
      "outputs": [
        {
          "output_type": "execute_result",
          "data": {
            "text/plain": [
              "{'Apple': 0, 'Tesla': 1, 'Microsoft': 2, 'Amazon': 3, 'Avronna': 4}"
            ]
          },
          "metadata": {},
          "execution_count": 3
        }
      ]
    },
    {
      "cell_type": "code",
      "source": [
        "year = numpy.arange(START_YEAR, START_YEAR + NUM_YEARS)\n",
        "year_map = {x:ii for (ii,x) in enumerate(year)}\n",
        "year_map"
      ],
      "metadata": {
        "colab": {
          "base_uri": "https://localhost:8080/"
        },
        "id": "5-gSjw0-3mx2",
        "outputId": "76721287-8a23-4aef-cba1-ebe535b83254"
      },
      "execution_count": null,
      "outputs": [
        {
          "output_type": "execute_result",
          "data": {
            "text/plain": [
              "{2017: 0, 2018: 1, 2019: 2, 2020: 3, 2021: 4}"
            ]
          },
          "metadata": {},
          "execution_count": 4
        }
      ]
    },
    {
      "cell_type": "code",
      "source": [
        "acc = []\n",
        "\n",
        "for yy in range(START_YEAR, START_YEAR + NUM_YEARS):\n",
        "  for c in co:\n",
        "    new_row = numpy.zeros((len(co) + len(year), ))\n",
        "    new_row[co_map[c]] = 1\n",
        "    new_row[year_map[yy] + len(co)] = 1\n",
        "    acc.append(new_row)\n",
        "\n",
        "design_matrix = numpy.vstack(acc)\n",
        "design_matrix"
      ],
      "metadata": {
        "colab": {
          "base_uri": "https://localhost:8080/"
        },
        "id": "oUKiVDrlQYKg",
        "outputId": "125df582-103f-4913-bdce-95345350f4e1"
      },
      "execution_count": null,
      "outputs": [
        {
          "output_type": "execute_result",
          "data": {
            "text/plain": [
              "array([[1., 0., 0., 0., 0., 1., 0., 0., 0., 0.],\n",
              "       [0., 1., 0., 0., 0., 1., 0., 0., 0., 0.],\n",
              "       [0., 0., 1., 0., 0., 1., 0., 0., 0., 0.],\n",
              "       [0., 0., 0., 1., 0., 1., 0., 0., 0., 0.],\n",
              "       [0., 0., 0., 0., 1., 1., 0., 0., 0., 0.],\n",
              "       [1., 0., 0., 0., 0., 0., 1., 0., 0., 0.],\n",
              "       [0., 1., 0., 0., 0., 0., 1., 0., 0., 0.],\n",
              "       [0., 0., 1., 0., 0., 0., 1., 0., 0., 0.],\n",
              "       [0., 0., 0., 1., 0., 0., 1., 0., 0., 0.],\n",
              "       [0., 0., 0., 0., 1., 0., 1., 0., 0., 0.],\n",
              "       [1., 0., 0., 0., 0., 0., 0., 1., 0., 0.],\n",
              "       [0., 1., 0., 0., 0., 0., 0., 1., 0., 0.],\n",
              "       [0., 0., 1., 0., 0., 0., 0., 1., 0., 0.],\n",
              "       [0., 0., 0., 1., 0., 0., 0., 1., 0., 0.],\n",
              "       [0., 0., 0., 0., 1., 0., 0., 1., 0., 0.],\n",
              "       [1., 0., 0., 0., 0., 0., 0., 0., 1., 0.],\n",
              "       [0., 1., 0., 0., 0., 0., 0., 0., 1., 0.],\n",
              "       [0., 0., 1., 0., 0., 0., 0., 0., 1., 0.],\n",
              "       [0., 0., 0., 1., 0., 0., 0., 0., 1., 0.],\n",
              "       [0., 0., 0., 0., 1., 0., 0., 0., 1., 0.],\n",
              "       [1., 0., 0., 0., 0., 0., 0., 0., 0., 1.],\n",
              "       [0., 1., 0., 0., 0., 0., 0., 0., 0., 1.],\n",
              "       [0., 0., 1., 0., 0., 0., 0., 0., 0., 1.],\n",
              "       [0., 0., 0., 1., 0., 0., 0., 0., 0., 1.],\n",
              "       [0., 0., 0., 0., 1., 0., 0., 0., 0., 1.]])"
            ]
          },
          "metadata": {},
          "execution_count": 5
        }
      ]
    },
    {
      "cell_type": "code",
      "source": [
        "design_matrix[5] - design_matrix[-5]"
      ],
      "metadata": {
        "colab": {
          "base_uri": "https://localhost:8080/"
        },
        "id": "bBKH-32A9g37",
        "outputId": "43befbf6-0226-409c-81a9-2181266f9d65"
      },
      "execution_count": null,
      "outputs": [
        {
          "output_type": "execute_result",
          "data": {
            "text/plain": [
              "array([ 0.,  0.,  0.,  0.,  0.,  0.,  1.,  0.,  0., -1.])"
            ]
          },
          "metadata": {},
          "execution_count": 6
        }
      ]
    },
    {
      "cell_type": "markdown",
      "source": [
        "3 ways to deal with rank deficient design matrix which happens when we have categorical vars\n",
        "- get rid of last column (like we did with simple_design)\n",
        "- set one of the factors to 0\n",
        "- somehow set up penalized/regularized regression"
      ],
      "metadata": {
        "id": "L87ab26v94si"
      }
    },
    {
      "cell_type": "code",
      "source": [
        "design_matrix.shape"
      ],
      "metadata": {
        "colab": {
          "base_uri": "https://localhost:8080/"
        },
        "id": "2c9KXbCfQ2te",
        "outputId": "768752c7-88e9-4bcf-a65e-21c48ad27a8b"
      },
      "execution_count": null,
      "outputs": [
        {
          "output_type": "execute_result",
          "data": {
            "text/plain": [
              "(25, 10)"
            ]
          },
          "metadata": {},
          "execution_count": 7
        }
      ]
    },
    {
      "cell_type": "code",
      "source": [
        "# clue\n",
        "\n",
        "numpy.linalg.matrix_rank(design_matrix)"
      ],
      "metadata": {
        "colab": {
          "base_uri": "https://localhost:8080/"
        },
        "id": "ygZhN88u6jJa",
        "outputId": "9f9a2100-0e00-481d-b556-b1d1fa99fda1"
      },
      "execution_count": null,
      "outputs": [
        {
          "output_type": "execute_result",
          "data": {
            "text/plain": [
              "9"
            ]
          },
          "metadata": {},
          "execution_count": 8
        }
      ]
    },
    {
      "cell_type": "code",
      "source": [
        "simple_design = design_matrix[:,:-1]\n",
        "simple_design"
      ],
      "metadata": {
        "colab": {
          "base_uri": "https://localhost:8080/"
        },
        "id": "9_0q_QKP75D6",
        "outputId": "7f1704fe-a5d6-42db-a763-9f91aeb9dbd4"
      },
      "execution_count": null,
      "outputs": [
        {
          "output_type": "execute_result",
          "data": {
            "text/plain": [
              "array([[1., 0., 0., 0., 0., 1., 0., 0., 0.],\n",
              "       [0., 1., 0., 0., 0., 1., 0., 0., 0.],\n",
              "       [0., 0., 1., 0., 0., 1., 0., 0., 0.],\n",
              "       [0., 0., 0., 1., 0., 1., 0., 0., 0.],\n",
              "       [0., 0., 0., 0., 1., 1., 0., 0., 0.],\n",
              "       [1., 0., 0., 0., 0., 0., 1., 0., 0.],\n",
              "       [0., 1., 0., 0., 0., 0., 1., 0., 0.],\n",
              "       [0., 0., 1., 0., 0., 0., 1., 0., 0.],\n",
              "       [0., 0., 0., 1., 0., 0., 1., 0., 0.],\n",
              "       [0., 0., 0., 0., 1., 0., 1., 0., 0.],\n",
              "       [1., 0., 0., 0., 0., 0., 0., 1., 0.],\n",
              "       [0., 1., 0., 0., 0., 0., 0., 1., 0.],\n",
              "       [0., 0., 1., 0., 0., 0., 0., 1., 0.],\n",
              "       [0., 0., 0., 1., 0., 0., 0., 1., 0.],\n",
              "       [0., 0., 0., 0., 1., 0., 0., 1., 0.],\n",
              "       [1., 0., 0., 0., 0., 0., 0., 0., 1.],\n",
              "       [0., 1., 0., 0., 0., 0., 0., 0., 1.],\n",
              "       [0., 0., 1., 0., 0., 0., 0., 0., 1.],\n",
              "       [0., 0., 0., 1., 0., 0., 0., 0., 1.],\n",
              "       [0., 0., 0., 0., 1., 0., 0., 0., 1.],\n",
              "       [1., 0., 0., 0., 0., 0., 0., 0., 0.],\n",
              "       [0., 1., 0., 0., 0., 0., 0., 0., 0.],\n",
              "       [0., 0., 1., 0., 0., 0., 0., 0., 0.],\n",
              "       [0., 0., 0., 1., 0., 0., 0., 0., 0.],\n",
              "       [0., 0., 0., 0., 1., 0., 0., 0., 0.]])"
            ]
          },
          "metadata": {},
          "execution_count": 9
        }
      ]
    },
    {
      "cell_type": "code",
      "source": [
        "simple_design[5] - simple_design[-5]"
      ],
      "metadata": {
        "colab": {
          "base_uri": "https://localhost:8080/"
        },
        "id": "9uZcTha_9Mn0",
        "outputId": "14b113ad-0291-4367-c64c-caf590d20645"
      },
      "execution_count": null,
      "outputs": [
        {
          "output_type": "execute_result",
          "data": {
            "text/plain": [
              "array([0., 0., 0., 0., 0., 0., 1., 0., 0.])"
            ]
          },
          "metadata": {},
          "execution_count": 10
        }
      ]
    },
    {
      "cell_type": "code",
      "source": [
        "numpy.linalg.matrix_rank(simple_design)"
      ],
      "metadata": {
        "colab": {
          "base_uri": "https://localhost:8080/"
        },
        "id": "sAap7IJK8D4L",
        "outputId": "2cbcba95-4714-4fab-f2e0-544ddda52be1"
      },
      "execution_count": null,
      "outputs": [
        {
          "output_type": "execute_result",
          "data": {
            "text/plain": [
              "9"
            ]
          },
          "metadata": {},
          "execution_count": 11
        }
      ]
    },
    {
      "cell_type": "markdown",
      "source": [
        "why when we have a categorical variable I have to drop one?\n",
        "Why was this not a prob in earlier sheet (with only company var)?"
      ],
      "metadata": {
        "id": "EfwouaRU8d1O"
      }
    },
    {
      "cell_type": "code",
      "source": [
        "actual_weights = numpy.random.rand(design_matrix.shape[1])\n",
        "actual_weights"
      ],
      "metadata": {
        "colab": {
          "base_uri": "https://localhost:8080/"
        },
        "id": "wHf5zqygQ5xp",
        "outputId": "20bf9195-5672-4031-b168-1e2f9ad4cb7b"
      },
      "execution_count": null,
      "outputs": [
        {
          "output_type": "execute_result",
          "data": {
            "text/plain": [
              "array([0.49438635, 0.96127607, 0.68903768, 0.37766722, 0.96271467,\n",
              "       0.68329706, 0.94725229, 0.62263098, 0.15497216, 0.42624825])"
            ]
          },
          "metadata": {},
          "execution_count": 12
        }
      ]
    },
    {
      "cell_type": "code",
      "source": [
        "outcomes = numpy.dot(design_matrix, actual_weights)\n",
        "outcomes"
      ],
      "metadata": {
        "colab": {
          "base_uri": "https://localhost:8080/"
        },
        "id": "Skx49voiRCVl",
        "outputId": "8e5d66e2-63db-4180-fc32-2aee23db0be3"
      },
      "execution_count": null,
      "outputs": [
        {
          "output_type": "execute_result",
          "data": {
            "text/plain": [
              "array([1.17768341, 1.64457313, 1.37233474, 1.06096427, 1.64601173,\n",
              "       1.44163864, 1.90852836, 1.63628997, 1.32491951, 1.90996696,\n",
              "       1.11701733, 1.58390705, 1.31166866, 1.0002982 , 1.58534565,\n",
              "       0.64935851, 1.11624823, 0.84400984, 0.53263938, 1.11768683,\n",
              "       0.9206346 , 1.38752432, 1.11528593, 0.80391547, 1.38896292])"
            ]
          },
          "metadata": {},
          "execution_count": 13
        }
      ]
    },
    {
      "cell_type": "code",
      "source": [
        "outcomes += (numpy.random.rand(outcomes.shape[0]) - .5) * NOISE\n",
        "outcomes"
      ],
      "metadata": {
        "colab": {
          "base_uri": "https://localhost:8080/"
        },
        "id": "xx5rqATcRJxd",
        "outputId": "8847d7b0-4c82-44bd-fc84-89a43ac39af2"
      },
      "execution_count": null,
      "outputs": [
        {
          "output_type": "execute_result",
          "data": {
            "text/plain": [
              "array([1.17768341, 1.64457313, 1.37233474, 1.06096427, 1.64601173,\n",
              "       1.44163864, 1.90852836, 1.63628997, 1.32491951, 1.90996696,\n",
              "       1.11701733, 1.58390705, 1.31166866, 1.0002982 , 1.58534565,\n",
              "       0.64935851, 1.11624823, 0.84400984, 0.53263938, 1.11768683,\n",
              "       0.9206346 , 1.38752432, 1.11528593, 0.80391547, 1.38896292])"
            ]
          },
          "metadata": {},
          "execution_count": 14
        }
      ]
    },
    {
      "cell_type": "code",
      "source": [
        "# design_matrix[:,-1] = 0"
      ],
      "metadata": {
        "id": "eYfoEogCAqVc"
      },
      "execution_count": null,
      "outputs": []
    },
    {
      "cell_type": "code",
      "source": [
        "# HAT MATRIX SECTION\n",
        "\n",
        "design_matrix.T"
      ],
      "metadata": {
        "colab": {
          "base_uri": "https://localhost:8080/"
        },
        "id": "FOFOrcXwv-S8",
        "outputId": "6fa96448-3010-4ba8-e812-003af0757863"
      },
      "execution_count": null,
      "outputs": [
        {
          "output_type": "execute_result",
          "data": {
            "text/plain": [
              "array([[1., 0., 0., 0., 0., 1., 0., 0., 0., 0., 1., 0., 0., 0., 0., 1.,\n",
              "        0., 0., 0., 0., 1., 0., 0., 0., 0.],\n",
              "       [0., 1., 0., 0., 0., 0., 1., 0., 0., 0., 0., 1., 0., 0., 0., 0.,\n",
              "        1., 0., 0., 0., 0., 1., 0., 0., 0.],\n",
              "       [0., 0., 1., 0., 0., 0., 0., 1., 0., 0., 0., 0., 1., 0., 0., 0.,\n",
              "        0., 1., 0., 0., 0., 0., 1., 0., 0.],\n",
              "       [0., 0., 0., 1., 0., 0., 0., 0., 1., 0., 0., 0., 0., 1., 0., 0.,\n",
              "        0., 0., 1., 0., 0., 0., 0., 1., 0.],\n",
              "       [0., 0., 0., 0., 1., 0., 0., 0., 0., 1., 0., 0., 0., 0., 1., 0.,\n",
              "        0., 0., 0., 1., 0., 0., 0., 0., 1.],\n",
              "       [1., 1., 1., 1., 1., 0., 0., 0., 0., 0., 0., 0., 0., 0., 0., 0.,\n",
              "        0., 0., 0., 0., 0., 0., 0., 0., 0.],\n",
              "       [0., 0., 0., 0., 0., 1., 1., 1., 1., 1., 0., 0., 0., 0., 0., 0.,\n",
              "        0., 0., 0., 0., 0., 0., 0., 0., 0.],\n",
              "       [0., 0., 0., 0., 0., 0., 0., 0., 0., 0., 1., 1., 1., 1., 1., 0.,\n",
              "        0., 0., 0., 0., 0., 0., 0., 0., 0.],\n",
              "       [0., 0., 0., 0., 0., 0., 0., 0., 0., 0., 0., 0., 0., 0., 0., 1.,\n",
              "        1., 1., 1., 1., 0., 0., 0., 0., 0.],\n",
              "       [0., 0., 0., 0., 0., 0., 0., 0., 0., 0., 0., 0., 0., 0., 0., 0.,\n",
              "        0., 0., 0., 0., 1., 1., 1., 1., 1.]])"
            ]
          },
          "metadata": {},
          "execution_count": 16
        }
      ]
    },
    {
      "cell_type": "code",
      "source": [
        "# covariance matrix\n",
        "\n",
        "numpy.dot(design_matrix.T, design_matrix)"
      ],
      "metadata": {
        "colab": {
          "base_uri": "https://localhost:8080/"
        },
        "id": "RhlrR-AdwGuc",
        "outputId": "77161769-d2e4-4c9f-a5ce-e97fd976f3f8"
      },
      "execution_count": null,
      "outputs": [
        {
          "output_type": "execute_result",
          "data": {
            "text/plain": [
              "array([[5., 0., 0., 0., 0., 1., 1., 1., 1., 1.],\n",
              "       [0., 5., 0., 0., 0., 1., 1., 1., 1., 1.],\n",
              "       [0., 0., 5., 0., 0., 1., 1., 1., 1., 1.],\n",
              "       [0., 0., 0., 5., 0., 1., 1., 1., 1., 1.],\n",
              "       [0., 0., 0., 0., 5., 1., 1., 1., 1., 1.],\n",
              "       [1., 1., 1., 1., 1., 5., 0., 0., 0., 0.],\n",
              "       [1., 1., 1., 1., 1., 0., 5., 0., 0., 0.],\n",
              "       [1., 1., 1., 1., 1., 0., 0., 5., 0., 0.],\n",
              "       [1., 1., 1., 1., 1., 0., 0., 0., 5., 0.],\n",
              "       [1., 1., 1., 1., 1., 0., 0., 0., 0., 5.]])"
            ]
          },
          "metadata": {},
          "execution_count": 17
        }
      ]
    },
    {
      "cell_type": "code",
      "source": [
        "# precision matrix\n",
        "# look up mean if negs and pos\n",
        "\n",
        "numpy.linalg.pinv(numpy.dot(design_matrix.T, design_matrix))"
      ],
      "metadata": {
        "colab": {
          "base_uri": "https://localhost:8080/"
        },
        "id": "e0Wowy7LwLQr",
        "outputId": "6e4e7d71-ea09-4777-f256-65fa1cc859bd"
      },
      "execution_count": null,
      "outputs": [
        {
          "output_type": "execute_result",
          "data": {
            "text/plain": [
              "array([[ 0.17, -0.03, -0.03, -0.03, -0.03,  0.01,  0.01,  0.01,  0.01,\n",
              "         0.01],\n",
              "       [-0.03,  0.17, -0.03, -0.03, -0.03,  0.01,  0.01,  0.01,  0.01,\n",
              "         0.01],\n",
              "       [-0.03, -0.03,  0.17, -0.03, -0.03,  0.01,  0.01,  0.01,  0.01,\n",
              "         0.01],\n",
              "       [-0.03, -0.03, -0.03,  0.17, -0.03,  0.01,  0.01,  0.01,  0.01,\n",
              "         0.01],\n",
              "       [-0.03, -0.03, -0.03, -0.03,  0.17,  0.01,  0.01,  0.01,  0.01,\n",
              "         0.01],\n",
              "       [ 0.01,  0.01,  0.01,  0.01,  0.01,  0.17, -0.03, -0.03, -0.03,\n",
              "        -0.03],\n",
              "       [ 0.01,  0.01,  0.01,  0.01,  0.01, -0.03,  0.17, -0.03, -0.03,\n",
              "        -0.03],\n",
              "       [ 0.01,  0.01,  0.01,  0.01,  0.01, -0.03, -0.03,  0.17, -0.03,\n",
              "        -0.03],\n",
              "       [ 0.01,  0.01,  0.01,  0.01,  0.01, -0.03, -0.03, -0.03,  0.17,\n",
              "        -0.03],\n",
              "       [ 0.01,  0.01,  0.01,  0.01,  0.01, -0.03, -0.03, -0.03, -0.03,\n",
              "         0.17]])"
            ]
          },
          "metadata": {},
          "execution_count": 18
        }
      ]
    },
    {
      "cell_type": "markdown",
      "source": [
        "preceision and covariance matrix are inverses of each otehr"
      ],
      "metadata": {
        "id": "DcQZfpt85fNm"
      }
    },
    {
      "cell_type": "code",
      "source": [
        "numpy.dot(numpy.linalg.pinv(numpy.dot(design_matrix.T, design_matrix)), design_matrix.T)"
      ],
      "metadata": {
        "colab": {
          "base_uri": "https://localhost:8080/"
        },
        "id": "FsDgm4XpwUXl",
        "outputId": "8479d61c-d18e-42ef-d769-c0c86e03257a"
      },
      "execution_count": null,
      "outputs": [
        {
          "output_type": "execute_result",
          "data": {
            "text/plain": [
              "array([[ 0.18, -0.02, -0.02, -0.02, -0.02,  0.18, -0.02, -0.02, -0.02,\n",
              "        -0.02,  0.18, -0.02, -0.02, -0.02, -0.02,  0.18, -0.02, -0.02,\n",
              "        -0.02, -0.02,  0.18, -0.02, -0.02, -0.02, -0.02],\n",
              "       [-0.02,  0.18, -0.02, -0.02, -0.02, -0.02,  0.18, -0.02, -0.02,\n",
              "        -0.02, -0.02,  0.18, -0.02, -0.02, -0.02, -0.02,  0.18, -0.02,\n",
              "        -0.02, -0.02, -0.02,  0.18, -0.02, -0.02, -0.02],\n",
              "       [-0.02, -0.02,  0.18, -0.02, -0.02, -0.02, -0.02,  0.18, -0.02,\n",
              "        -0.02, -0.02, -0.02,  0.18, -0.02, -0.02, -0.02, -0.02,  0.18,\n",
              "        -0.02, -0.02, -0.02, -0.02,  0.18, -0.02, -0.02],\n",
              "       [-0.02, -0.02, -0.02,  0.18, -0.02, -0.02, -0.02, -0.02,  0.18,\n",
              "        -0.02, -0.02, -0.02, -0.02,  0.18, -0.02, -0.02, -0.02, -0.02,\n",
              "         0.18, -0.02, -0.02, -0.02, -0.02,  0.18, -0.02],\n",
              "       [-0.02, -0.02, -0.02, -0.02,  0.18, -0.02, -0.02, -0.02, -0.02,\n",
              "         0.18, -0.02, -0.02, -0.02, -0.02,  0.18, -0.02, -0.02, -0.02,\n",
              "        -0.02,  0.18, -0.02, -0.02, -0.02, -0.02,  0.18],\n",
              "       [ 0.18,  0.18,  0.18,  0.18,  0.18, -0.02, -0.02, -0.02, -0.02,\n",
              "        -0.02, -0.02, -0.02, -0.02, -0.02, -0.02, -0.02, -0.02, -0.02,\n",
              "        -0.02, -0.02, -0.02, -0.02, -0.02, -0.02, -0.02],\n",
              "       [-0.02, -0.02, -0.02, -0.02, -0.02,  0.18,  0.18,  0.18,  0.18,\n",
              "         0.18, -0.02, -0.02, -0.02, -0.02, -0.02, -0.02, -0.02, -0.02,\n",
              "        -0.02, -0.02, -0.02, -0.02, -0.02, -0.02, -0.02],\n",
              "       [-0.02, -0.02, -0.02, -0.02, -0.02, -0.02, -0.02, -0.02, -0.02,\n",
              "        -0.02,  0.18,  0.18,  0.18,  0.18,  0.18, -0.02, -0.02, -0.02,\n",
              "        -0.02, -0.02, -0.02, -0.02, -0.02, -0.02, -0.02],\n",
              "       [-0.02, -0.02, -0.02, -0.02, -0.02, -0.02, -0.02, -0.02, -0.02,\n",
              "        -0.02, -0.02, -0.02, -0.02, -0.02, -0.02,  0.18,  0.18,  0.18,\n",
              "         0.18,  0.18, -0.02, -0.02, -0.02, -0.02, -0.02],\n",
              "       [-0.02, -0.02, -0.02, -0.02, -0.02, -0.02, -0.02, -0.02, -0.02,\n",
              "        -0.02, -0.02, -0.02, -0.02, -0.02, -0.02, -0.02, -0.02, -0.02,\n",
              "        -0.02, -0.02,  0.18,  0.18,  0.18,  0.18,  0.18]])"
            ]
          },
          "metadata": {},
          "execution_count": 19
        }
      ]
    },
    {
      "cell_type": "code",
      "source": [
        "# change model to pred\n",
        "\n",
        "pred_weights = numpy.dot(numpy.dot(numpy.linalg.pinv(numpy.dot(design_matrix.T, design_matrix)), design_matrix.T), outcomes)\n",
        "pred_weights"
      ],
      "metadata": {
        "colab": {
          "base_uri": "https://localhost:8080/"
        },
        "id": "E1PQNHfrXgHD",
        "outputId": "14cc9fb9-5027-49bf-9b0a-fe38a0749eab"
      },
      "execution_count": null,
      "outputs": [
        {
          "output_type": "execute_result",
          "data": {
            "text/plain": [
              "array([0.42931823, 0.89620794, 0.62396956, 0.31259909, 0.89764655,\n",
              "       0.74836518, 1.01232042, 0.68769911, 0.22004028, 0.49131638])"
            ]
          },
          "metadata": {},
          "execution_count": 20
        }
      ]
    },
    {
      "cell_type": "code",
      "source": [
        "pyplot.plot([0,1], [0,1], 'r-')\n",
        "pyplot.plot(actual_weights, pred_weights, 'k.')\n",
        "\n",
        "pyplot.xlabel('Actual Weights')\n",
        "pyplot.ylabel('Predicted Weights')"
      ],
      "metadata": {
        "colab": {
          "base_uri": "https://localhost:8080/",
          "height": 467
        },
        "id": "Bq-GwOIrTAJ2",
        "outputId": "e7bd9ffa-ab90-418f-8981-aad1b7c0d356"
      },
      "execution_count": null,
      "outputs": [
        {
          "output_type": "execute_result",
          "data": {
            "text/plain": [
              "Text(0, 0.5, 'Predicted Weights')"
            ]
          },
          "metadata": {},
          "execution_count": 21
        },
        {
          "output_type": "display_data",
          "data": {
            "text/plain": [
              "<Figure size 640x480 with 1 Axes>"
            ],
            "image/png": "[encoded data removed]"
          },
          "metadata": {}
        }
      ]
    },
    {
      "cell_type": "markdown",
      "source": [
        "Set of boxes of code that give information about the variables we have so far"
      ],
      "metadata": {
        "id": "PPUNNsYbwt71"
      }
    },
    {
      "cell_type": "code",
      "source": [
        "# y = mx\n",
        "\n",
        "pred_outcomes = numpy.dot(design_matrix, pred_weights)\n",
        "pred_outcomes"
      ],
      "metadata": {
        "colab": {
          "base_uri": "https://localhost:8080/"
        },
        "id": "4YTooEqIYLPG",
        "outputId": "f03bcba8-11e8-43fd-b171-3218c4f239af"
      },
      "execution_count": null,
      "outputs": [
        {
          "output_type": "execute_result",
          "data": {
            "text/plain": [
              "array([1.17768341, 1.64457313, 1.37233474, 1.06096427, 1.64601173,\n",
              "       1.44163864, 1.90852836, 1.63628997, 1.32491951, 1.90996696,\n",
              "       1.11701733, 1.58390705, 1.31166866, 1.0002982 , 1.58534565,\n",
              "       0.64935851, 1.11624823, 0.84400984, 0.53263938, 1.11768683,\n",
              "       0.9206346 , 1.38752432, 1.11528593, 0.80391547, 1.38896292])"
            ]
          },
          "metadata": {},
          "execution_count": 22
        }
      ]
    },
    {
      "cell_type": "code",
      "source": [
        "rss = numpy.mean((pred_outcomes - outcomes)**2)\n",
        "rss"
      ],
      "metadata": {
        "colab": {
          "base_uri": "https://localhost:8080/"
        },
        "id": "a2_yho4w51bi",
        "outputId": "a74a7df2-d133-496f-e37c-57d11e28ef49"
      },
      "execution_count": null,
      "outputs": [
        {
          "output_type": "execute_result",
          "data": {
            "text/plain": [
              "3.0075322011551073e-31"
            ]
          },
          "metadata": {},
          "execution_count": 23
        }
      ]
    },
    {
      "cell_type": "code",
      "source": [
        "numpy.mean(actual_weights)"
      ],
      "metadata": {
        "colab": {
          "base_uri": "https://localhost:8080/"
        },
        "id": "eW-rXNHKRTl6",
        "outputId": "03d7e927-c2d3-4dfa-9254-028d7908ddf0"
      },
      "execution_count": null,
      "outputs": [
        {
          "output_type": "execute_result",
          "data": {
            "text/plain": [
              "0.6319482729285251"
            ]
          },
          "metadata": {},
          "execution_count": 24
        }
      ]
    },
    {
      "cell_type": "code",
      "source": [
        "numpy.var(actual_weights)"
      ],
      "metadata": {
        "colab": {
          "base_uri": "https://localhost:8080/"
        },
        "id": "bCsqXeCzzUMy",
        "outputId": "2b7182ab-83cb-4df8-e486-125fd376ef7e"
      },
      "execution_count": null,
      "outputs": [
        {
          "output_type": "execute_result",
          "data": {
            "text/plain": [
              "0.06766633910545204"
            ]
          },
          "metadata": {},
          "execution_count": 25
        }
      ]
    },
    {
      "cell_type": "code",
      "source": [
        "# dollar for dollar, if i estimate one paramter incorrectly, how much is the average error\n",
        "\n",
        "numpy.mean(actual_weights - pred_weights)"
      ],
      "metadata": {
        "colab": {
          "base_uri": "https://localhost:8080/"
        },
        "id": "82KVYHtYXKO1",
        "outputId": "bcf54f70-c619-439e-fe5f-bc441ce974c5"
      },
      "execution_count": null,
      "outputs": [
        {
          "output_type": "execute_result",
          "data": {
            "text/plain": [
              "-1.0824674490095276e-16"
            ]
          },
          "metadata": {},
          "execution_count": 26
        }
      ]
    },
    {
      "cell_type": "markdown",
      "source": [
        "this just says give me measure of spread of how diff models weights are from actual weights\n",
        "- cant do this in real life but its good for learning intuition"
      ],
      "metadata": {
        "id": "now-Jyt919SG"
      }
    },
    {
      "cell_type": "code",
      "source": [
        "# if my model is recapitulating my data, these should very similar\n",
        "# if i have more noise, they'll be different\n",
        "\n",
        "numpy.var(actual_weights - pred_weights)"
      ],
      "metadata": {
        "colab": {
          "base_uri": "https://localhost:8080/"
        },
        "id": "JescEqDMYGkm",
        "outputId": "b432852d-7cf3-43df-9bb9-932a4dfa7455"
      },
      "execution_count": null,
      "outputs": [
        {
          "output_type": "execute_result",
          "data": {
            "text/plain": [
              "0.004233860840352848"
            ]
          },
          "metadata": {},
          "execution_count": 27
        }
      ]
    },
    {
      "cell_type": "code",
      "source": [
        "# basically saying spread around mean is 6 cents per dollar\n",
        "# if perfect this would be 0\n",
        "\n",
        "numpy.std(actual_weights - pred_weights)"
      ],
      "metadata": {
        "colab": {
          "base_uri": "https://localhost:8080/"
        },
        "id": "BxDSbqaD2H3x",
        "outputId": "69a06841-4452-4477-d4f1-0937028ee58c"
      },
      "execution_count": null,
      "outputs": [
        {
          "output_type": "execute_result",
          "data": {
            "text/plain": [
              "0.06506812461069435"
            ]
          },
          "metadata": {},
          "execution_count": 28
        }
      ]
    },
    {
      "cell_type": "code",
      "source": [],
      "metadata": {
        "id": "9R375J6v3TK6"
      },
      "execution_count": null,
      "outputs": []
    }
  ]
}